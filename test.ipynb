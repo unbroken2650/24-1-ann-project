{
 "cells": [
  {
   "cell_type": "code",
   "execution_count": 21,
   "metadata": {},
   "outputs": [
    {
     "name": "stdout",
     "output_type": "stream",
     "text": [
      "3636/3636 [==============================] - 40s 11ms/step - loss: 0.3384 - accuracy: 0.8727\n",
      "Loss: 0.33835020661354065\n",
      "Accuracy: 0.8726637959480286\n"
     ]
    }
   ],
   "source": [
    "import os\n",
    "import numpy as np\n",
    "import pandas as pd\n",
    "import tensorflow as tf\n",
    "import matplotlib.pyplot as plt\n",
    "\n",
    "# Set the device for CUDA\n",
    "os.environ[\"CUDA_VISIBLE_DEVICES\"] = \"1\"\n",
    "\n",
    "# Load test data\n",
    "test_data = pd.read_csv('../../../../mnt/sda/suhohan/emnist/emnist-byclass-test.csv')\n",
    "num_test_samples = test_data.shape[0]\n",
    "\n",
    "# Prepare the test data\n",
    "x_test = test_data.iloc[:, 1:].to_numpy().reshape((num_test_samples, 28, 28, 1))\n",
    "x_test_resized = tf.image.resize(x_test, [32, 32])\n",
    "x_test_rgb = tf.repeat(x_test_resized, 3, axis=3)\n",
    "y_test = tf.keras.utils.to_categorical(test_data.iloc[:, 0], 62)\n",
    "# Indexing to get a specific example\n",
    "\n",
    "# Model loading\n",
    "model = tf.keras.models.load_model('./checkpoints_resnet/weights.1714736836.7261658.hdf5')\n",
    "loss_resnet, acc_resnet = model.evaluate(x_test_rgb, y_test)\n",
    "\n",
    "# Results output\n",
    "print(\"Loss:\", loss_resnet)\n",
    "print(\"Accuracy:\", acc_resnet)\n"
   ]
  },
  {
   "cell_type": "code",
   "execution_count": 22,
   "metadata": {},
   "outputs": [
    {
     "name": "stdout",
     "output_type": "stream",
     "text": [
      "3636/3636 [==============================] - 11s 3ms/step - loss: 0.3666 - accuracy: 0.8653\n",
      "Loss: 0.36661601066589355\n",
      "Accuracy: 0.8652705550193787\n"
     ]
    }
   ],
   "source": [
    "import os\n",
    "import numpy as np\n",
    "import pandas as pd\n",
    "import tensorflow as tf\n",
    "import matplotlib.pyplot as plt\n",
    "\n",
    "# Set the device for CUDA\n",
    "os.environ[\"CUDA_VISIBLE_DEVICES\"] = \"1\"\n",
    "\n",
    "# Load test data\n",
    "test_data = pd.read_csv('../../../../mnt/sda/suhohan/emnist/emnist-byclass-test.csv')\n",
    "num_test_samples = test_data.shape[0]\n",
    "\n",
    "# Prepare the test data\n",
    "x_test = test_data.iloc[:, 1:].to_numpy().reshape((num_test_samples, 28, 28, 1))\n",
    "y_test = tf.keras.utils.to_categorical(test_data.iloc[:, 0], 62)\n",
    "# Indexing to get a specific example\n",
    "\n",
    "# Model loading\n",
    "model = tf.keras.models.load_model('./checkpoints_lenet/weights.1714736836.7261548.hdf5')\n",
    "loss_lenet, acc_lenet = model.evaluate(x_test, y_test)\n",
    "\n",
    "# Results output\n",
    "print(\"Loss:\", loss_lenet)\n",
    "print(\"Accuracy:\", acc_lenet)\n"
   ]
  }
 ],
 "metadata": {
  "language_info": {
   "name": "python"
  }
 },
 "nbformat": 4,
 "nbformat_minor": 2
}
