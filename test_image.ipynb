{
 "cells": [
  {
   "cell_type": "code",
   "execution_count": 13,
   "metadata": {},
   "outputs": [
    {
     "name": "stdout",
     "output_type": "stream",
     "text": [
      "WARNING:tensorflow:5 out of the last 5 calls to <function Model.make_predict_function.<locals>.predict_function at 0x7fa4903df060> triggered tf.function retracing. Tracing is expensive and the excessive number of tracings could be due to (1) creating @tf.function repeatedly in a loop, (2) passing tensors with different shapes, (3) passing Python objects instead of tensors. For (1), please define your @tf.function outside of the loop. For (2), @tf.function has reduce_retracing=True option that can avoid unnecessary retracing. For (3), please refer to https://www.tensorflow.org/guide/function#controlling_retracing and https://www.tensorflow.org/api_docs/python/tf/function for  more details.\n",
      "1/1 [==============================] - 1s 853ms/step\n",
      "Actual label: 36\n",
      "Predicted class: [36]\n"
     ]
    }
   ],
   "source": [
    "import os\n",
    "import numpy as np\n",
    "import pandas as pd\n",
    "import tensorflow as tf\n",
    "import matplotlib.pyplot as plt\n",
    "\n",
    "# Set the device for CUDA\n",
    "os.environ[\"CUDA_VISIBLE_DEVICES\"] = \"1\"\n",
    "\n",
    "# Load test data\n",
    "test_data = pd.read_csv('../../../../mnt/sda/suhohan/emnist/emnist-byclass-test.csv')\n",
    "num_test_samples = test_data.shape[0]\n",
    "\n",
    "# Prepare the test data\n",
    "x_test = test_data.iloc[:, 1:].to_numpy().reshape((num_test_samples, 28, 28, 1))\n",
    "x_test_resized = tf.image.resize(x_test, [32, 32])\n",
    "x_test_rgb = tf.repeat(x_test_resized, 3, axis=3)\n",
    "\n",
    "# Indexing to get a specific example\n",
    "index = 0\n",
    "sample_image = x_test_rgb[index]\n",
    "sample_label = test_data.iloc[:, 0][0]\n",
    "\n",
    "# Model loading\n",
    "model = tf.keras.models.load_model('./checkpoints_resnet/weights.1714736836.7261658.hdf5')\n",
    "\n",
    "# Ensure the single image is formatted as a batch\n",
    "sample_image = np.expand_dims(sample_image, axis=0)\n",
    "\n",
    "# Model prediction\n",
    "predictions = model.predict(sample_image)\n",
    "predicted_class = np.argmax(predictions, axis=1)\n",
    "\n",
    "# Results output\n",
    "print(\"Actual label:\", sample_label)\n",
    "print(\"Predicted class:\", predicted_class)\n"
   ]
  },
  {
   "cell_type": "code",
   "execution_count": 19,
   "metadata": {},
   "outputs": [
    {
     "data": {
      "image/png": "[encoded data removed]",
      "text/plain": [
       "<Figure size 640x480 with 1 Axes>"
      ]
     },
     "metadata": {},
     "output_type": "display_data"
    },
    {
     "name": "stdout",
     "output_type": "stream",
     "text": [
      "36\n"
     ]
    }
   ],
   "source": [
    "im = plt.imshow(sample_image[0,:,:,0], cmap='gray')\n",
    "plt.show()\n",
    "print(sample_label)"
   ]
  },
  {
   "cell_type": "code",
   "execution_count": 17,
   "metadata": {},
   "outputs": [
    {
     "name": "stdout",
     "output_type": "stream",
     "text": [
      "WARNING:tensorflow:6 out of the last 6 calls to <function Model.make_predict_function.<locals>.predict_function at 0x7fa4c349ede0> triggered tf.function retracing. Tracing is expensive and the excessive number of tracings could be due to (1) creating @tf.function repeatedly in a loop, (2) passing tensors with different shapes, (3) passing Python objects instead of tensors. For (1), please define your @tf.function outside of the loop. For (2), @tf.function has reduce_retracing=True option that can avoid unnecessary retracing. For (3), please refer to https://www.tensorflow.org/guide/function#controlling_retracing and https://www.tensorflow.org/api_docs/python/tf/function for  more details.\n",
      "1/1 [==============================] - 0s 254ms/step\n",
      "Actual label: 36\n",
      "Predicted class: [36]\n"
     ]
    }
   ],
   "source": [
    "import os\n",
    "import numpy as np\n",
    "import pandas as pd\n",
    "import tensorflow as tf\n",
    "import matplotlib.pyplot as plt\n",
    "\n",
    "# Set the device for CUDA\n",
    "os.environ[\"CUDA_VISIBLE_DEVICES\"] = \"1\"\n",
    "\n",
    "# Load test data\n",
    "test_data = pd.read_csv('../../../../mnt/sda/suhohan/emnist/emnist-byclass-test.csv')\n",
    "num_test_samples = test_data.shape[0]\n",
    "\n",
    "# Prepare the test data\n",
    "x_test = test_data.iloc[:, 1:].to_numpy().reshape((num_test_samples, 28, 28, 1))\n",
    "# Indexing to get a specific example\n",
    "index = 0\n",
    "sample_image = x_test[index]\n",
    "sample_label = test_data.iloc[:, 0][0]\n",
    "\n",
    "# Model loading\n",
    "model = tf.keras.models.load_model('./checkpoints_lenet/weights.1714736836.7261548.hdf5')\n",
    "\n",
    "# Ensure the single image is formatted as a batch\n",
    "sample_image = np.expand_dims(sample_image, axis=0)\n",
    "\n",
    "# Model prediction\n",
    "predictions = model.predict(sample_image)\n",
    "predicted_class = np.argmax(predictions, axis=1)\n",
    "\n",
    "# Results output\n",
    "print(\"Actual label:\", sample_label)\n",
    "print(\"Predicted class:\", predicted_class)\n"
   ]
  },
  {
   "cell_type": "code",
   "execution_count": 18,
   "metadata": {},
   "outputs": [
    {
     "data": {
      "image/png": "[encoded data removed]",
      "text/plain": [
       "<Figure size 640x480 with 1 Axes>"
      ]
     },
     "metadata": {},
     "output_type": "display_data"
    },
    {
     "name": "stdout",
     "output_type": "stream",
     "text": [
      "36\n"
     ]
    }
   ],
   "source": [
    "im = plt.imshow(sample_image[0,:,:,0], cmap='gray')\n",
    "plt.show()\n",
    "print(sample_label)"
   ]
  },
  {
   "cell_type": "code",
   "execution_count": null,
   "metadata": {},
   "outputs": [],
   "source": []
  }
 ],
 "metadata": {
  "kernelspec": {
   "display_name": "ann",
   "language": "python",
   "name": "python3"
  },
  "language_info": {
   "codemirror_mode": {
    "name": "ipython",
    "version": 3
   },
   "file_extension": ".py",
   "mimetype": "text/x-python",
   "name": "python",
   "nbconvert_exporter": "python",
   "pygments_lexer": "ipython3",
   "version": "3.11.0"
  }
 },
 "nbformat": 4,
 "nbformat_minor": 2
}
