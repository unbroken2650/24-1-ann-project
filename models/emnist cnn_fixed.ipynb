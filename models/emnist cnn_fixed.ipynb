{
  "cells": [
    {
      "cell_type": "code",
      "execution_count": null,
      "metadata": {
        "id": "paTQndvOsqP0"
      },
      "outputs": [],
      "source": [
        "from sklearn.model_selection import train_test_split\n",
        "import matplotlib.pyplot as plt\n",
        "from tqdm import tqdm\n",
        "import pandas as pd\n",
        "import gzip\n",
        "import numpy as np\n",
        "import tensorflow as tf\n",
        "from keras.models import Model\n",
        "from keras.layers import Conv2D, AveragePooling2D, Flatten, Dense, Dropout, ELU, BatchNormalization, PReLU, Add, Input, GlobalAveragePooling2D, ReLU\n",
        "from keras.optimizers import Adam\n",
        "from keras.callbacks import ReduceLROnPlateau\n",
        "import os\n",
        "os.environ[\"CUDA_VISIBLE_DEVICES\"] = \"2\"\n",
        "\n",
        "train_file_path = '../../../../mnt/sda/suhohan/emnist/emnist-balanced-train.csv'\n",
        "test_file_path = '../../../../mnt/sda/suhohan/emnist/emnist-balanced-test.csv'\n",
        "\n",
        "chunk_size = 10000\n",
        "train_data_iter = pd.read_csv(train_file_path, chunksize=chunk_size)\n",
        "train_data = pd.concat([chunk for chunk in tqdm(train_data_iter, desc='Loading training data')])\n",
        "test_data_iter = pd.read_csv(test_file_path, chunksize=chunk_size)\n",
        "test_data = pd.concat([chunk for chunk in tqdm(test_data_iter, desc='Loading test data')])\n",
        "\n",
        "print(train_data.shape, test_data.shape)\n",
        "\n",
        "# 데이터의 차원과 크기를 정확히 파악\n",
        "num_train_samples = train_data.shape[0]\n",
        "num_test_samples = test_data.shape[0]\n",
        "\n",
        "# 데이터 준비\n",
        "x_train = train_data.iloc[:, 1:].to_numpy().reshape((num_train_samples, 28, 28, 1))\n",
        "x_test = test_data.iloc[:, 1:].to_numpy().reshape((num_test_samples, 28, 28, 1))\n",
        "y_train = train_data.iloc[:, 0].to_numpy()\n",
        "y_test = test_data.iloc[:, 0].to_numpy()\n",
        "\n",
        "x_train, x_valid, y_train, y_valid = train_test_split(x_train, y_train, test_size=0.1, random_state=42)\n",
        "\n",
        "print(\"x_train shape:\", x_train.shape)\n",
        "print(\"x_test shape:\", x_test.shape)\n",
        "print(\"x_valid shape:\", x_valid.shape)\n",
        "print(\"y_train shape:\", y_train.shape)\n",
        "print(\"y_test shape:\", y_test.shape)\n",
        "print(\"y_valid shape:\", y_valid.shape)"
      ]
    },
    {
      "cell_type": "code",
      "execution_count": null,
      "metadata": {
        "id": "26jEHv5h7mL-"
      },
      "outputs": [],
      "source": [
        "def residual_block(x, filters, kernel_size=3, stride=1):\n",
        "    y = Conv2D(filters, kernel_size, strides=stride, padding='same')(x)\n",
        "    y = BatchNormalization()(y)\n",
        "    y = PReLU()(y)\n",
        "    y = Conv2D(filters, kernel_size, strides=1, padding='same')(y)\n",
        "    y = BatchNormalization()(y)\n",
        "\n",
        "    if stride != 1 or x.shape[-1] != filters:\n",
        "        x = Conv2D(filters, 1, strides=stride, padding='same')(x)\n",
        "        x = BatchNormalization()(x)\n",
        "\n",
        "    out = Add()([x, y])\n",
        "    out = PReLU()(out)\n",
        "    return out\n",
        "\n",
        "\n",
        "input = Input(shape=(28, 28, 1))\n",
        "x = Conv2D(32, (3, 3), padding='same')(input)\n",
        "x = BatchNormalization()(x)\n",
        "x = PReLU()(x)\n",
        "x = Dropout(0.33)(x)\n",
        "x = AveragePooling2D(pool_size=2, strides=2, padding='valid')(x)\n",
        "\n",
        "x = residual_block(x, 64)\n",
        "x = Dropout(0.33)(x)\n",
        "x = AveragePooling2D(pool_size=2, strides=2, padding='valid')(x)\n",
        "\n",
        "x = residual_block(x, 128)\n",
        "x = Dropout(0.33)(x)\n",
        "x = AveragePooling2D(pool_size=2, strides=2, padding='valid')(x)\n",
        "\n",
        "x = residual_block(x, 256)\n",
        "x = Dropout(0.33)(x)\n",
        "x = AveragePooling2D(pool_size=2, strides=2, padding='valid')(x)\n",
        "\n",
        "x = Flatten()(x)\n",
        "x = Dense(512)(x)\n",
        "x = BatchNormalization()(x)\n",
        "x = PReLU()(x)\n",
        "x = Dropout(0.6)(x)\n",
        "\n",
        "output = Dense(47, activation='softmax')(x)\n",
        "\n",
        "model = Model(inputs=input, outputs=output)"
      ]
    },
    {
      "cell_type": "code",
      "execution_count": null,
      "metadata": {},
      "outputs": [],
      "source": [
        "model.summary()"
      ]
    },
    {
      "cell_type": "code",
      "execution_count": null,
      "metadata": {
        "colab": {
          "base_uri": "https://localhost:8080/"
        },
        "id": "fPq_U6u2tjME",
        "outputId": "49f8e13f-ed48-4db1-a998-c0f3d0829233"
      },
      "outputs": [],
      "source": [
        "optimizer = Adam(learning_rate=0.001)\n",
        "reduce_lr = ReduceLROnPlateau(monitor='val_loss', factor=0.5, patience=3, min_lr=0.000001)\n",
        "\n",
        "# 모델 컴파일\n",
        "model.compile(optimizer=optimizer, loss='sparse_categorical_crossentropy', metrics=['accuracy'])\n",
        "\n",
        "# 모델 학습\n",
        "history = model.fit(x_train, y_train, validation_data=(x_valid, y_valid),\n",
        "                    epochs=50, callbacks=[reduce_lr], batch_size=500)\n",
        "\n",
        "# 모델 평가\n",
        "test_loss, test_acc = model.evaluate(x_test, y_test)\n",
        "print(f'Test accuracy: {test_acc}')"
      ]
    },
    {
      "cell_type": "code",
      "execution_count": null,
      "metadata": {
        "colab": {
          "base_uri": "https://localhost:8080/",
          "height": 492
        },
        "id": "bgX59k6F3SsF",
        "outputId": "5f62249e-df1f-4200-d5db-2fc6f669ce92"
      },
      "outputs": [],
      "source": [
        "plt.plot(history.history['loss'], label='loss')\n",
        "plt.plot(history.history['val_loss'], label='val_loss')\n",
        "plt.xlabel('Epoch')\n",
        "plt.ylabel('Loss')\n",
        "plt.ylim([0, 1])\n",
        "plt.legend(loc='lower right')\n",
        "plt.show()\n",
        "\n",
        "test_loss, test_acc = model.evaluate(x_test, y_test, verbose=2)\n",
        "print(f\"Test accuracy: {test_acc}\")"
      ]
    },
    {
      "cell_type": "markdown",
      "metadata": {},
      "source": []
    }
  ],
  "metadata": {
    "accelerator": "GPU",
    "colab": {
      "gpuType": "A100",
      "machine_shape": "hm",
      "provenance": []
    },
    "kernelspec": {
      "display_name": "Python 3",
      "name": "python3"
    },
    "language_info": {
      "codemirror_mode": {
        "name": "ipython",
        "version": 3
      },
      "file_extension": ".py",
      "mimetype": "text/x-python",
      "name": "python",
      "nbconvert_exporter": "python",
      "pygments_lexer": "ipython3",
      "version": "3.10.14"
    }
  },
  "nbformat": 4,
  "nbformat_minor": 0
}
