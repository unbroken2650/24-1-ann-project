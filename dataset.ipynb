{
 "cells": [
  {
   "cell_type": "code",
   "execution_count": 2,
   "metadata": {},
   "outputs": [
    {
     "name": "stderr",
     "output_type": "stream",
     "text": [
      "Loading training data: 0it [00:00, ?it/s]"
     ]
    },
    {
     "name": "stderr",
     "output_type": "stream",
     "text": [
      "Loading training data: 70it [00:14,  4.70it/s]\n",
      "Loading test data: 12it [00:02,  4.79it/s]\n"
     ]
    },
    {
     "name": "stdout",
     "output_type": "stream",
     "text": [
      "Train Dataset:628137.9\n",
      "Train Dataset:69793.1\n",
      "Test Dataset:116322\n"
     ]
    }
   ],
   "source": [
    "import pandas as pd\n",
    "from tqdm import tqdm\n",
    "train_file_path = '../../../../mnt/sda/suhohan/emnist/emnist-byclass-train.csv'\n",
    "test_file_path = '../../../../mnt/sda/suhohan/emnist/emnist-byclass-test.csv'\n",
    "\n",
    "chunk_size = 10000\n",
    "train_data_iter = pd.read_csv(train_file_path, chunksize=chunk_size)\n",
    "train_data = pd.concat([chunk for chunk in tqdm(train_data_iter, desc='Loading training data')])\n",
    "test_data_iter = pd.read_csv(test_file_path, chunksize=chunk_size)\n",
    "test_data = pd.concat([chunk for chunk in tqdm(test_data_iter, desc='Loading test data')])\n",
    "\n",
    "# Data dimensions and sizes\n",
    "num_train_samples = train_data.shape[0]\n",
    "num_test_samples = test_data.shape[0]\n",
    "print(f\"Train Dataset:{num_train_samples*0.9}\")\n",
    "print(f\"Valid Dataset:{num_train_samples*0.1}\")\n",
    "print(f\"Test Dataset:{num_test_samples}\")"
   ]
  },
  {
   "cell_type": "code",
   "execution_count": null,
   "metadata": {},
   "outputs": [],
   "source": []
  }
 ],
 "metadata": {
  "kernelspec": {
   "display_name": "ann",
   "language": "python",
   "name": "python3"
  },
  "language_info": {
   "codemirror_mode": {
    "name": "ipython",
    "version": 3
   },
   "file_extension": ".py",
   "mimetype": "text/x-python",
   "name": "python",
   "nbconvert_exporter": "python",
   "pygments_lexer": "ipython3",
   "version": "3.10.14"
  }
 },
 "nbformat": 4,
 "nbformat_minor": 2
}
