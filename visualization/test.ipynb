{
 "cells": [
  {
   "cell_type": "code",
   "execution_count": 7,
   "metadata": {},
   "outputs": [],
   "source": [
    "import os\n",
    "import numpy as np\n",
    "import pandas as pd\n",
    "import tensorflow as tf\n",
    "import matplotlib.pyplot as plt\n",
    "\n",
    "os.environ[\"CUDA_VISIBLE_DEVICES\"] = \"2\"\n",
    "\n",
    "test_data = pd.read_csv('../../../../mnt/sda/suhohan/emnist/emnist-byclass-test.csv')\n",
    "num_test_samples = test_data.shape[0]\n",
    "\n",
    "x_test = test_data.iloc[:, 1:].to_numpy().reshape((num_test_samples, 28, 28, 1))\n",
    "y_test = tf.keras.utils.to_categorical(test_data.iloc[:, 0], 62)\n",
    "y_test_int = test_data.iloc[:, 0].to_numpy()\n",
    "\n",
    "x_test_corrected = np.array([np.fliplr(np.rot90(img.reshape(28, 28), k=3))\n",
    "                            for img in x_test]).reshape(num_test_samples, 28, 28, 1)"
   ]
  },
  {
   "cell_type": "code",
   "execution_count": null,
   "metadata": {},
   "outputs": [],
   "source": [
    "x_test_resized = tf.image.resize(x_test_corrected, [32, 32])\n",
    "x_test_resized = tf.cast(x_test_resized, tf.float32)\n",
    "x_test_resized_np = x_test_resized.numpy()"
   ]
  },
  {
   "cell_type": "code",
   "execution_count": 8,
   "metadata": {},
   "outputs": [],
   "source": [
    "def get_latest_model_file(checkpoint_dir):\n",
    "    files = [f for f in os.listdir(checkpoint_dir) if f.endswith('.hdf5')]\n",
    "    files.sort(key=lambda x: os.path.getmtime(os.path.join(checkpoint_dir, x)), reverse=True)\n",
    "    return os.path.join(checkpoint_dir, files[0]) if files else None"
   ]
  },
  {
   "cell_type": "code",
   "execution_count": 9,
   "metadata": {},
   "outputs": [],
   "source": [
    "def label_to_char(label):\n",
    "    if 0 <= label <= 9:\n",
    "        return str(label)\n",
    "    elif 10 <= label <= 35:\n",
    "        return chr(label + 87)\n",
    "    elif 36 <= label <= 61:\n",
    "        return chr(label + 29)\n",
    "    else:\n",
    "        raise ValueError(f\"Unexpected label: {label}\")"
   ]
  },
  {
   "cell_type": "markdown",
   "metadata": {},
   "source": [
    "# LeNet-5"
   ]
  },
  {
   "cell_type": "code",
   "execution_count": null,
   "metadata": {},
   "outputs": [],
   "source": [
    "checkpoint_dir = './checkpoints/checkpoints_lenet/'\n",
    "latest_model_file = get_latest_model_file(checkpoint_dir)\n",
    "\n",
    "if latest_model_file:\n",
    "    print(f\"Loading model from: {latest_model_file}\")\n",
    "    model = tf.keras.models.load_model(latest_model_file)\n",
    "    loss_lenet, acc_lenet = model.evaluate(x_test_corrected, y_test_int)\n",
    "    print(\"Loss:\", loss_lenet)\n",
    "    print(\"Accuracy:\", acc_lenet)\n",
    "else:\n",
    "    print(\"No model files found in the checkpoint directory.\")"
   ]
  },
  {
   "cell_type": "code",
   "execution_count": null,
   "metadata": {},
   "outputs": [],
   "source": [
    "num_samples = 200\n",
    "sample_indices = np.random.choice(num_test_samples, num_samples, replace=False)\n",
    "sample_images = x_test_corrected[sample_indices]\n",
    "sample_labels = y_test_int[sample_indices]\n",
    "\n",
    "predicted_labels = model.predict(sample_images)\n",
    "predicted_labels_int = np.argmax(predicted_labels, axis=1)\n",
    "\n",
    "correct_indices = np.where(predicted_labels_int == sample_labels)[0]\n",
    "incorrect_indices = np.where(predicted_labels_int != sample_labels)[0]\n",
    "\n",
    "correct_images = sample_images[correct_indices]\n",
    "correct_labels = sample_labels[correct_indices]\n",
    "correct_predictions = predicted_labels_int[correct_indices]\n",
    "\n",
    "incorrect_images = sample_images[incorrect_indices]\n",
    "incorrect_labels = sample_labels[incorrect_indices]\n",
    "incorrect_predictions = predicted_labels_int[incorrect_indices]\n",
    "\n",
    "num_display = 10\n",
    "plt.figure(figsize=(20, 10))\n",
    "\n",
    "for i in range(min(num_display, len(correct_images))):\n",
    "    plt.subplot(2, num_display, i + 1)\n",
    "    plt.imshow(correct_images[i].reshape(28, 28), cmap='gray')\n",
    "    true_label = label_to_char(correct_labels[i])\n",
    "    predicted_label = label_to_char(correct_predictions[i])\n",
    "    plt.title(f\"Answer: {true_label}\\nPredicted: {predicted_label}\", fontsize=10)\n",
    "    plt.axis('off')\n",
    "\n",
    "for i in range(min(num_display, len(incorrect_images))):\n",
    "    plt.subplot(2, num_display, num_display + i + 1)\n",
    "    plt.imshow(incorrect_images[i].reshape(28, 28), cmap='gray')\n",
    "    true_label = label_to_char(incorrect_labels[i])\n",
    "    predicted_label = label_to_char(incorrect_predictions[i])\n",
    "    plt.title(f\"Answer: {true_label}\\nPredicted: {predicted_label}\", fontsize=10)\n",
    "    plt.axis('off')\n",
    "\n",
    "plt.tight_layout()\n",
    "plt.show()"
   ]
  },
  {
   "cell_type": "markdown",
   "metadata": {},
   "source": [
    "# ResNet50"
   ]
  },
  {
   "cell_type": "code",
   "execution_count": null,
   "metadata": {},
   "outputs": [],
   "source": [
    "checkpoint_dir = './checkpoints/checkpoints_resnet/'\n",
    "\n",
    "latest_model_file = get_latest_model_file(checkpoint_dir)\n",
    "if latest_model_file:\n",
    "    print(f\"Loading model from: {latest_model_file}\")\n",
    "    model = tf.keras.models.load_model(latest_model_file)\n",
    "    loss_resnet, acc_resnet = model.evaluate(x_test_resized_np, y_test_int)\n",
    "    print(\"Loss:\", loss_resnet)\n",
    "    print(\"Accuracy:\", acc_resnet)\n",
    "else:\n",
    "    print(\"No model files found in the checkpoint directory.\")"
   ]
  },
  {
   "cell_type": "code",
   "execution_count": null,
   "metadata": {},
   "outputs": [],
   "source": [
    "num_samples = 200\n",
    "sample_indices = np.random.choice(num_test_samples, num_samples, replace=False)\n",
    "sample_images = x_test_resized_np[sample_indices]\n",
    "sample_labels = y_test_int[sample_indices]\n",
    "\n",
    "predicted_labels = model.predict(sample_images)\n",
    "predicted_labels_int = np.argmax(predicted_labels, axis=1)\n",
    "\n",
    "correct_indices = np.where(predicted_labels_int == sample_labels)[0]\n",
    "incorrect_indices = np.where(predicted_labels_int != sample_labels)[0]\n",
    "\n",
    "correct_images = sample_images[correct_indices]\n",
    "correct_labels = sample_labels[correct_indices]\n",
    "correct_predictions = predicted_labels_int[correct_indices]\n",
    "\n",
    "incorrect_images = sample_images[incorrect_indices]\n",
    "incorrect_labels = sample_labels[incorrect_indices]\n",
    "incorrect_predictions = predicted_labels_int[incorrect_indices]\n",
    "\n",
    "num_display = 10\n",
    "plt.figure(figsize=(20, 10))\n",
    "\n",
    "for i in range(min(num_display, len(correct_images))):\n",
    "    plt.subplot(2, num_display, i + 1)\n",
    "    plt.imshow(correct_images[i].reshape(32, 32), cmap='gray')\n",
    "    true_label = label_to_char(correct_labels[i])\n",
    "    predicted_label = label_to_char(correct_predictions[i])\n",
    "    plt.title(f\"Answer: {true_label}\\nPredicted: {predicted_label}\", fontsize=10)\n",
    "    plt.axis('off')\n",
    "\n",
    "for i in range(min(num_display, len(incorrect_images))):\n",
    "    plt.subplot(2, num_display, num_display + i + 1)\n",
    "    plt.imshow(incorrect_images[i].reshape(32, 32), cmap='gray')\n",
    "    true_label = label_to_char(incorrect_labels[i])\n",
    "    predicted_label = label_to_char(incorrect_predictions[i])\n",
    "    plt.title(f\"Answer: {true_label}\\nPredicted: {predicted_label}\", fontsize=10)\n",
    "    plt.axis('off')\n",
    "\n",
    "plt.tight_layout()\n",
    "plt.show()"
   ]
  },
  {
   "cell_type": "markdown",
   "metadata": {},
   "source": [
    "# Our Model"
   ]
  },
  {
   "cell_type": "code",
   "execution_count": 14,
   "metadata": {},
   "outputs": [],
   "source": [
    "checkpoint_dir = '../checkpoints/checkpoints_final'\n",
    "\n",
    "latest_model_file = get_latest_model_file(checkpoint_dir)\n",
    "if latest_model_file:\n",
    "    print(f\"Loading model from: {latest_model_file}\")\n",
    "    model = tf.keras.models.load_model('../checkpoints/checkpoints_ours_2/weights.1716893020.hdf5')\n",
    "    loss_our, acc_our = model.evaluate(x_test, y_test_int)\n",
    "    print(\"Loss:\", loss_our)\n",
    "    print(\"Accuracy:\", acc_our)\n",
    "else:\n",
    "    print(\"No model files found in the checkpoint directory.\")"
   ]
  },
  {
   "cell_type": "code",
   "execution_count": null,
   "metadata": {},
   "outputs": [],
   "source": [
    "num_samples = 30\n",
    "sample_indices = np.random.choice(num_test_samples, num_samples, replace=False)\n",
    "sample_images = x_test[sample_indices]\n",
    "sample_labels = y_test_int[sample_indices]\n",
    "print(sample_images.shape)\n",
    "predicted_labels = model.predict(sample_images)\n",
    "predicted_labels_int = np.argmax(predicted_labels, axis=1)\n",
    "\n",
    "correct_indices = np.where(predicted_labels_int == sample_labels)[0]\n",
    "incorrect_indices = np.where(predicted_labels_int != sample_labels)[0]\n",
    "\n",
    "correct_images = sample_images[correct_indices]\n",
    "correct_labels = sample_labels[correct_indices]\n",
    "correct_predictions = predicted_labels_int[correct_indices]\n",
    "\n",
    "incorrect_images = sample_images[incorrect_indices]\n",
    "incorrect_labels = sample_labels[incorrect_indices]\n",
    "incorrect_predictions = predicted_labels_int[incorrect_indices]\n",
    "\n",
    "num_display = 10\n",
    "plt.figure(figsize=(20, 10))\n",
    "\n",
    "for i in range(min(num_display, len(correct_images))):\n",
    "    plt.subplot(2, num_display, i + 1)\n",
    "    plt.imshow(np.flip(np.rot90(correct_images[i].reshape(28, 28), 3)), cmap='gray')\n",
    "    true_label = label_to_char(correct_labels[i])\n",
    "    predicted_label = label_to_char(correct_predictions[i])\n",
    "    plt.title(f\"Answer: {true_label}\\nPredicted: {predicted_label}\", fontsize=10)\n",
    "    plt.axis('off')\n",
    "\n",
    "for i in range(min(num_display, len(incorrect_images))):\n",
    "    plt.subplot(2, num_display, num_display + i + 1)\n",
    "    plt.imshow(incorrect_images[i].reshape(28, 28), cmap='gray')\n",
    "    true_label = label_to_char(incorrect_labels[i])\n",
    "    predicted_label = label_to_char(incorrect_predictions[i])\n",
    "    plt.title(f\"Answer: {true_label}\\nPredicted: {predicted_label}\", fontsize=10)\n",
    "    plt.axis('off')\n",
    "\n",
    "plt.tight_layout()\n",
    "plt.show()"
   ]
  }
 ],
 "metadata": {
  "kernelspec": {
   "display_name": "ann",
   "language": "python",
   "name": "python3"
  },
  "language_info": {
   "codemirror_mode": {
    "name": "ipython",
    "version": 3
   },
   "file_extension": ".py",
   "mimetype": "text/x-python",
   "name": "python",
   "nbconvert_exporter": "python",
   "pygments_lexer": "ipython3",
   "version": "3.10.14"
  }
 },
 "nbformat": 4,
 "nbformat_minor": 2
}
