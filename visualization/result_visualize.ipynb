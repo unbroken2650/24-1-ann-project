{
 "cells": [
  {
   "cell_type": "markdown",
   "metadata": {},
   "source": [
    "# Table"
   ]
  },
  {
   "cell_type": "code",
   "execution_count": null,
   "metadata": {},
   "outputs": [],
   "source": [
    "file_path = '../results/result_mid3.csv'"
   ]
  },
  {
   "cell_type": "code",
   "execution_count": null,
   "metadata": {},
   "outputs": [],
   "source": [
    "import pandas as pd\n",
    "from IPython.display import display\n",
    "\n",
    "df = pd.read_csv(file_path)\n",
    "display(df)"
   ]
  },
  {
   "cell_type": "markdown",
   "metadata": {},
   "source": [
    "# T-SNE"
   ]
  },
  {
   "cell_type": "code",
   "execution_count": null,
   "metadata": {},
   "outputs": [],
   "source": [
    "import os\n",
    "import numpy as np\n",
    "import pandas as pd\n",
    "import tensorflow as tf\n",
    "import matplotlib.pyplot as plt\n",
    "import numpy as np\n",
    "import matplotlib.pyplot as plt\n",
    "from matplotlib.colors import ListedColormap\n",
    "from adjustText import adjust_text\n",
    "\n",
    "os.environ[\"CUDA_VISIBLE_DEVICES\"] = \"2\"\n",
    "\n",
    "test_data = pd.read_csv('../../../../mnt/sda/suhohan/emnist/emnist-byclass-test.csv')\n",
    "num_test_samples = test_data.shape[0]\n",
    "\n",
    "x_test = test_data.iloc[:, 1:].to_numpy().reshape((num_test_samples, 28, 28, 1))\n",
    "y_test = tf.keras.utils.to_categorical(test_data.iloc[:, 0], 62)\n",
    "y_test_int = test_data.iloc[:, 0].to_numpy()\n",
    "\n",
    "x_test_corrected = np.array([np.fliplr(np.rot90(img.reshape(28, 28), k=3))\n",
    "                            for img in x_test]).reshape(num_test_samples, 28, 28, 1)"
   ]
  },
  {
   "cell_type": "code",
   "execution_count": null,
   "metadata": {},
   "outputs": [],
   "source": [
    "def get_latest_model_file(checkpoint_dir):\n",
    "    files = [f for f in os.listdir(checkpoint_dir) if f.endswith('.hdf5')]\n",
    "    files.sort(key=lambda x: os.path.getmtime(os.path.join(checkpoint_dir, x)), reverse=True)\n",
    "    return os.path.join(checkpoint_dir, files[0]) if files else None"
   ]
  },
  {
   "cell_type": "code",
   "execution_count": null,
   "metadata": {},
   "outputs": [],
   "source": [
    "checkpoint_dir = './checkpoints/checkpoints_final/'\n",
    "\n",
    "latest_model_file = get_latest_model_file(checkpoint_dir)\n",
    "if latest_model_file:\n",
    "    print(f\"Loading model from: {latest_model_file}\")\n",
    "    model = tf.keras.models.load_model(latest_model_file)\n",
    "    loss_ours, acc_ours = model.evaluate(x_test, y_test_int)\n",
    "    print(\"Loss:\", loss_ours)\n",
    "    print(\"Accuracy:\", acc_ours)\n",
    "    predictions = model.predict(x_test_corrected)\n",
    "else:\n",
    "    print(\"No model files found in the checkpoint directory.\")\n",
    "    predictions = None"
   ]
  },
  {
   "cell_type": "code",
   "execution_count": null,
   "metadata": {},
   "outputs": [],
   "source": [
    "from sklearn.manifold import TSNE\n",
    "\n",
    "tsne_result_path = 'visualization/tsne_results_ours.csv'\n",
    "\n",
    "if predictions is not None:\n",
    "    if os.path.exists(tsne_result_path):\n",
    "        images_tsne = pd.read_csv(tsne_result_path).to_numpy()\n",
    "    else:\n",
    "        # t-SNE 적용\n",
    "        tsne = TSNE(n_components=2, random_state=42)\n",
    "        images_tsne = tsne.fit_transform(predictions)\n",
    "        # t-SNE 결과 저장\n",
    "        np.savetxt(tsne_result_path, images_tsne, delimiter=',')\n",
    "else:\n",
    "    print(\"No predictions to apply t-SNE.\")"
   ]
  },
  {
   "cell_type": "code",
   "execution_count": null,
   "metadata": {},
   "outputs": [],
   "source": [
    "def label_transform(label):\n",
    "    if 0 <= label <= 9:\n",
    "        return str(label)\n",
    "    elif 10 <= label <= 35:\n",
    "        return chr(label + ord('a') - 10)\n",
    "    elif 36 <= label <= 61:\n",
    "        return chr(label + ord('A') - 36)\n",
    "    else:\n",
    "        return str(label)\n",
    "\n",
    "\n",
    "sample_images = x_test.reshape((num_test_samples, -1))\n",
    "sample_labels = test_data.iloc[:, 0]\n",
    "\n",
    "transformed_labels = sample_labels.apply(label_transform)"
   ]
  },
  {
   "cell_type": "code",
   "execution_count": null,
   "metadata": {},
   "outputs": [],
   "source": [
    "if predictions is not None:\n",
    "    np.random.seed(42)\n",
    "    random_colors = np.random.rand(62, 3)\n",
    "    cmap = ListedColormap(random_colors)\n",
    "    plt.figure(figsize=(12, 10))\n",
    "\n",
    "    if y_test_int.ndim == 1:\n",
    "        sample_labels = y_test_int\n",
    "    else:\n",
    "        sample_labels = np.argmax(y_test_int, axis=1)\n",
    "\n",
    "    # Ensure images_tsne and sample_labels have the same length\n",
    "    if len(images_tsne) == len(sample_labels):\n",
    "        scatter = plt.scatter(images_tsne[:, 0], images_tsne[:, 1], c=sample_labels, cmap=cmap, s=3, alpha=0.5)\n",
    "        colorbar = plt.colorbar(scatter)\n",
    "\n",
    "        colorbar.set_ticks(np.arange(62))\n",
    "        colorbar.set_ticklabels([label_transform(i) for i in range(62)])\n",
    "        colorbar.ax.tick_params(labelsize=8)\n",
    "\n",
    "        texts = []\n",
    "        for i in range(62):\n",
    "            mask = sample_labels == i\n",
    "            mean_x = np.mean(images_tsne[mask, 0])\n",
    "            mean_y = np.mean(images_tsne[mask, 1])\n",
    "            label = label_transform(i)\n",
    "            color = random_colors[i]\n",
    "            text_color = 'white' if np.mean(color) < 0.5 else 'black'\n",
    "            texts.append(plt.text(mean_x, mean_y, label, fontsize=9, ha='center', va='center',\n",
    "                                  bbox=dict(facecolor=color, edgecolor='none', boxstyle='round,pad=0.3'), color=text_color))\n",
    "\n",
    "        adjust_text(texts, arrowprops=dict(arrowstyle='-', color='gray', lw=0.7))\n",
    "\n",
    "        plt.title('t-SNE visualization of EMNIST ByClass subset')\n",
    "        plt.xlabel('t-SNE feature 1')\n",
    "        plt.ylabel('t-SNE feature 2')\n",
    "        plt.savefig('tsne_visualization_ours.png', dpi=300)\n",
    "        plt.show()\n",
    "    else:\n",
    "        print(\n",
    "            f\"Size mismatch: images_tsne has {len(images_tsne)} elements, but sample_labels has {len(sample_labels)} elements.\")\n",
    "else:\n",
    "    print(\"No t-SNE results to visualize.\")"
   ]
  },
  {
   "cell_type": "code",
   "execution_count": 3,
   "metadata": {},
   "outputs": [
    {
     "data": {
      "text/html": [
       "<div>\n",
       "<style scoped>\n",
       "    .dataframe tbody tr th:only-of-type {\n",
       "        vertical-align: middle;\n",
       "    }\n",
       "\n",
       "    .dataframe tbody tr th {\n",
       "        vertical-align: top;\n",
       "    }\n",
       "\n",
       "    .dataframe thead th {\n",
       "        text-align: right;\n",
       "    }\n",
       "</style>\n",
       "<table border=\"1\" class=\"dataframe\">\n",
       "  <thead>\n",
       "    <tr style=\"text-align: right;\">\n",
       "      <th></th>\n",
       "      <th>Optimizer</th>\n",
       "      <th>Loss</th>\n",
       "      <th>Accuracy</th>\n",
       "      <th>Training Time</th>\n",
       "    </tr>\n",
       "  </thead>\n",
       "  <tbody>\n",
       "    <tr>\n",
       "      <th>0</th>\n",
       "      <td>SGD</td>\n",
       "      <td>0.339564</td>\n",
       "      <td>0.871667</td>\n",
       "      <td>1277.049462</td>\n",
       "    </tr>\n",
       "    <tr>\n",
       "      <th>1</th>\n",
       "      <td>SGD</td>\n",
       "      <td>0.333832</td>\n",
       "      <td>0.873842</td>\n",
       "      <td>1286.936976</td>\n",
       "    </tr>\n",
       "    <tr>\n",
       "      <th>2</th>\n",
       "      <td>Adagrad</td>\n",
       "      <td>0.377922</td>\n",
       "      <td>0.862064</td>\n",
       "      <td>1289.939265</td>\n",
       "    </tr>\n",
       "    <tr>\n",
       "      <th>3</th>\n",
       "      <td>RMSprop</td>\n",
       "      <td>0.313961</td>\n",
       "      <td>0.882645</td>\n",
       "      <td>503.086377</td>\n",
       "    </tr>\n",
       "    <tr>\n",
       "      <th>4</th>\n",
       "      <td>Adam</td>\n",
       "      <td>0.308624</td>\n",
       "      <td>0.883504</td>\n",
       "      <td>605.063532</td>\n",
       "    </tr>\n",
       "    <tr>\n",
       "      <th>5</th>\n",
       "      <td>Adamax</td>\n",
       "      <td>0.306209</td>\n",
       "      <td>0.884316</td>\n",
       "      <td>775.569509</td>\n",
       "    </tr>\n",
       "    <tr>\n",
       "      <th>6</th>\n",
       "      <td>Nadam</td>\n",
       "      <td>0.308206</td>\n",
       "      <td>0.884355</td>\n",
       "      <td>784.482589</td>\n",
       "    </tr>\n",
       "  </tbody>\n",
       "</table>\n",
       "</div>"
      ],
      "text/plain": [
       "  Optimizer      Loss  Accuracy  Training Time\n",
       "0       SGD  0.339564  0.871667    1277.049462\n",
       "1       SGD  0.333832  0.873842    1286.936976\n",
       "2   Adagrad  0.377922  0.862064    1289.939265\n",
       "3   RMSprop  0.313961  0.882645     503.086377\n",
       "4      Adam  0.308624  0.883504     605.063532\n",
       "5    Adamax  0.306209  0.884316     775.569509\n",
       "6     Nadam  0.308206  0.884355     784.482589"
      ]
     },
     "metadata": {},
     "output_type": "display_data"
    }
   ],
   "source": [
    "import pandas as pd\n",
    "from IPython.display import display\n",
    "\n",
    "file_path = '../results/result_optimizer.csv'\n",
    "\n",
    "df = pd.read_csv(file_path)\n",
    "\n",
    "display(df)"
   ]
  }
 ],
 "metadata": {
  "kernelspec": {
   "display_name": "ann",
   "language": "python",
   "name": "python3"
  },
  "language_info": {
   "codemirror_mode": {
    "name": "ipython",
    "version": 3
   },
   "file_extension": ".py",
   "mimetype": "text/x-python",
   "name": "python",
   "nbconvert_exporter": "python",
   "pygments_lexer": "ipython3",
   "version": "3.10.14"
  }
 },
 "nbformat": 4,
 "nbformat_minor": 2
}
