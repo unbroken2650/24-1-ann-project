{
 "cells": [
  {
   "cell_type": "markdown",
   "metadata": {},
   "source": [
    "# ann-project\n",
    "\n",
    "5조\n",
    "한수호, 강구현, 김민규, 홍준기"
   ]
  },
  {
   "cell_type": "markdown",
   "metadata": {},
   "source": [
    "# Setup"
   ]
  },
  {
   "cell_type": "code",
   "execution_count": 2,
   "metadata": {},
   "outputs": [
    {
     "name": "stderr",
     "output_type": "stream",
     "text": [
      "2024-05-31 17:10:39.554326: E tensorflow/compiler/xla/stream_executor/cuda/cuda_dnn.cc:9342] Unable to register cuDNN factory: Attempting to register factory for plugin cuDNN when one has already been registered\n",
      "2024-05-31 17:10:39.554363: E tensorflow/compiler/xla/stream_executor/cuda/cuda_fft.cc:609] Unable to register cuFFT factory: Attempting to register factory for plugin cuFFT when one has already been registered\n",
      "2024-05-31 17:10:39.554399: E tensorflow/compiler/xla/stream_executor/cuda/cuda_blas.cc:1518] Unable to register cuBLAS factory: Attempting to register factory for plugin cuBLAS when one has already been registered\n",
      "2024-05-31 17:10:39.561224: I tensorflow/core/platform/cpu_feature_guard.cc:182] This TensorFlow binary is optimized to use available CPU instructions in performance-critical operations.\n",
      "To enable the following instructions: AVX2 FMA, in other operations, rebuild TensorFlow with the appropriate compiler flags.\n",
      "2024-05-31 17:10:40.261985: W tensorflow/compiler/tf2tensorrt/utils/py_utils.cc:38] TF-TRT Warning: Could not find TensorRT\n"
     ]
    }
   ],
   "source": [
    "from models.simple_cnn import CNNModel\n",
    "from models.residual import ResModel\n",
    "from models.resnet50 import ResNetModel\n",
    "from models.lenet import LeNetModel\n",
    "from keras import callbacks, optimizers, layers\n",
    "from sklearn.model_selection import train_test_split\n",
    "from tqdm.auto import tqdm\n",
    "import time\n",
    "import tensorflow as tf\n",
    "import numpy as np\n",
    "import matplotlib.pyplot as plt\n",
    "import pandas as pd\n",
    "import os\n",
    "import json\n",
    "import seaborn as sns\n",
    "import pickle\n",
    "import random\n",
    "os.environ[\"CUDA_VISIBLE_DEVICES\"] = \"2\"\n",
    "os.environ['TF_CPP_MIN_LOG_LEVEL'] = '1'"
   ]
  },
  {
   "cell_type": "code",
   "execution_count": 3,
   "metadata": {},
   "outputs": [],
   "source": [
    "RANDOM_SEED = 42\n",
    "random.seed(RANDOM_SEED)\n",
    "np.random.seed(RANDOM_SEED)\n",
    "tf.random.set_seed(RANDOM_SEED)\n",
    "os.environ['PYTHONHASHSEED'] = str(RANDOM_SEED)"
   ]
  },
  {
   "cell_type": "code",
   "execution_count": 4,
   "metadata": {},
   "outputs": [],
   "source": [
    "from datetime import datetime\n",
    "result_path = './results'\n",
    "_time = datetime.strftime(datetime.today(), '%Y-%m-%d_%H-%M-%S')"
   ]
  },
  {
   "cell_type": "markdown",
   "metadata": {},
   "source": [
    "dataset"
   ]
  },
  {
   "cell_type": "code",
   "execution_count": 5,
   "metadata": {},
   "outputs": [
    {
     "name": "stderr",
     "output_type": "stream",
     "text": [
      "2024-05-31 17:11:09.515293: I tensorflow/compiler/xla/stream_executor/cuda/cuda_gpu_executor.cc:894] successful NUMA node read from SysFS had negative value (-1), but there must be at least one NUMA node, so returning NUMA node zero. See more at https://github.com/torvalds/linux/blob/v6.0/Documentation/ABI/testing/sysfs-bus-pci#L344-L355\n",
      "2024-05-31 17:11:09.543293: I tensorflow/compiler/xla/stream_executor/cuda/cuda_gpu_executor.cc:894] successful NUMA node read from SysFS had negative value (-1), but there must be at least one NUMA node, so returning NUMA node zero. See more at https://github.com/torvalds/linux/blob/v6.0/Documentation/ABI/testing/sysfs-bus-pci#L344-L355\n",
      "2024-05-31 17:11:09.543586: I tensorflow/compiler/xla/stream_executor/cuda/cuda_gpu_executor.cc:894] successful NUMA node read from SysFS had negative value (-1), but there must be at least one NUMA node, so returning NUMA node zero. See more at https://github.com/torvalds/linux/blob/v6.0/Documentation/ABI/testing/sysfs-bus-pci#L344-L355\n",
      "2024-05-31 17:11:09.547846: I tensorflow/compiler/xla/stream_executor/cuda/cuda_gpu_executor.cc:894] successful NUMA node read from SysFS had negative value (-1), but there must be at least one NUMA node, so returning NUMA node zero. See more at https://github.com/torvalds/linux/blob/v6.0/Documentation/ABI/testing/sysfs-bus-pci#L344-L355\n",
      "2024-05-31 17:11:09.548147: I tensorflow/compiler/xla/stream_executor/cuda/cuda_gpu_executor.cc:894] successful NUMA node read from SysFS had negative value (-1), but there must be at least one NUMA node, so returning NUMA node zero. See more at https://github.com/torvalds/linux/blob/v6.0/Documentation/ABI/testing/sysfs-bus-pci#L344-L355\n",
      "2024-05-31 17:11:09.548430: I tensorflow/compiler/xla/stream_executor/cuda/cuda_gpu_executor.cc:894] successful NUMA node read from SysFS had negative value (-1), but there must be at least one NUMA node, so returning NUMA node zero. See more at https://github.com/torvalds/linux/blob/v6.0/Documentation/ABI/testing/sysfs-bus-pci#L344-L355\n",
      "2024-05-31 17:11:09.872984: I tensorflow/compiler/xla/stream_executor/cuda/cuda_gpu_executor.cc:894] successful NUMA node read from SysFS had negative value (-1), but there must be at least one NUMA node, so returning NUMA node zero. See more at https://github.com/torvalds/linux/blob/v6.0/Documentation/ABI/testing/sysfs-bus-pci#L344-L355\n",
      "2024-05-31 17:11:09.873282: I tensorflow/compiler/xla/stream_executor/cuda/cuda_gpu_executor.cc:894] successful NUMA node read from SysFS had negative value (-1), but there must be at least one NUMA node, so returning NUMA node zero. See more at https://github.com/torvalds/linux/blob/v6.0/Documentation/ABI/testing/sysfs-bus-pci#L344-L355\n",
      "2024-05-31 17:11:09.873544: I tensorflow/compiler/xla/stream_executor/cuda/cuda_gpu_executor.cc:894] successful NUMA node read from SysFS had negative value (-1), but there must be at least one NUMA node, so returning NUMA node zero. See more at https://github.com/torvalds/linux/blob/v6.0/Documentation/ABI/testing/sysfs-bus-pci#L344-L355\n",
      "2024-05-31 17:11:09.873757: I tensorflow/core/common_runtime/gpu/gpu_device.cc:1886] Created device /job:localhost/replica:0/task:0/device:GPU:0 with 46681 MB memory:  -> device: 0, name: NVIDIA RTX A6000, pci bus id: 0000:c2:00.0, compute capability: 8.6\n"
     ]
    }
   ],
   "source": [
    "train_file_path = '../../../../mnt/sda/suhohan/emnist/emnist-byclass-train.csv'\n",
    "test_file_path = '../../../../mnt/sda/suhohan/emnist/emnist-byclass-test.csv'\n",
    "\n",
    "train_data = pd.read_csv(train_file_path)\n",
    "test_data = pd.read_csv(test_file_path)\n",
    "\n",
    "# Data dimensions and sizes\n",
    "num_train_samples = train_data.shape[0]\n",
    "num_test_samples = test_data.shape[0]\n",
    "\n",
    "# Prepare data\n",
    "x_train = train_data.iloc[:, 1:].to_numpy().reshape((num_train_samples, 28, 28, 1))\n",
    "x_test = test_data.iloc[:, 1:].to_numpy().reshape((num_test_samples, 28, 28, 1))\n",
    "y_train = tf.keras.utils.to_categorical(train_data.iloc[:, 0], 62)  # 62 classes for EMNIST ByClass\n",
    "y_test = tf.keras.utils.to_categorical(test_data.iloc[:, 0], 62)\n",
    "\n",
    "# Integer labels for sparse categorical crossentropy\n",
    "y_train_int = train_data.iloc[:, 0].to_numpy()\n",
    "y_test_int = test_data.iloc[:, 0].to_numpy()\n",
    "\n",
    "# Split the training data into training and validation sets\n",
    "_, _, y_train, y_valid = train_test_split(x_train, y_train, test_size=0.1, random_state=42)\n",
    "x_train, x_valid, y_train_int, y_valid_int = train_test_split(x_train, y_train_int, test_size=0.1, random_state=42)\n",
    "\n",
    "# Prepare data for ResNet\n",
    "x_train_resized = tf.image.resize(x_train, [32, 32])\n",
    "x_valid_resized = tf.image.resize(x_valid, [32, 32])\n",
    "x_test_resized = tf.image.resize(x_test, [32, 32])"
   ]
  },
  {
   "cell_type": "markdown",
   "metadata": {},
   "source": [
    "checkpoints"
   ]
  },
  {
   "cell_type": "code",
   "execution_count": 6,
   "metadata": {},
   "outputs": [],
   "source": [
    "def create_callbacks(model_name):\n",
    "    current_time = int(time.time())\n",
    "    checkpoint_path = f\"./checkpoints/checkpoints_{model_name}/weights.{current_time}.hdf5\"\n",
    "    early_stopping = EarlyStopping(monitor='val_loss', patience=5, min_delta=0.0001, restore_best_weights=True)\n",
    "    reduce_lr = callbacks.ReduceLROnPlateau(monitor='val_loss', factor=0.5, patience=3, min_lr=0.000001)\n",
    "    checkpoint = callbacks.ModelCheckpoint(filepath=checkpoint_path, monitor='val_loss', save_best_only=True, verbose=1)\n",
    "\n",
    "    return [early_stopping, reduce_lr, checkpoint]\n",
    "\n",
    "\n",
    "callbacks_lenet = create_callbacks('lenet')\n",
    "callbacks_resnet = create_callbacks('resnet')\n",
    "callbacks_ours_1 = create_callbacks('ours_1')\n",
    "callbacks_ours_2 = create_callbacks('ours_2')\n",
    "callbacks_final = create_callbacks('final')\n",
    "result_path = './results'"
   ]
  },
  {
   "cell_type": "markdown",
   "metadata": {},
   "source": [
    "test results"
   ]
  },
  {
   "cell_type": "code",
   "execution_count": 7,
   "metadata": {},
   "outputs": [],
   "source": [
    "def save_results(results_df):\n",
    "    if not os.path.exists(result_path):\n",
    "        os.makedirs(result_path)\n",
    "    results_df.to_csv(os.path.join(result_path, f'result_{_time}.csv'), index=False)"
   ]
  },
  {
   "cell_type": "markdown",
   "metadata": {},
   "source": [
    "saving history"
   ]
  },
  {
   "cell_type": "code",
   "execution_count": 8,
   "metadata": {},
   "outputs": [],
   "source": [
    "def save_history(histories, filename):\n",
    "    with open(os.path.join(result_path, filename), 'w') as f:\n",
    "        json.dump(histories, f)"
   ]
  },
  {
   "cell_type": "markdown",
   "metadata": {},
   "source": [
    "# 1. baseline과 our 모델 비교"
   ]
  },
  {
   "cell_type": "code",
   "execution_count": null,
   "metadata": {},
   "outputs": [],
   "source": [
    "# Initialize models\n",
    "lenet_model = LeNetModel()\n",
    "resnet_model = ResNetModel()\n",
    "our_model_1 = CNNModel()\n",
    "our_model_2res = ResModel()\n",
    "\n",
    "# Compile models\n",
    "lenet_model.compile(optimizer='adam', loss='sparse_categorical_crossentropy', metrics=['accuracy'])\n",
    "resnet_model.compile(optimizer='adam', loss='sparse_categorical_crossentropy', metrics=['accuracy'])\n",
    "our_model_1.compile(optimizer='adam', loss='sparse_categorical_crossentropy', metrics=['accuracy'])\n",
    "our_model_2res.compile(optimizer='adam', loss='sparse_categorical_crossentropy', metrics=['accuracy'])"
   ]
  },
  {
   "cell_type": "code",
   "execution_count": null,
   "metadata": {},
   "outputs": [],
   "source": [
    "history = []\n",
    "training_time = []"
   ]
  },
  {
   "cell_type": "code",
   "execution_count": null,
   "metadata": {},
   "outputs": [],
   "source": [
    "EPOCHS = 30\n",
    "BATCH_SIZE = 500"
   ]
  },
  {
   "cell_type": "code",
   "execution_count": null,
   "metadata": {},
   "outputs": [],
   "source": [
    "start_time = time.time()\n",
    "history.append(lenet_model.train(x_train, y_train_int, validation_data=(x_valid, y_valid_int),\n",
    "               epochs=EPOCHS, batch_size=BATCH_SIZE, callbacks=[callbacks_lenet]))\n",
    "end_time = time.time()\n",
    "training_time.append(end_time-start_time)"
   ]
  },
  {
   "cell_type": "code",
   "execution_count": null,
   "metadata": {},
   "outputs": [],
   "source": [
    "start_time = time.time()\n",
    "history.append(resnet_model.train(x_train_resized, y_train_int, validation_data=(x_valid_resized,\n",
    "               y_valid_int), epochs=EPOCHS, batch_size=BATCH_SIZE, callbacks=[callbacks_resnet]))\n",
    "end_time = time.time()\n",
    "training_time.append(end_time-start_time)"
   ]
  },
  {
   "cell_type": "code",
   "execution_count": null,
   "metadata": {},
   "outputs": [],
   "source": [
    "start_time = time.time()\n",
    "history.append(our_model_1.train(x_train, y_train_int, validation_data=(x_valid, y_valid_int),\n",
    "               epochs=EPOCHS, batch_size=BATCH_SIZE, callbacks=[callbacks_ours_1]))\n",
    "end_time = time.time()\n",
    "training_time.append(end_time-start_time)"
   ]
  },
  {
   "cell_type": "code",
   "execution_count": null,
   "metadata": {},
   "outputs": [],
   "source": [
    "start_time = time.time()\n",
    "history.append(our_model_2res.train(x_train, y_train_int, validation_data=(x_valid, y_valid_int),\n",
    "               epochs=EPOCHS, batch_size=BATCH_SIZE, callbacks=[callbacks_ours_2]))\n",
    "end_time = time.time()\n",
    "training_time.append(end_time-start_time)"
   ]
  },
  {
   "cell_type": "code",
   "execution_count": null,
   "metadata": {},
   "outputs": [],
   "source": [
    "loss_lenet, acc_lenet = lenet_model.evaluate(x_test, y_test_int)\n",
    "loss_resnet, acc_resnet = resnet_model.evaluate(x_test_resized, y_test_int)\n",
    "loss_our1, acc_our1 = our_model_1.evaluate(x_test, y_test_int)\n",
    "loss_our2, acc_our2 = our_model_2res.evaluate(x_test, y_test_int)"
   ]
  },
  {
   "cell_type": "code",
   "execution_count": null,
   "metadata": {},
   "outputs": [],
   "source": [
    "results = {\n",
    "    \"Model\": [\"LeNet-5\", \"ResNet-50\", \"Our Model(CNN)\", \"Our Model(Residual)\"],\n",
    "    \"Loss\": [loss_lenet, loss_resnet, loss_our1, loss_our2],\n",
    "    \"Accuracy\": [acc_lenet, acc_resnet, acc_our1, acc_our2],\n",
    "    \"Training Time\": training_time\n",
    "}\n",
    "results_df = pd.DataFrame(results)\n",
    "results_df.to_csv(f'{result_path}/result_{_time}.csv', index=False)"
   ]
  },
  {
   "cell_type": "code",
   "execution_count": null,
   "metadata": {},
   "outputs": [],
   "source": [
    "models = [\"lenet-5\", \"resnet-50\", \"our_model_cnn\", \"our_model_residual\"]\n",
    "for model_name, h in zip(models, history):\n",
    "    history_dict = {key: list(map(float, value)) for key, value in h.history.items()}  # Ensure values are float\n",
    "    save_history(history_dict, f'history_{model_name}_{_time}.json')"
   ]
  },
  {
   "cell_type": "code",
   "execution_count": null,
   "metadata": {},
   "outputs": [],
   "source": [
    "colors = [\"red\", \"blue\", \"green\", \"purple\", \"gold\"]\n",
    "\n",
    "plt.figure(figsize=(10, 5))\n",
    "\n",
    "plt.subplot(121)\n",
    "for idx, hist in enumerate(history):\n",
    "    plt.plot(hist.history['loss'], label=f'{results[\"Model\"][idx]}', color=colors[idx])\n",
    "    plt.title(f'Train Loss')\n",
    "    plt.xlabel('Epochs')\n",
    "    plt.ylabel('Loss')\n",
    "    plt.xlim([0, EPOCHS])\n",
    "    plt.grid(True)\n",
    "    plt.legend()\n",
    "plt.subplot(122)\n",
    "for idx, hist in enumerate(history):\n",
    "    plt.plot(hist.history['accuracy'], label=f'{results[\"Model\"][idx]}', color=colors[idx])\n",
    "    plt.title(f'Train Accuracy')\n",
    "    plt.xlabel('Epochs')\n",
    "    plt.ylabel('Accuracy')\n",
    "    plt.xlim([0, EPOCHS])\n",
    "    plt.ylim([0, 1])\n",
    "    plt.grid(True)\n",
    "    plt.legend()\n",
    "\n",
    "plt.tight_layout()\n",
    "plt.savefig(f\"{result_path}/result_{_time}.png\")\n",
    "plt.show()\n",
    "save_history(history, f'history_activation_{_time}.pkl')"
   ]
  },
  {
   "cell_type": "code",
   "execution_count": null,
   "metadata": {},
   "outputs": [],
   "source": [
    "training_time.append(\"\")\n",
    "results = {\n",
    "    \"Model\": [\"LeNet-5\", \"ResNet-50\", \"Our Model\", \"Wavemix-256[6]\"],\n",
    "    \"Loss\": [loss_lenet, loss_resnet, loss_our1, loss_our2, 0],\n",
    "    \"Accuracy\": [acc_lenet, acc_resnet, acc_our1, acc_our2, 0.8842],\n",
    "    \"Training Time\": training_time\n",
    "}\n",
    "results_df = pd.DataFrame(results)"
   ]
  },
  {
   "cell_type": "code",
   "execution_count": null,
   "metadata": {},
   "outputs": [],
   "source": [
    "metrics = [\"Loss\", \"Accuracy\", \"Training Time\"]\n",
    "for metric in metrics:\n",
    "    plt.figure(figsize=(5, 6))\n",
    "    sns.barplot(x=\"Model\", y=metric, hue=\"Model\", data=results_df, palette=\"viridis\", legend=False)\n",
    "    plt.title(f'{metric} Comparison')\n",
    "    plt.ylabel(metric)\n",
    "    plt.xlabel('Model')\n",
    "    plt.tight_layout()\n",
    "    plt.savefig(f'{result_path}/{metric.lower().replace(\" \", \"_\")}_comparison_{_time}.png')\n",
    "    plt.show()"
   ]
  },
  {
   "cell_type": "markdown",
   "metadata": {},
   "source": [
    "# 2. Experiment"
   ]
  },
  {
   "cell_type": "markdown",
   "metadata": {},
   "source": [
    "## 2.1. Optimizer"
   ]
  },
  {
   "cell_type": "code",
   "execution_count": null,
   "metadata": {},
   "outputs": [],
   "source": [
    "optimizers_list = [\n",
    "    optimizers.SGD(learning_rate=0.001, momentum=0.9),\n",
    "    optimizers.SGD(learning_rate=0.001, momentum=0.9, nesterov=True),\n",
    "    optimizers.Adagrad(learning_rate=0.001),\n",
    "    optimizers.RMSprop(learning_rate=0.001, rho=0.9),\n",
    "    optimizers.Adam(learning_rate=0.001, beta_1=0.9, beta_2=0.999),\n",
    "    optimizers.Adamax(learning_rate=0.001, beta_1=0.9, beta_2=0.999),\n",
    "    optimizers.Nadam(learning_rate=0.001, beta_1=0.9, beta_2=0.999),\n",
    "]"
   ]
  },
  {
   "cell_type": "code",
   "execution_count": null,
   "metadata": {},
   "outputs": [],
   "source": [
    "history = []\n",
    "results = {'Optimizer': [], 'Loss': [], 'Accuracy': [], 'Training Time': []}"
   ]
  },
  {
   "cell_type": "code",
   "execution_count": null,
   "metadata": {},
   "outputs": [],
   "source": [
    "def _train_opt(x_train, y_train, validation_data, optimizer, activation_ftn='ReLU'):\n",
    "    print(f\"Start with {type(optimizer).__name__}\")\n",
    "    final_model = ResModel(num_classes=62, initial_filters=32,\n",
    "                           dropout_rate=0.3, final_dropout_rate=0.6, activation=activation_ftn, num_residual_units=3)\n",
    "    optimizer.build(final_model.model.trainable_variables)\n",
    "\n",
    "    final_model.compile(optimizer=optimizer, loss='sparse_categorical_crossentropy', metrics=['accuracy'])\n",
    "\n",
    "    start_time = time.time()\n",
    "    hist = final_model.train(x_train, y_train, validation_data=validation_data, epochs=EPOCHS,\n",
    "                             batch_size=BATCH_SIZE, callbacks=[callbacks_final])\n",
    "    end_time = time.time()\n",
    "\n",
    "    history.append(hist)\n",
    "\n",
    "    loss, accuracy = final_model.evaluate(x_test, y_test_int)\n",
    "    results['Optimizer'].append(type(optimizer).__name__)\n",
    "    results['Loss'].append(loss)\n",
    "    results['Accuracy'].append(accuracy)\n",
    "    results['Training Time'].append(end_time - start_time)\n",
    "\n",
    "    print(f\"End with {type(optimizer).__name__}\")"
   ]
  },
  {
   "cell_type": "code",
   "execution_count": null,
   "metadata": {},
   "outputs": [],
   "source": [
    "EPOCHS = 10\n",
    "BATCH_SIZE = 500"
   ]
  },
  {
   "cell_type": "code",
   "execution_count": null,
   "metadata": {},
   "outputs": [],
   "source": [
    "for optimizer in optimizers_list:\n",
    "    _train_opt(x_train, y_train_int, (x_valid, y_valid_int), optimizer, activation_ftn='ReLU')"
   ]
  },
  {
   "cell_type": "code",
   "execution_count": null,
   "metadata": {},
   "outputs": [],
   "source": [
    "results_df = pd.DataFrame(results)\n",
    "save_results(results_df)\n",
    "for optimizer, h in zip(optimizers_list, history):\n",
    "    history_dict = {key: list(map(float, value)) for key, value in h.history.items()}  # Ensure values are float\n",
    "    save_history(history_dict, f'history_optimizer_{type(optimizer).__name__}_{_time}.json')"
   ]
  },
  {
   "cell_type": "code",
   "execution_count": null,
   "metadata": {},
   "outputs": [],
   "source": [
    "plt.figure(figsize=(14, 6))\n",
    "\n",
    "for i, h in enumerate(history):\n",
    "    plt.subplot(1, 2, 1)\n",
    "    plt.plot(h.history['accuracy'], label=f'{type(optimizers_list[i]).__name__} Train')\n",
    "    plt.title('train accuracy')\n",
    "    plt.xlabel('Epoch')\n",
    "    plt.ylabel('Accuracy')\n",
    "    plt.legend(loc='best')\n",
    "\n",
    "    plt.subplot(1, 2, 2)\n",
    "    plt.plot(h.history['loss'], label=f'{type(optimizers_list[i]).__name__} Train')\n",
    "    plt.title('train loss')\n",
    "    plt.xlabel('Epoch')\n",
    "    plt.ylabel('Loss')\n",
    "    plt.legend(loc='best')\n",
    "\n",
    "plt.tight_layout()\n",
    "plt.savefig(f\"{result_path}/result_{_time}.png\")\n",
    "plt.show()"
   ]
  },
  {
   "cell_type": "code",
   "execution_count": null,
   "metadata": {},
   "outputs": [],
   "source": [
    "metrics = [\"Loss\", \"Accuracy\", \"Training Time\"]\n",
    "for metric in metrics:\n",
    "    plt.figure(figsize=(5, 6))\n",
    "    sns.barplot(x=\"Optimizer\", y=metric, hue=\"Optimizer\", data=results_df, palette=\"viridis\", legend=False)\n",
    "    plt.title(f'{metric} Comparison')\n",
    "    plt.ylabel(metric)\n",
    "    plt.xlabel('Optimizer')\n",
    "    plt.tight_layout()\n",
    "    plt.savefig(f'{result_path}/{metric.lower().replace(\" \", \"_\")}_comparison_{_time}.png')\n",
    "    plt.show()"
   ]
  },
  {
   "cell_type": "markdown",
   "metadata": {},
   "source": [
    "## 2.2. Activation Function"
   ]
  },
  {
   "cell_type": "code",
   "execution_count": null,
   "metadata": {},
   "outputs": [],
   "source": [
    "activations = {\n",
    "    'relu': layers.ReLU(),\n",
    "    'leaky_relu': layers.LeakyReLU(),\n",
    "    'elu': layers.ELU(),\n",
    "    'selu': layers.Activation('selu'),\n",
    "    'sigmoid': layers.Activation('sigmoid'),\n",
    "    'tanh': layers.Activation('tanh'),\n",
    "    'softmax': layers.Activation('softmax'),\n",
    "    'softplus': layers.Activation('softplus'),\n",
    "    'softsign': layers.Activation('softsign'),\n",
    "    'swish': layers.Activation('swish'),\n",
    "    'gelu': layers.Activation('gelu')\n",
    "}"
   ]
  },
  {
   "cell_type": "code",
   "execution_count": null,
   "metadata": {},
   "outputs": [],
   "source": [
    "history = []\n",
    "results = {'Activation Function': [], 'Loss': [], 'Accuracy': [], 'Training Time': []}"
   ]
  },
  {
   "cell_type": "code",
   "execution_count": null,
   "metadata": {},
   "outputs": [],
   "source": [
    "best_optimizer = optimizers.legacy.Nadam(learning_rate=0.001, beta_1=0.9, beta_2=0.999)\n",
    "activation_functions = ['relu', 'leaky_relu', 'elu', 'selu', 'sigmoid', 'tanh',\n",
    "                        'softmax', 'softplus', 'softsign', 'swish', 'gelu']"
   ]
  },
  {
   "cell_type": "code",
   "execution_count": null,
   "metadata": {},
   "outputs": [],
   "source": [
    "def _train_act(x_train, y_train, validation_data, optimizer, activation_ftn):\n",
    "    print(f\"Start with {activation_ftn}\")\n",
    "\n",
    "    activation_layer = activations.get(activation_ftn, layers.ReLU())\n",
    "\n",
    "    final_model = ResModel(num_classes=62, initial_filters=32, dropout_rate=0.3,\n",
    "                           final_dropout_rate=0.6, activation=activation_layer, num_residual_units=3)\n",
    "    final_model.compile(optimizer=optimizer, loss='sparse_categorical_crossentropy', metrics=['accuracy'])\n",
    "\n",
    "    start_time = time.time()\n",
    "    hist = final_model.train(x_train, y_train, validation_data=validation_data, epochs=EPOCHS,\n",
    "                             batch_size=BATCH_SIZE, callbacks=[callbacks_final])\n",
    "    end_time = time.time()\n",
    "\n",
    "    history.append(hist)\n",
    "\n",
    "    loss, accuracy = final_model.evaluate(x_test, y_test_int)\n",
    "    results['Activation Function'].append(activation_ftn)\n",
    "    results['Loss'].append(loss)\n",
    "    results['Accuracy'].append(accuracy)\n",
    "    results['Training Time'].append(end_time - start_time)\n",
    "\n",
    "    print(f\"End with {activation_ftn}\")"
   ]
  },
  {
   "cell_type": "code",
   "execution_count": null,
   "metadata": {},
   "outputs": [],
   "source": [
    "EPOCHS = 10\n",
    "BATCH_SIZE = 500"
   ]
  },
  {
   "cell_type": "code",
   "execution_count": 15,
   "metadata": {},
   "outputs": [
    {
     "name": "stdout",
     "output_type": "stream",
     "text": [
      "Start with relu\n",
      "Epoch 1/10\n"
     ]
    },
    {
     "name": "stderr",
     "output_type": "stream",
     "text": [
      "2024-05-30 19:29:24.342273: E tensorflow/core/grappler/optimizers/meta_optimizer.cc:961] layout failed: INVALID_ARGUMENT: Size of values 0 does not match size of permutation 4 @ fanin shape inmodel_3/dropout_15/dropout/SelectV2-2-TransposeNHWCToNCHW-LayoutOptimizer\n"
     ]
    },
    {
     "name": "stdout",
     "output_type": "stream",
     "text": [
      "1257/1257 [==============================] - ETA: 0s - loss: 0.5105 - accuracy: 0.8266\n",
      "Epoch 1: val_loss did not improve from 0.32420\n",
      "1257/1257 [==============================] - 29s 22ms/step - loss: 0.5105 - accuracy: 0.8266 - val_loss: 0.3741 - val_accuracy: 0.8613 - lr: 0.0010\n",
      "Epoch 2/10\n",
      "1255/1257 [============================>.] - ETA: 0s - loss: 0.3917 - accuracy: 0.8578\n",
      "Epoch 2: val_loss did not improve from 0.32420\n",
      "1257/1257 [==============================] - 26s 21ms/step - loss: 0.3917 - accuracy: 0.8578 - val_loss: 0.3548 - val_accuracy: 0.8678 - lr: 0.0010\n",
      "Epoch 3/10\n",
      "1255/1257 [============================>.] - ETA: 0s - loss: 0.3720 - accuracy: 0.8633\n",
      "Epoch 3: val_loss did not improve from 0.32420\n",
      "1257/1257 [==============================] - 26s 21ms/step - loss: 0.3720 - accuracy: 0.8633 - val_loss: 0.3490 - val_accuracy: 0.8701 - lr: 0.0010\n",
      "Epoch 4/10\n",
      "1254/1257 [============================>.] - ETA: 0s - loss: 0.3601 - accuracy: 0.8668\n",
      "Epoch 4: val_loss did not improve from 0.32420\n",
      "1257/1257 [==============================] - 27s 21ms/step - loss: 0.3601 - accuracy: 0.8668 - val_loss: 0.3457 - val_accuracy: 0.8683 - lr: 0.0010\n",
      "Epoch 5/10\n",
      "1255/1257 [============================>.] - ETA: 0s - loss: 0.3518 - accuracy: 0.8695\n",
      "Epoch 5: val_loss did not improve from 0.32420\n",
      "1257/1257 [==============================] - 26s 21ms/step - loss: 0.3518 - accuracy: 0.8695 - val_loss: 0.3440 - val_accuracy: 0.8701 - lr: 0.0010\n",
      "Epoch 6/10\n",
      "1257/1257 [==============================] - ETA: 0s - loss: 0.3450 - accuracy: 0.8711\n",
      "Epoch 6: val_loss did not improve from 0.32420\n",
      "1257/1257 [==============================] - 28s 22ms/step - loss: 0.3450 - accuracy: 0.8711 - val_loss: 0.3390 - val_accuracy: 0.8724 - lr: 0.0010\n",
      "Epoch 7/10\n",
      "1255/1257 [============================>.] - ETA: 0s - loss: 0.3397 - accuracy: 0.8726\n",
      "Epoch 7: val_loss did not improve from 0.32420\n",
      "1257/1257 [==============================] - 28s 22ms/step - loss: 0.3398 - accuracy: 0.8726 - val_loss: 0.3332 - val_accuracy: 0.8746 - lr: 0.0010\n",
      "Epoch 8/10\n",
      "1256/1257 [============================>.] - ETA: 0s - loss: 0.3350 - accuracy: 0.8739\n",
      "Epoch 8: val_loss did not improve from 0.32420\n",
      "1257/1257 [==============================] - 28s 22ms/step - loss: 0.3350 - accuracy: 0.8739 - val_loss: 0.3256 - val_accuracy: 0.8770 - lr: 0.0010\n",
      "Epoch 9/10\n",
      "1256/1257 [============================>.] - ETA: 0s - loss: 0.3303 - accuracy: 0.8750\n",
      "Epoch 9: val_loss did not improve from 0.32420\n",
      "1257/1257 [==============================] - 27s 22ms/step - loss: 0.3303 - accuracy: 0.8750 - val_loss: 0.3319 - val_accuracy: 0.8761 - lr: 0.0010\n",
      "Epoch 10/10\n",
      "1256/1257 [============================>.] - ETA: 0s - loss: 0.3266 - accuracy: 0.8763\n",
      "Epoch 10: val_loss did not improve from 0.32420\n",
      "1257/1257 [==============================] - 28s 22ms/step - loss: 0.3266 - accuracy: 0.8763 - val_loss: 0.3249 - val_accuracy: 0.8766 - lr: 0.0010\n",
      "3636/3636 [==============================] - 11s 3ms/step - loss: 0.3187 - accuracy: 0.8781\n",
      "End with relu\n",
      "Start with leaky_relu\n",
      "Epoch 1/10\n"
     ]
    },
    {
     "name": "stderr",
     "output_type": "stream",
     "text": [
      "2024-05-30 19:34:17.358092: E tensorflow/core/grappler/optimizers/meta_optimizer.cc:961] layout failed: INVALID_ARGUMENT: Size of values 0 does not match size of permutation 4 @ fanin shape inmodel_4/dropout_20/dropout/SelectV2-2-TransposeNHWCToNCHW-LayoutOptimizer\n"
     ]
    },
    {
     "name": "stdout",
     "output_type": "stream",
     "text": [
      "1255/1257 [============================>.] - ETA: 0s - loss: 0.5466 - accuracy: 0.8152\n",
      "Epoch 1: val_loss did not improve from 0.32420\n",
      "1257/1257 [==============================] - 32s 23ms/step - loss: 0.5465 - accuracy: 0.8152 - val_loss: 0.4033 - val_accuracy: 0.8546 - lr: 0.0010\n",
      "Epoch 2/10\n",
      "1256/1257 [============================>.] - ETA: 0s - loss: 0.4192 - accuracy: 0.8496\n",
      "Epoch 2: val_loss did not improve from 0.32420\n",
      "1257/1257 [==============================] - 28s 22ms/step - loss: 0.4192 - accuracy: 0.8496 - val_loss: 0.3811 - val_accuracy: 0.8619 - lr: 0.0010\n",
      "Epoch 3/10\n",
      "1255/1257 [============================>.] - ETA: 0s - loss: 0.3975 - accuracy: 0.8556\n",
      "Epoch 3: val_loss did not improve from 0.32420\n",
      "1257/1257 [==============================] - 27s 22ms/step - loss: 0.3975 - accuracy: 0.8556 - val_loss: 0.3776 - val_accuracy: 0.8598 - lr: 0.0010\n",
      "Epoch 4/10\n",
      "1257/1257 [==============================] - ETA: 0s - loss: 0.3854 - accuracy: 0.8589\n",
      "Epoch 4: val_loss did not improve from 0.32420\n",
      "1257/1257 [==============================] - 28s 22ms/step - loss: 0.3854 - accuracy: 0.8589 - val_loss: 0.3649 - val_accuracy: 0.8646 - lr: 0.0010\n",
      "Epoch 5/10\n",
      "1256/1257 [============================>.] - ETA: 0s - loss: 0.3771 - accuracy: 0.8615\n",
      "Epoch 5: val_loss did not improve from 0.32420\n",
      "1257/1257 [==============================] - 28s 23ms/step - loss: 0.3771 - accuracy: 0.8614 - val_loss: 0.3539 - val_accuracy: 0.8679 - lr: 0.0010\n",
      "Epoch 6/10\n",
      "1257/1257 [==============================] - ETA: 0s - loss: 0.3698 - accuracy: 0.8639\n",
      "Epoch 6: val_loss did not improve from 0.32420\n",
      "1257/1257 [==============================] - 29s 23ms/step - loss: 0.3698 - accuracy: 0.8639 - val_loss: 0.3486 - val_accuracy: 0.8707 - lr: 0.0010\n",
      "Epoch 7/10\n",
      "1255/1257 [============================>.] - ETA: 0s - loss: 0.3647 - accuracy: 0.8650\n",
      "Epoch 7: val_loss did not improve from 0.32420\n",
      "1257/1257 [==============================] - 27s 21ms/step - loss: 0.3648 - accuracy: 0.8650 - val_loss: 0.3501 - val_accuracy: 0.8694 - lr: 0.0010\n",
      "Epoch 8/10\n",
      "1256/1257 [============================>.] - ETA: 0s - loss: 0.3598 - accuracy: 0.8663\n",
      "Epoch 8: val_loss did not improve from 0.32420\n",
      "1257/1257 [==============================] - 28s 23ms/step - loss: 0.3598 - accuracy: 0.8663 - val_loss: 0.3436 - val_accuracy: 0.8714 - lr: 0.0010\n",
      "Epoch 9/10\n",
      "1257/1257 [==============================] - ETA: 0s - loss: 0.3560 - accuracy: 0.8675\n",
      "Epoch 9: val_loss did not improve from 0.32420\n",
      "1257/1257 [==============================] - 28s 22ms/step - loss: 0.3560 - accuracy: 0.8675 - val_loss: 0.3448 - val_accuracy: 0.8720 - lr: 0.0010\n",
      "Epoch 10/10\n",
      "1256/1257 [============================>.] - ETA: 0s - loss: 0.3521 - accuracy: 0.8685\n",
      "Epoch 10: val_loss did not improve from 0.32420\n",
      "1257/1257 [==============================] - 27s 22ms/step - loss: 0.3521 - accuracy: 0.8685 - val_loss: 0.3436 - val_accuracy: 0.8686 - lr: 0.0010\n",
      "3636/3636 [==============================] - 10s 3ms/step - loss: 0.3396 - accuracy: 0.8699\n",
      "End with leaky_relu\n",
      "Start with elu\n",
      "Epoch 1/10\n"
     ]
    },
    {
     "name": "stderr",
     "output_type": "stream",
     "text": [
      "2024-05-30 19:39:16.695954: E tensorflow/core/grappler/optimizers/meta_optimizer.cc:961] layout failed: INVALID_ARGUMENT: Size of values 0 does not match size of permutation 4 @ fanin shape inmodel_5/dropout_25/dropout/SelectV2-2-TransposeNHWCToNCHW-LayoutOptimizer\n"
     ]
    },
    {
     "name": "stdout",
     "output_type": "stream",
     "text": [
      "1255/1257 [============================>.] - ETA: 0s - loss: 0.5716 - accuracy: 0.8088\n",
      "Epoch 1: val_loss did not improve from 0.32420\n",
      "1257/1257 [==============================] - 30s 22ms/step - loss: 0.5715 - accuracy: 0.8088 - val_loss: 0.4127 - val_accuracy: 0.8498 - lr: 0.0010\n",
      "Epoch 2/10\n",
      "1254/1257 [============================>.] - ETA: 0s - loss: 0.4238 - accuracy: 0.8478\n",
      "Epoch 2: val_loss did not improve from 0.32420\n",
      "1257/1257 [==============================] - 27s 22ms/step - loss: 0.4239 - accuracy: 0.8478 - val_loss: 0.3875 - val_accuracy: 0.8599 - lr: 0.0010\n",
      "Epoch 3/10\n",
      "1256/1257 [============================>.] - ETA: 0s - loss: 0.3985 - accuracy: 0.8553\n",
      "Epoch 3: val_loss did not improve from 0.32420\n",
      "1257/1257 [==============================] - 27s 21ms/step - loss: 0.3985 - accuracy: 0.8553 - val_loss: 0.3671 - val_accuracy: 0.8655 - lr: 0.0010\n",
      "Epoch 4/10\n",
      "1257/1257 [==============================] - ETA: 0s - loss: 0.3839 - accuracy: 0.8594\n",
      "Epoch 4: val_loss did not improve from 0.32420\n",
      "1257/1257 [==============================] - 28s 22ms/step - loss: 0.3839 - accuracy: 0.8594 - val_loss: 0.3598 - val_accuracy: 0.8671 - lr: 0.0010\n",
      "Epoch 5/10\n",
      "1257/1257 [==============================] - ETA: 0s - loss: 0.3739 - accuracy: 0.8626\n",
      "Epoch 5: val_loss did not improve from 0.32420\n",
      "1257/1257 [==============================] - 29s 23ms/step - loss: 0.3739 - accuracy: 0.8626 - val_loss: 0.3598 - val_accuracy: 0.8674 - lr: 0.0010\n",
      "Epoch 6/10\n",
      "1256/1257 [============================>.] - ETA: 0s - loss: 0.3663 - accuracy: 0.8646\n",
      "Epoch 6: val_loss did not improve from 0.32420\n",
      "1257/1257 [==============================] - 28s 22ms/step - loss: 0.3663 - accuracy: 0.8646 - val_loss: 0.3410 - val_accuracy: 0.8724 - lr: 0.0010\n",
      "Epoch 7/10\n",
      "1257/1257 [==============================] - ETA: 0s - loss: 0.3595 - accuracy: 0.8663\n",
      "Epoch 7: val_loss did not improve from 0.32420\n",
      "1257/1257 [==============================] - 28s 22ms/step - loss: 0.3595 - accuracy: 0.8663 - val_loss: 0.3428 - val_accuracy: 0.8720 - lr: 0.0010\n",
      "Epoch 8/10\n",
      "1256/1257 [============================>.] - ETA: 0s - loss: 0.3536 - accuracy: 0.8680\n",
      "Epoch 8: val_loss did not improve from 0.32420\n",
      "1257/1257 [==============================] - 27s 22ms/step - loss: 0.3536 - accuracy: 0.8680 - val_loss: 0.3402 - val_accuracy: 0.8724 - lr: 0.0010\n",
      "Epoch 9/10\n",
      "1256/1257 [============================>.] - ETA: 0s - loss: 0.3495 - accuracy: 0.8693\n",
      "Epoch 9: val_loss did not improve from 0.32420\n",
      "1257/1257 [==============================] - 28s 22ms/step - loss: 0.3495 - accuracy: 0.8693 - val_loss: 0.3378 - val_accuracy: 0.8740 - lr: 0.0010\n",
      "Epoch 10/10\n",
      "1255/1257 [============================>.] - ETA: 0s - loss: 0.3451 - accuracy: 0.8707\n",
      "Epoch 10: val_loss did not improve from 0.32420\n",
      "1257/1257 [==============================] - 27s 22ms/step - loss: 0.3451 - accuracy: 0.8707 - val_loss: 0.3327 - val_accuracy: 0.8750 - lr: 0.0010\n",
      "3636/3636 [==============================] - 11s 3ms/step - loss: 0.3281 - accuracy: 0.8760\n",
      "End with elu\n",
      "Start with selu\n",
      "Epoch 1/10\n"
     ]
    },
    {
     "name": "stderr",
     "output_type": "stream",
     "text": [
      "2024-05-30 19:44:14.882920: E tensorflow/core/grappler/optimizers/meta_optimizer.cc:961] layout failed: INVALID_ARGUMENT: Size of values 0 does not match size of permutation 4 @ fanin shape inmodel_6/dropout_30/dropout/SelectV2-2-TransposeNHWCToNCHW-LayoutOptimizer\n"
     ]
    },
    {
     "name": "stdout",
     "output_type": "stream",
     "text": [
      "1255/1257 [============================>.] - ETA: 0s - loss: 0.6516 - accuracy: 0.7894\n",
      "Epoch 1: val_loss did not improve from 0.32420\n",
      "1257/1257 [==============================] - 30s 22ms/step - loss: 0.6514 - accuracy: 0.7895 - val_loss: 0.4329 - val_accuracy: 0.8462 - lr: 0.0010\n",
      "Epoch 2/10\n",
      "1254/1257 [============================>.] - ETA: 0s - loss: 0.4524 - accuracy: 0.8403\n",
      "Epoch 2: val_loss did not improve from 0.32420\n",
      "1257/1257 [==============================] - 27s 21ms/step - loss: 0.4525 - accuracy: 0.8403 - val_loss: 0.4149 - val_accuracy: 0.8521 - lr: 0.0010\n",
      "Epoch 3/10\n",
      "1255/1257 [============================>.] - ETA: 0s - loss: 0.4220 - accuracy: 0.8490\n",
      "Epoch 3: val_loss did not improve from 0.32420\n",
      "1257/1257 [==============================] - 27s 22ms/step - loss: 0.4220 - accuracy: 0.8490 - val_loss: 0.3949 - val_accuracy: 0.8577 - lr: 0.0010\n",
      "Epoch 4/10\n",
      "1257/1257 [==============================] - ETA: 0s - loss: 0.4042 - accuracy: 0.8537\n",
      "Epoch 4: val_loss did not improve from 0.32420\n",
      "1257/1257 [==============================] - 28s 22ms/step - loss: 0.4042 - accuracy: 0.8537 - val_loss: 0.3800 - val_accuracy: 0.8628 - lr: 0.0010\n",
      "Epoch 5/10\n",
      "1255/1257 [============================>.] - ETA: 0s - loss: 0.3911 - accuracy: 0.8577\n",
      "Epoch 5: val_loss did not improve from 0.32420\n",
      "1257/1257 [==============================] - 26s 21ms/step - loss: 0.3911 - accuracy: 0.8577 - val_loss: 0.3724 - val_accuracy: 0.8603 - lr: 0.0010\n",
      "Epoch 6/10\n",
      "1254/1257 [============================>.] - ETA: 0s - loss: 0.3812 - accuracy: 0.8607\n",
      "Epoch 6: val_loss did not improve from 0.32420\n",
      "1257/1257 [==============================] - 26s 21ms/step - loss: 0.3812 - accuracy: 0.8607 - val_loss: 0.3581 - val_accuracy: 0.8681 - lr: 0.0010\n",
      "Epoch 7/10\n",
      "1255/1257 [============================>.] - ETA: 0s - loss: 0.3736 - accuracy: 0.8627\n",
      "Epoch 7: val_loss did not improve from 0.32420\n",
      "1257/1257 [==============================] - 27s 22ms/step - loss: 0.3737 - accuracy: 0.8627 - val_loss: 0.3552 - val_accuracy: 0.8676 - lr: 0.0010\n",
      "Epoch 8/10\n",
      "1255/1257 [============================>.] - ETA: 0s - loss: 0.3668 - accuracy: 0.8644\n",
      "Epoch 8: val_loss did not improve from 0.32420\n",
      "1257/1257 [==============================] - 27s 22ms/step - loss: 0.3668 - accuracy: 0.8644 - val_loss: 0.3529 - val_accuracy: 0.8697 - lr: 0.0010\n",
      "Epoch 9/10\n",
      "1255/1257 [============================>.] - ETA: 0s - loss: 0.3614 - accuracy: 0.8661\n",
      "Epoch 9: val_loss did not improve from 0.32420\n",
      "1257/1257 [==============================] - 28s 22ms/step - loss: 0.3614 - accuracy: 0.8661 - val_loss: 0.3448 - val_accuracy: 0.8720 - lr: 0.0010\n",
      "Epoch 10/10\n",
      "1255/1257 [============================>.] - ETA: 0s - loss: 0.3570 - accuracy: 0.8673\n",
      "Epoch 10: val_loss did not improve from 0.32420\n",
      "1257/1257 [==============================] - 28s 22ms/step - loss: 0.3569 - accuracy: 0.8673 - val_loss: 0.3413 - val_accuracy: 0.8727 - lr: 0.0010\n",
      "3636/3636 [==============================] - 10s 3ms/step - loss: 0.3353 - accuracy: 0.8739\n",
      "End with selu\n",
      "Start with sigmoid\n",
      "Epoch 1/10\n"
     ]
    },
    {
     "name": "stderr",
     "output_type": "stream",
     "text": [
      "2024-05-30 19:49:08.548101: E tensorflow/core/grappler/optimizers/meta_optimizer.cc:961] layout failed: INVALID_ARGUMENT: Size of values 0 does not match size of permutation 4 @ fanin shape inmodel_7/dropout_35/dropout/SelectV2-2-TransposeNHWCToNCHW-LayoutOptimizer\n"
     ]
    },
    {
     "name": "stdout",
     "output_type": "stream",
     "text": [
      "1256/1257 [============================>.] - ETA: 0s - loss: 0.7772 - accuracy: 0.7573\n",
      "Epoch 1: val_loss did not improve from 0.32420\n",
      "1257/1257 [==============================] - 30s 22ms/step - loss: 0.7772 - accuracy: 0.7573 - val_loss: 0.5006 - val_accuracy: 0.8236 - lr: 0.0010\n",
      "Epoch 2/10\n",
      "1255/1257 [============================>.] - ETA: 0s - loss: 0.4702 - accuracy: 0.8357\n",
      "Epoch 2: val_loss did not improve from 0.32420\n",
      "1257/1257 [==============================] - 27s 22ms/step - loss: 0.4702 - accuracy: 0.8357 - val_loss: 0.4277 - val_accuracy: 0.8451 - lr: 0.0010\n",
      "Epoch 3/10\n",
      "1257/1257 [==============================] - ETA: 0s - loss: 0.4330 - accuracy: 0.8455\n",
      "Epoch 3: val_loss did not improve from 0.32420\n",
      "1257/1257 [==============================] - 27s 22ms/step - loss: 0.4330 - accuracy: 0.8455 - val_loss: 0.3951 - val_accuracy: 0.8581 - lr: 0.0010\n",
      "Epoch 4/10\n",
      "1255/1257 [============================>.] - ETA: 0s - loss: 0.4128 - accuracy: 0.8515\n",
      "Epoch 4: val_loss did not improve from 0.32420\n",
      "1257/1257 [==============================] - 27s 22ms/step - loss: 0.4128 - accuracy: 0.8515 - val_loss: 0.3963 - val_accuracy: 0.8565 - lr: 0.0010\n",
      "Epoch 5/10\n",
      "1255/1257 [============================>.] - ETA: 0s - loss: 0.3999 - accuracy: 0.8545\n",
      "Epoch 5: val_loss did not improve from 0.32420\n",
      "1257/1257 [==============================] - 28s 22ms/step - loss: 0.3998 - accuracy: 0.8545 - val_loss: 0.3918 - val_accuracy: 0.8577 - lr: 0.0010\n",
      "Epoch 6/10\n",
      "1255/1257 [============================>.] - ETA: 0s - loss: 0.3896 - accuracy: 0.8578\n",
      "Epoch 6: val_loss did not improve from 0.32420\n",
      "1257/1257 [==============================] - 28s 22ms/step - loss: 0.3896 - accuracy: 0.8578 - val_loss: 0.3908 - val_accuracy: 0.8565 - lr: 0.0010\n",
      "Epoch 7/10\n",
      "1255/1257 [============================>.] - ETA: 0s - loss: 0.3830 - accuracy: 0.8596\n",
      "Epoch 7: val_loss did not improve from 0.32420\n",
      "1257/1257 [==============================] - 26s 21ms/step - loss: 0.3830 - accuracy: 0.8596 - val_loss: 0.3570 - val_accuracy: 0.8669 - lr: 0.0010\n",
      "Epoch 8/10\n",
      "1257/1257 [==============================] - ETA: 0s - loss: 0.3762 - accuracy: 0.8612\n",
      "Epoch 8: val_loss did not improve from 0.32420\n",
      "1257/1257 [==============================] - 27s 22ms/step - loss: 0.3762 - accuracy: 0.8612 - val_loss: 0.3615 - val_accuracy: 0.8645 - lr: 0.0010\n",
      "Epoch 9/10\n",
      "1255/1257 [============================>.] - ETA: 0s - loss: 0.3705 - accuracy: 0.8633\n",
      "Epoch 9: val_loss did not improve from 0.32420\n",
      "1257/1257 [==============================] - 28s 22ms/step - loss: 0.3705 - accuracy: 0.8633 - val_loss: 0.3589 - val_accuracy: 0.8673 - lr: 0.0010\n",
      "Epoch 10/10\n",
      "1257/1257 [==============================] - ETA: 0s - loss: 0.3656 - accuracy: 0.8642\n",
      "Epoch 10: val_loss did not improve from 0.32420\n",
      "1257/1257 [==============================] - 27s 22ms/step - loss: 0.3656 - accuracy: 0.8642 - val_loss: 0.3855 - val_accuracy: 0.8579 - lr: 0.0010\n",
      "3636/3636 [==============================] - 8s 2ms/step - loss: 0.3791 - accuracy: 0.8595\n",
      "End with sigmoid\n",
      "Start with tanh\n",
      "Epoch 1/10\n"
     ]
    },
    {
     "name": "stderr",
     "output_type": "stream",
     "text": [
      "2024-05-30 19:54:01.258669: E tensorflow/core/grappler/optimizers/meta_optimizer.cc:961] layout failed: INVALID_ARGUMENT: Size of values 0 does not match size of permutation 4 @ fanin shape inmodel_8/dropout_40/dropout/SelectV2-2-TransposeNHWCToNCHW-LayoutOptimizer\n"
     ]
    },
    {
     "name": "stdout",
     "output_type": "stream",
     "text": [
      "1254/1257 [============================>.] - ETA: 0s - loss: 0.5850 - accuracy: 0.8058\n",
      "Epoch 1: val_loss did not improve from 0.32420\n",
      "1257/1257 [==============================] - 29s 22ms/step - loss: 0.5847 - accuracy: 0.8058 - val_loss: 0.4032 - val_accuracy: 0.8551 - lr: 5.0000e-04\n",
      "Epoch 2/10\n",
      "1257/1257 [==============================] - ETA: 0s - loss: 0.4330 - accuracy: 0.8459\n",
      "Epoch 2: val_loss did not improve from 0.32420\n",
      "1257/1257 [==============================] - 26s 21ms/step - loss: 0.4330 - accuracy: 0.8459 - val_loss: 0.3898 - val_accuracy: 0.8594 - lr: 5.0000e-04\n",
      "Epoch 3/10\n",
      "1255/1257 [============================>.] - ETA: 0s - loss: 0.4070 - accuracy: 0.8533\n",
      "Epoch 3: val_loss did not improve from 0.32420\n",
      "1257/1257 [==============================] - 27s 21ms/step - loss: 0.4071 - accuracy: 0.8533 - val_loss: 0.3817 - val_accuracy: 0.8616 - lr: 5.0000e-04\n",
      "Epoch 4/10\n",
      "1257/1257 [==============================] - ETA: 0s - loss: 0.3933 - accuracy: 0.8571\n",
      "Epoch 4: val_loss did not improve from 0.32420\n",
      "1257/1257 [==============================] - 28s 22ms/step - loss: 0.3933 - accuracy: 0.8571 - val_loss: 0.3662 - val_accuracy: 0.8657 - lr: 5.0000e-04\n",
      "Epoch 5/10\n",
      "1254/1257 [============================>.] - ETA: 0s - loss: 0.3838 - accuracy: 0.8595\n",
      "Epoch 5: val_loss did not improve from 0.32420\n",
      "1257/1257 [==============================] - 27s 22ms/step - loss: 0.3838 - accuracy: 0.8595 - val_loss: 0.3636 - val_accuracy: 0.8657 - lr: 5.0000e-04\n",
      "Epoch 6/10\n",
      "1257/1257 [==============================] - ETA: 0s - loss: 0.3764 - accuracy: 0.8619\n",
      "Epoch 6: val_loss did not improve from 0.32420\n",
      "1257/1257 [==============================] - 27s 22ms/step - loss: 0.3764 - accuracy: 0.8619 - val_loss: 0.3560 - val_accuracy: 0.8679 - lr: 5.0000e-04\n",
      "Epoch 7/10\n",
      "1256/1257 [============================>.] - ETA: 0s - loss: 0.3698 - accuracy: 0.8639\n",
      "Epoch 7: val_loss did not improve from 0.32420\n",
      "1257/1257 [==============================] - 28s 22ms/step - loss: 0.3698 - accuracy: 0.8639 - val_loss: 0.3521 - val_accuracy: 0.8703 - lr: 5.0000e-04\n",
      "Epoch 8/10\n",
      "1256/1257 [============================>.] - ETA: 0s - loss: 0.3643 - accuracy: 0.8652\n",
      "Epoch 8: val_loss did not improve from 0.32420\n",
      "1257/1257 [==============================] - 28s 22ms/step - loss: 0.3643 - accuracy: 0.8652 - val_loss: 0.3488 - val_accuracy: 0.8706 - lr: 5.0000e-04\n",
      "Epoch 9/10\n",
      "1257/1257 [==============================] - ETA: 0s - loss: 0.3597 - accuracy: 0.8666\n",
      "Epoch 9: val_loss did not improve from 0.32420\n",
      "1257/1257 [==============================] - 28s 22ms/step - loss: 0.3597 - accuracy: 0.8666 - val_loss: 0.3480 - val_accuracy: 0.8709 - lr: 5.0000e-04\n",
      "Epoch 10/10\n",
      "1256/1257 [============================>.] - ETA: 0s - loss: 0.3559 - accuracy: 0.8673\n",
      "Epoch 10: val_loss did not improve from 0.32420\n",
      "1257/1257 [==============================] - 27s 22ms/step - loss: 0.3559 - accuracy: 0.8673 - val_loss: 0.3431 - val_accuracy: 0.8715 - lr: 5.0000e-04\n",
      "3636/3636 [==============================] - 12s 3ms/step - loss: 0.3380 - accuracy: 0.8720\n",
      "End with tanh\n",
      "Start with softmax\n",
      "Epoch 1/10\n"
     ]
    },
    {
     "name": "stderr",
     "output_type": "stream",
     "text": [
      "2024-05-30 19:58:59.804889: E tensorflow/core/grappler/optimizers/meta_optimizer.cc:961] layout failed: INVALID_ARGUMENT: Size of values 0 does not match size of permutation 4 @ fanin shape ingradient_tape/model_9/dropout_48/dropout/SelectV2-2-TransposeNHWCToNCHW-LayoutOptimizer\n"
     ]
    },
    {
     "name": "stdout",
     "output_type": "stream",
     "text": [
      "1256/1257 [============================>.] - ETA: 0s - loss: 2.7863 - accuracy: 0.5495\n",
      "Epoch 1: val_loss did not improve from 0.32420\n",
      "1257/1257 [==============================] - 34s 24ms/step - loss: 2.7862 - accuracy: 0.5495 - val_loss: 1.9428 - val_accuracy: 0.7443 - lr: 5.0000e-04\n",
      "Epoch 2/10\n",
      "1256/1257 [============================>.] - ETA: 0s - loss: 1.9451 - accuracy: 0.6340\n",
      "Epoch 2: val_loss did not improve from 0.32420\n",
      "1257/1257 [==============================] - 29s 23ms/step - loss: 1.9450 - accuracy: 0.6340 - val_loss: 1.4179 - val_accuracy: 0.7669 - lr: 5.0000e-04\n",
      "Epoch 3/10\n",
      "1256/1257 [============================>.] - ETA: 0s - loss: 1.6796 - accuracy: 0.6461\n",
      "Epoch 3: val_loss did not improve from 0.32420\n",
      "1257/1257 [==============================] - 30s 24ms/step - loss: 1.6796 - accuracy: 0.6461 - val_loss: 1.1391 - val_accuracy: 0.7795 - lr: 5.0000e-04\n",
      "Epoch 4/10\n",
      "1256/1257 [============================>.] - ETA: 0s - loss: 1.5214 - accuracy: 0.6567\n",
      "Epoch 4: val_loss did not improve from 0.32420\n",
      "1257/1257 [==============================] - 29s 23ms/step - loss: 1.5215 - accuracy: 0.6567 - val_loss: 0.9649 - val_accuracy: 0.7801 - lr: 5.0000e-04\n",
      "Epoch 5/10\n",
      "1255/1257 [============================>.] - ETA: 0s - loss: 1.4060 - accuracy: 0.6669\n",
      "Epoch 5: val_loss did not improve from 0.32420\n",
      "1257/1257 [==============================] - 29s 23ms/step - loss: 1.4061 - accuracy: 0.6669 - val_loss: 0.8406 - val_accuracy: 0.7898 - lr: 5.0000e-04\n",
      "Epoch 6/10\n",
      "1255/1257 [============================>.] - ETA: 0s - loss: 1.3127 - accuracy: 0.6764\n",
      "Epoch 6: val_loss did not improve from 0.32420\n",
      "1257/1257 [==============================] - 29s 23ms/step - loss: 1.3127 - accuracy: 0.6764 - val_loss: 0.7621 - val_accuracy: 0.7962 - lr: 5.0000e-04\n",
      "Epoch 7/10\n",
      "1255/1257 [============================>.] - ETA: 0s - loss: 1.2302 - accuracy: 0.6881\n",
      "Epoch 7: val_loss did not improve from 0.32420\n",
      "1257/1257 [==============================] - 30s 24ms/step - loss: 1.2301 - accuracy: 0.6881 - val_loss: 0.6969 - val_accuracy: 0.8099 - lr: 5.0000e-04\n",
      "Epoch 8/10\n",
      "1256/1257 [============================>.] - ETA: 0s - loss: 1.1560 - accuracy: 0.7021\n",
      "Epoch 8: val_loss did not improve from 0.32420\n",
      "1257/1257 [==============================] - 29s 23ms/step - loss: 1.1560 - accuracy: 0.7021 - val_loss: 0.6379 - val_accuracy: 0.8195 - lr: 5.0000e-04\n",
      "Epoch 9/10\n",
      "1255/1257 [============================>.] - ETA: 0s - loss: 1.0945 - accuracy: 0.7133\n",
      "Epoch 9: val_loss did not improve from 0.32420\n",
      "1257/1257 [==============================] - 29s 23ms/step - loss: 1.0945 - accuracy: 0.7133 - val_loss: 0.5901 - val_accuracy: 0.8387 - lr: 5.0000e-04\n",
      "Epoch 10/10\n",
      "1257/1257 [==============================] - ETA: 0s - loss: 1.0370 - accuracy: 0.7243\n",
      "Epoch 10: val_loss did not improve from 0.32420\n",
      "1257/1257 [==============================] - 30s 24ms/step - loss: 1.0370 - accuracy: 0.7243 - val_loss: 0.5536 - val_accuracy: 0.8462 - lr: 5.0000e-04\n",
      "3636/3636 [==============================] - 11s 3ms/step - loss: 0.5484 - accuracy: 0.8471\n",
      "End with softmax\n",
      "Start with softplus\n",
      "Epoch 1/10\n"
     ]
    },
    {
     "name": "stderr",
     "output_type": "stream",
     "text": [
      "2024-05-30 20:04:16.312651: E tensorflow/core/grappler/optimizers/meta_optimizer.cc:961] layout failed: INVALID_ARGUMENT: Size of values 0 does not match size of permutation 4 @ fanin shape inmodel_10/dropout_50/dropout/SelectV2-2-TransposeNHWCToNCHW-LayoutOptimizer\n"
     ]
    },
    {
     "name": "stdout",
     "output_type": "stream",
     "text": [
      "1256/1257 [============================>.] - ETA: 0s - loss: 0.6437 - accuracy: 0.7914\n",
      "Epoch 1: val_loss did not improve from 0.32420\n",
      "1257/1257 [==============================] - 31s 23ms/step - loss: 0.6437 - accuracy: 0.7914 - val_loss: 0.4180 - val_accuracy: 0.8484 - lr: 5.0000e-04\n",
      "Epoch 2/10\n",
      "1257/1257 [==============================] - ETA: 0s - loss: 0.4432 - accuracy: 0.8427\n",
      "Epoch 2: val_loss did not improve from 0.32420\n",
      "1257/1257 [==============================] - 28s 22ms/step - loss: 0.4432 - accuracy: 0.8427 - val_loss: 0.3991 - val_accuracy: 0.8553 - lr: 5.0000e-04\n",
      "Epoch 3/10\n",
      "1257/1257 [==============================] - ETA: 0s - loss: 0.4142 - accuracy: 0.8505\n",
      "Epoch 3: val_loss did not improve from 0.32420\n",
      "1257/1257 [==============================] - 27s 21ms/step - loss: 0.4142 - accuracy: 0.8505 - val_loss: 0.3873 - val_accuracy: 0.8554 - lr: 5.0000e-04\n",
      "Epoch 4/10\n",
      "1255/1257 [============================>.] - ETA: 0s - loss: 0.3980 - accuracy: 0.8556\n",
      "Epoch 4: val_loss did not improve from 0.32420\n",
      "1257/1257 [==============================] - 28s 22ms/step - loss: 0.3980 - accuracy: 0.8556 - val_loss: 0.3835 - val_accuracy: 0.8597 - lr: 5.0000e-04\n",
      "Epoch 5/10\n",
      "1256/1257 [============================>.] - ETA: 0s - loss: 0.3862 - accuracy: 0.8586\n",
      "Epoch 5: val_loss did not improve from 0.32420\n",
      "1257/1257 [==============================] - 28s 23ms/step - loss: 0.3862 - accuracy: 0.8586 - val_loss: 0.3582 - val_accuracy: 0.8682 - lr: 5.0000e-04\n",
      "Epoch 6/10\n",
      "1255/1257 [============================>.] - ETA: 0s - loss: 0.3781 - accuracy: 0.8613\n",
      "Epoch 6: val_loss did not improve from 0.32420\n",
      "1257/1257 [==============================] - 28s 22ms/step - loss: 0.3780 - accuracy: 0.8613 - val_loss: 0.3570 - val_accuracy: 0.8671 - lr: 5.0000e-04\n",
      "Epoch 7/10\n",
      "1257/1257 [==============================] - ETA: 0s - loss: 0.3706 - accuracy: 0.8634\n",
      "Epoch 7: val_loss did not improve from 0.32420\n",
      "1257/1257 [==============================] - 28s 22ms/step - loss: 0.3706 - accuracy: 0.8634 - val_loss: 0.3460 - val_accuracy: 0.8700 - lr: 5.0000e-04\n",
      "Epoch 8/10\n",
      "1255/1257 [============================>.] - ETA: 0s - loss: 0.3652 - accuracy: 0.8646\n",
      "Epoch 8: val_loss did not improve from 0.32420\n",
      "1257/1257 [==============================] - 28s 22ms/step - loss: 0.3652 - accuracy: 0.8646 - val_loss: 0.3463 - val_accuracy: 0.8695 - lr: 5.0000e-04\n",
      "Epoch 9/10\n",
      "1255/1257 [============================>.] - ETA: 0s - loss: 0.3598 - accuracy: 0.8662\n",
      "Epoch 9: val_loss did not improve from 0.32420\n",
      "1257/1257 [==============================] - 29s 23ms/step - loss: 0.3599 - accuracy: 0.8662 - val_loss: 0.3428 - val_accuracy: 0.8717 - lr: 5.0000e-04\n",
      "Epoch 10/10\n",
      "1255/1257 [============================>.] - ETA: 0s - loss: 0.3549 - accuracy: 0.8677\n",
      "Epoch 10: val_loss did not improve from 0.32420\n",
      "1257/1257 [==============================] - 28s 22ms/step - loss: 0.3549 - accuracy: 0.8677 - val_loss: 0.3410 - val_accuracy: 0.8705 - lr: 5.0000e-04\n",
      "3636/3636 [==============================] - 13s 4ms/step - loss: 0.3368 - accuracy: 0.8711\n",
      "End with softplus\n",
      "Start with softsign\n",
      "Epoch 1/10\n"
     ]
    },
    {
     "name": "stderr",
     "output_type": "stream",
     "text": [
      "2024-05-30 20:09:19.278703: E tensorflow/core/grappler/optimizers/meta_optimizer.cc:961] layout failed: INVALID_ARGUMENT: Size of values 0 does not match size of permutation 4 @ fanin shape ingradient_tape/model_11/dropout_58/dropout/SelectV2-2-TransposeNHWCToNCHW-LayoutOptimizer\n"
     ]
    },
    {
     "name": "stdout",
     "output_type": "stream",
     "text": [
      "1255/1257 [============================>.] - ETA: 0s - loss: 0.5726 - accuracy: 0.8094\n",
      "Epoch 1: val_loss did not improve from 0.32420\n",
      "1257/1257 [==============================] - 31s 23ms/step - loss: 0.5725 - accuracy: 0.8094 - val_loss: 0.4102 - val_accuracy: 0.8529 - lr: 5.0000e-04\n",
      "Epoch 2/10\n",
      "1256/1257 [============================>.] - ETA: 0s - loss: 0.4334 - accuracy: 0.8460\n",
      "Epoch 2: val_loss did not improve from 0.32420\n",
      "1257/1257 [==============================] - 27s 22ms/step - loss: 0.4334 - accuracy: 0.8461 - val_loss: 0.3972 - val_accuracy: 0.8579 - lr: 5.0000e-04\n",
      "Epoch 3/10\n",
      "1256/1257 [============================>.] - ETA: 0s - loss: 0.4112 - accuracy: 0.8525\n",
      "Epoch 3: val_loss did not improve from 0.32420\n",
      "1257/1257 [==============================] - 28s 22ms/step - loss: 0.4112 - accuracy: 0.8524 - val_loss: 0.3780 - val_accuracy: 0.8618 - lr: 5.0000e-04\n",
      "Epoch 4/10\n",
      "1255/1257 [============================>.] - ETA: 0s - loss: 0.3979 - accuracy: 0.8561\n",
      "Epoch 4: val_loss did not improve from 0.32420\n",
      "1257/1257 [==============================] - 28s 22ms/step - loss: 0.3979 - accuracy: 0.8560 - val_loss: 0.3722 - val_accuracy: 0.8646 - lr: 5.0000e-04\n",
      "Epoch 5/10\n",
      "1255/1257 [============================>.] - ETA: 0s - loss: 0.3893 - accuracy: 0.8586\n",
      "Epoch 5: val_loss did not improve from 0.32420\n",
      "1257/1257 [==============================] - 28s 22ms/step - loss: 0.3893 - accuracy: 0.8586 - val_loss: 0.3678 - val_accuracy: 0.8647 - lr: 5.0000e-04\n",
      "Epoch 6/10\n",
      "1255/1257 [============================>.] - ETA: 0s - loss: 0.3823 - accuracy: 0.8604\n",
      "Epoch 6: val_loss did not improve from 0.32420\n",
      "1257/1257 [==============================] - 28s 22ms/step - loss: 0.3823 - accuracy: 0.8604 - val_loss: 0.3699 - val_accuracy: 0.8639 - lr: 5.0000e-04\n",
      "Epoch 7/10\n",
      "1255/1257 [============================>.] - ETA: 0s - loss: 0.3762 - accuracy: 0.8623\n",
      "Epoch 7: val_loss did not improve from 0.32420\n",
      "1257/1257 [==============================] - 28s 23ms/step - loss: 0.3763 - accuracy: 0.8623 - val_loss: 0.3585 - val_accuracy: 0.8675 - lr: 5.0000e-04\n",
      "Epoch 8/10\n",
      "1257/1257 [==============================] - ETA: 0s - loss: 0.3716 - accuracy: 0.8633\n",
      "Epoch 8: val_loss did not improve from 0.32420\n",
      "1257/1257 [==============================] - 28s 23ms/step - loss: 0.3716 - accuracy: 0.8633 - val_loss: 0.3537 - val_accuracy: 0.8694 - lr: 5.0000e-04\n",
      "Epoch 9/10\n",
      "1257/1257 [==============================] - ETA: 0s - loss: 0.3677 - accuracy: 0.8644\n",
      "Epoch 9: val_loss did not improve from 0.32420\n",
      "1257/1257 [==============================] - 28s 22ms/step - loss: 0.3677 - accuracy: 0.8644 - val_loss: 0.3572 - val_accuracy: 0.8685 - lr: 5.0000e-04\n",
      "Epoch 10/10\n",
      "1256/1257 [============================>.] - ETA: 0s - loss: 0.3638 - accuracy: 0.8656\n",
      "Epoch 10: val_loss did not improve from 0.32420\n",
      "1257/1257 [==============================] - 28s 22ms/step - loss: 0.3638 - accuracy: 0.8656 - val_loss: 0.3500 - val_accuracy: 0.8699 - lr: 5.0000e-04\n",
      "3636/3636 [==============================] - 10s 3ms/step - loss: 0.3448 - accuracy: 0.8707\n",
      "End with softsign\n",
      "Start with swish\n",
      "Epoch 1/10\n"
     ]
    },
    {
     "name": "stderr",
     "output_type": "stream",
     "text": [
      "2024-05-30 20:14:19.617770: E tensorflow/core/grappler/optimizers/meta_optimizer.cc:961] layout failed: INVALID_ARGUMENT: Size of values 0 does not match size of permutation 4 @ fanin shape inmodel_12/dropout_60/dropout/SelectV2-2-TransposeNHWCToNCHW-LayoutOptimizer\n"
     ]
    },
    {
     "name": "stdout",
     "output_type": "stream",
     "text": [
      "1257/1257 [==============================] - ETA: 0s - loss: 0.4829 - accuracy: 0.8337\n",
      "Epoch 1: val_loss did not improve from 0.32420\n",
      "1257/1257 [==============================] - 35s 26ms/step - loss: 0.4829 - accuracy: 0.8337 - val_loss: 0.3727 - val_accuracy: 0.8604 - lr: 5.0000e-04\n",
      "Epoch 2/10\n",
      "1255/1257 [============================>.] - ETA: 0s - loss: 0.3827 - accuracy: 0.8601\n",
      "Epoch 2: val_loss did not improve from 0.32420\n",
      "1257/1257 [==============================] - 31s 25ms/step - loss: 0.3827 - accuracy: 0.8601 - val_loss: 0.3552 - val_accuracy: 0.8677 - lr: 5.0000e-04\n",
      "Epoch 3/10\n",
      "1256/1257 [============================>.] - ETA: 0s - loss: 0.3642 - accuracy: 0.8651\n",
      "Epoch 3: val_loss did not improve from 0.32420\n",
      "1257/1257 [==============================] - 32s 25ms/step - loss: 0.3642 - accuracy: 0.8651 - val_loss: 0.3477 - val_accuracy: 0.8704 - lr: 5.0000e-04\n",
      "Epoch 4/10\n",
      "1257/1257 [==============================] - ETA: 0s - loss: 0.3532 - accuracy: 0.8684\n",
      "Epoch 4: val_loss did not improve from 0.32420\n",
      "1257/1257 [==============================] - 32s 25ms/step - loss: 0.3532 - accuracy: 0.8684 - val_loss: 0.3350 - val_accuracy: 0.8731 - lr: 5.0000e-04\n",
      "Epoch 5/10\n",
      "1256/1257 [============================>.] - ETA: 0s - loss: 0.3452 - accuracy: 0.8710\n",
      "Epoch 5: val_loss did not improve from 0.32420\n",
      "1257/1257 [==============================] - 32s 26ms/step - loss: 0.3453 - accuracy: 0.8709 - val_loss: 0.3358 - val_accuracy: 0.8736 - lr: 5.0000e-04\n",
      "Epoch 6/10\n",
      "1255/1257 [============================>.] - ETA: 0s - loss: 0.3394 - accuracy: 0.8725\n",
      "Epoch 6: val_loss did not improve from 0.32420\n",
      "1257/1257 [==============================] - 32s 25ms/step - loss: 0.3394 - accuracy: 0.8725 - val_loss: 0.3291 - val_accuracy: 0.8758 - lr: 5.0000e-04\n",
      "Epoch 7/10\n",
      "1255/1257 [============================>.] - ETA: 0s - loss: 0.3344 - accuracy: 0.8738\n",
      "Epoch 7: val_loss did not improve from 0.32420\n",
      "1257/1257 [==============================] - 32s 25ms/step - loss: 0.3344 - accuracy: 0.8738 - val_loss: 0.3275 - val_accuracy: 0.8766 - lr: 5.0000e-04\n",
      "Epoch 8/10\n",
      "1256/1257 [============================>.] - ETA: 0s - loss: 0.3295 - accuracy: 0.8753\n",
      "Epoch 8: val_loss improved from 0.32420 to 0.32191, saving model to ./checkpoints/checkpoints_final/weights.1717063528.hdf5\n"
     ]
    },
    {
     "name": "stderr",
     "output_type": "stream",
     "text": [
      "/home/suhohan/anaconda3/envs/ann/lib/python3.10/site-packages/keras/src/engine/training.py:3079: UserWarning: You are saving your model as an HDF5 file via `model.save()`. This file format is considered legacy. We recommend using instead the native Keras format, e.g. `model.save('my_model.keras')`.\n",
      "  saving_api.save_model(\n"
     ]
    },
    {
     "name": "stdout",
     "output_type": "stream",
     "text": [
      "1257/1257 [==============================] - 32s 25ms/step - loss: 0.3295 - accuracy: 0.8753 - val_loss: 0.3219 - val_accuracy: 0.8786 - lr: 5.0000e-04\n",
      "Epoch 9/10\n",
      "1255/1257 [============================>.] - ETA: 0s - loss: 0.3256 - accuracy: 0.8761\n",
      "Epoch 9: val_loss did not improve from 0.32191\n",
      "1257/1257 [==============================] - 31s 25ms/step - loss: 0.3257 - accuracy: 0.8761 - val_loss: 0.3244 - val_accuracy: 0.8772 - lr: 5.0000e-04\n",
      "Epoch 10/10\n",
      "1257/1257 [==============================] - ETA: 0s - loss: 0.3216 - accuracy: 0.8775\n",
      "Epoch 10: val_loss did not improve from 0.32191\n",
      "1257/1257 [==============================] - 30s 24ms/step - loss: 0.3216 - accuracy: 0.8775 - val_loss: 0.3229 - val_accuracy: 0.8771 - lr: 5.0000e-04\n",
      "3636/3636 [==============================] - 9s 3ms/step - loss: 0.3173 - accuracy: 0.8781\n",
      "End with swish\n",
      "Start with gelu\n",
      "Epoch 1/10\n"
     ]
    },
    {
     "name": "stderr",
     "output_type": "stream",
     "text": [
      "2024-05-30 20:19:55.808374: E tensorflow/core/grappler/optimizers/meta_optimizer.cc:961] layout failed: INVALID_ARGUMENT: Size of values 0 does not match size of permutation 4 @ fanin shape inmodel_13/dropout_65/dropout/SelectV2-2-TransposeNHWCToNCHW-LayoutOptimizer\n"
     ]
    },
    {
     "name": "stdout",
     "output_type": "stream",
     "text": [
      "1255/1257 [============================>.] - ETA: 0s - loss: 0.4894 - accuracy: 0.8323\n",
      "Epoch 1: val_loss did not improve from 0.32191\n",
      "1257/1257 [==============================] - 38s 29ms/step - loss: 0.4893 - accuracy: 0.8323 - val_loss: 0.3648 - val_accuracy: 0.8633 - lr: 5.0000e-04\n",
      "Epoch 2/10\n",
      "1255/1257 [============================>.] - ETA: 0s - loss: 0.3806 - accuracy: 0.8606\n",
      "Epoch 2: val_loss did not improve from 0.32191\n",
      "1257/1257 [==============================] - 34s 27ms/step - loss: 0.3807 - accuracy: 0.8606 - val_loss: 0.3498 - val_accuracy: 0.8684 - lr: 5.0000e-04\n",
      "Epoch 3/10\n",
      "1255/1257 [============================>.] - ETA: 0s - loss: 0.3617 - accuracy: 0.8663\n",
      "Epoch 3: val_loss did not improve from 0.32191\n",
      "1257/1257 [==============================] - 35s 28ms/step - loss: 0.3617 - accuracy: 0.8663 - val_loss: 0.3452 - val_accuracy: 0.8710 - lr: 5.0000e-04\n",
      "Epoch 4/10\n",
      "1255/1257 [============================>.] - ETA: 0s - loss: 0.3513 - accuracy: 0.8691\n",
      "Epoch 4: val_loss did not improve from 0.32191\n",
      "1257/1257 [==============================] - 35s 28ms/step - loss: 0.3513 - accuracy: 0.8691 - val_loss: 0.3337 - val_accuracy: 0.8736 - lr: 5.0000e-04\n",
      "Epoch 5/10\n",
      "1255/1257 [============================>.] - ETA: 0s - loss: 0.3427 - accuracy: 0.8716\n",
      "Epoch 5: val_loss did not improve from 0.32191\n",
      "1257/1257 [==============================] - 35s 28ms/step - loss: 0.3428 - accuracy: 0.8716 - val_loss: 0.3328 - val_accuracy: 0.8741 - lr: 5.0000e-04\n",
      "Epoch 6/10\n",
      "1255/1257 [============================>.] - ETA: 0s - loss: 0.3369 - accuracy: 0.8729\n",
      "Epoch 6: val_loss did not improve from 0.32191\n",
      "1257/1257 [==============================] - 35s 28ms/step - loss: 0.3369 - accuracy: 0.8729 - val_loss: 0.3273 - val_accuracy: 0.8760 - lr: 5.0000e-04\n",
      "Epoch 7/10\n",
      "1255/1257 [============================>.] - ETA: 0s - loss: 0.3319 - accuracy: 0.8746\n",
      "Epoch 7: val_loss did not improve from 0.32191\n",
      "1257/1257 [==============================] - 35s 28ms/step - loss: 0.3319 - accuracy: 0.8745 - val_loss: 0.3283 - val_accuracy: 0.8757 - lr: 5.0000e-04\n",
      "Epoch 8/10\n",
      "1255/1257 [============================>.] - ETA: 0s - loss: 0.3273 - accuracy: 0.8760\n",
      "Epoch 8: val_loss improved from 0.32191 to 0.32173, saving model to ./checkpoints/checkpoints_final/weights.1717063528.hdf5\n",
      "1257/1257 [==============================] - 36s 28ms/step - loss: 0.3273 - accuracy: 0.8760 - val_loss: 0.3217 - val_accuracy: 0.8786 - lr: 5.0000e-04\n",
      "Epoch 9/10\n",
      "1257/1257 [==============================] - ETA: 0s - loss: 0.3230 - accuracy: 0.8771\n",
      "Epoch 9: val_loss did not improve from 0.32173\n",
      "1257/1257 [==============================] - 35s 28ms/step - loss: 0.3230 - accuracy: 0.8771 - val_loss: 0.3248 - val_accuracy: 0.8767 - lr: 5.0000e-04\n",
      "Epoch 10/10\n",
      "1255/1257 [============================>.] - ETA: 0s - loss: 0.3194 - accuracy: 0.8781\n",
      "Epoch 10: val_loss improved from 0.32173 to 0.32143, saving model to ./checkpoints/checkpoints_final/weights.1717063528.hdf5\n",
      "1257/1257 [==============================] - 36s 28ms/step - loss: 0.3194 - accuracy: 0.8781 - val_loss: 0.3214 - val_accuracy: 0.8771 - lr: 5.0000e-04\n",
      "3636/3636 [==============================] - 12s 3ms/step - loss: 0.3174 - accuracy: 0.8779\n",
      "End with gelu\n"
     ]
    }
   ],
   "source": [
    "for ftn in activation_functions:\n",
    "    _train_act(x_train, y_train_int, (x_valid, y_valid_int), optimizer=best_optimizer, activation_ftn=ftn)"
   ]
  },
  {
   "cell_type": "code",
   "execution_count": 17,
   "metadata": {},
   "outputs": [],
   "source": [
    "results_df = pd.DataFrame(results)\n",
    "save_results(results_df)\n",
    "for activation, h in zip(activation_functions, history):\n",
    "    history_dict = {key: list(map(float, value)) for key, value in h.history.items()}  # Ensure values are float\n",
    "    save_history(history_dict, f'history_activation_{activation}_{_time}.json')"
   ]
  },
  {
   "cell_type": "code",
   "execution_count": 19,
   "metadata": {},
   "outputs": [
    {
     "data": {
      "text/plain": [
       "12"
      ]
     },
     "execution_count": 19,
     "metadata": {},
     "output_type": "execute_result"
    }
   ],
   "source": [
    "len(history)"
   ]
  },
  {
   "cell_type": "code",
   "execution_count": 22,
   "metadata": {},
   "outputs": [
    {
     "data": {
      "image/png": "[encoded data removed]",
      "text/plain": [
       "<Figure size 1400x600 with 2 Axes>"
      ]
     },
     "metadata": {},
     "output_type": "display_data"
    }
   ],
   "source": [
    "plt.figure(figsize=(14, 6))\n",
    "\n",
    "for i in range(len(activation_functions)):\n",
    "    plt.subplot(1, 2, 1)\n",
    "    plt.plot(history[i].history['accuracy'], label=f'{activation_functions[i]} Train')\n",
    "    plt.title('train accuracy')\n",
    "    plt.xlabel('Epoch')\n",
    "    plt.ylabel('Accuracy')\n",
    "    plt.legend(loc='best')\n",
    "\n",
    "    plt.subplot(1, 2, 2)\n",
    "    plt.plot(history[i].history['loss'], label=f'{activation_functions[i]} Train')\n",
    "    plt.title('train loss')\n",
    "    plt.xlabel('Epoch')\n",
    "    plt.ylabel('Loss')\n",
    "    plt.legend(loc='best')\n",
    "\n",
    "plt.tight_layout()\n",
    "plt.savefig(f\"{result_path}/result_activation_{_time}.png\")\n",
    "plt.show()"
   ]
  },
  {
   "cell_type": "code",
   "execution_count": 24,
   "metadata": {},
   "outputs": [
    {
     "data": {
      "text/html": [
       "<div>\n",
       "<style scoped>\n",
       "    .dataframe tbody tr th:only-of-type {\n",
       "        vertical-align: middle;\n",
       "    }\n",
       "\n",
       "    .dataframe tbody tr th {\n",
       "        vertical-align: top;\n",
       "    }\n",
       "\n",
       "    .dataframe thead th {\n",
       "        text-align: right;\n",
       "    }\n",
       "</style>\n",
       "<table border=\"1\" class=\"dataframe\">\n",
       "  <thead>\n",
       "    <tr style=\"text-align: right;\">\n",
       "      <th></th>\n",
       "      <th>Activation Function</th>\n",
       "      <th>Loss</th>\n",
       "      <th>Accuracy</th>\n",
       "      <th>Training Time</th>\n",
       "    </tr>\n",
       "  </thead>\n",
       "  <tbody>\n",
       "    <tr>\n",
       "      <th>0</th>\n",
       "      <td>relu</td>\n",
       "      <td>0.319327</td>\n",
       "      <td>0.878312</td>\n",
       "      <td>284.693108</td>\n",
       "    </tr>\n",
       "    <tr>\n",
       "      <th>1</th>\n",
       "      <td>relu</td>\n",
       "      <td>0.318679</td>\n",
       "      <td>0.878054</td>\n",
       "      <td>280.359301</td>\n",
       "    </tr>\n",
       "    <tr>\n",
       "      <th>2</th>\n",
       "      <td>leaky_relu</td>\n",
       "      <td>0.339561</td>\n",
       "      <td>0.869887</td>\n",
       "      <td>288.029077</td>\n",
       "    </tr>\n",
       "    <tr>\n",
       "      <th>3</th>\n",
       "      <td>elu</td>\n",
       "      <td>0.328099</td>\n",
       "      <td>0.875965</td>\n",
       "      <td>285.020607</td>\n",
       "    </tr>\n",
       "    <tr>\n",
       "      <th>4</th>\n",
       "      <td>selu</td>\n",
       "      <td>0.335291</td>\n",
       "      <td>0.873919</td>\n",
       "      <td>281.828859</td>\n",
       "    </tr>\n",
       "    <tr>\n",
       "      <th>5</th>\n",
       "      <td>sigmoid</td>\n",
       "      <td>0.379131</td>\n",
       "      <td>0.859476</td>\n",
       "      <td>282.889556</td>\n",
       "    </tr>\n",
       "    <tr>\n",
       "      <th>6</th>\n",
       "      <td>tanh</td>\n",
       "      <td>0.338031</td>\n",
       "      <td>0.872019</td>\n",
       "      <td>282.937504</td>\n",
       "    </tr>\n",
       "    <tr>\n",
       "      <th>7</th>\n",
       "      <td>softmax</td>\n",
       "      <td>0.548433</td>\n",
       "      <td>0.847080</td>\n",
       "      <td>305.238621</td>\n",
       "    </tr>\n",
       "    <tr>\n",
       "      <th>8</th>\n",
       "      <td>softplus</td>\n",
       "      <td>0.336844</td>\n",
       "      <td>0.871056</td>\n",
       "      <td>288.652585</td>\n",
       "    </tr>\n",
       "    <tr>\n",
       "      <th>9</th>\n",
       "      <td>softsign</td>\n",
       "      <td>0.344829</td>\n",
       "      <td>0.870687</td>\n",
       "      <td>288.538176</td>\n",
       "    </tr>\n",
       "    <tr>\n",
       "      <th>10</th>\n",
       "      <td>swish</td>\n",
       "      <td>0.317296</td>\n",
       "      <td>0.878097</td>\n",
       "      <td>325.073907</td>\n",
       "    </tr>\n",
       "    <tr>\n",
       "      <th>11</th>\n",
       "      <td>gelu</td>\n",
       "      <td>0.317373</td>\n",
       "      <td>0.877925</td>\n",
       "      <td>362.646757</td>\n",
       "    </tr>\n",
       "  </tbody>\n",
       "</table>\n",
       "</div>"
      ],
      "text/plain": [
       "   Activation Function      Loss  Accuracy  Training Time\n",
       "0                 relu  0.319327  0.878312     284.693108\n",
       "1                 relu  0.318679  0.878054     280.359301\n",
       "2           leaky_relu  0.339561  0.869887     288.029077\n",
       "3                  elu  0.328099  0.875965     285.020607\n",
       "4                 selu  0.335291  0.873919     281.828859\n",
       "5              sigmoid  0.379131  0.859476     282.889556\n",
       "6                 tanh  0.338031  0.872019     282.937504\n",
       "7              softmax  0.548433  0.847080     305.238621\n",
       "8             softplus  0.336844  0.871056     288.652585\n",
       "9             softsign  0.344829  0.870687     288.538176\n",
       "10               swish  0.317296  0.878097     325.073907\n",
       "11                gelu  0.317373  0.877925     362.646757"
      ]
     },
     "metadata": {},
     "output_type": "display_data"
    }
   ],
   "source": [
    "display(results_df)"
   ]
  },
  {
   "cell_type": "code",
   "execution_count": 26,
   "metadata": {},
   "outputs": [
    {
     "data": {
      "image/png": "[encoded data removed]",
      "text/plain": [
       "<Figure size 1200x600 with 1 Axes>"
      ]
     },
     "metadata": {},
     "output_type": "display_data"
    },
    {
     "data": {
      "image/png": "[encoded data removed]",
      "text/plain": [
       "<Figure size 1200x600 with 1 Axes>"
      ]
     },
     "metadata": {},
     "output_type": "display_data"
    },
    {
     "data": {
      "image/png": "[encoded data removed]",
      "text/plain": [
       "<Figure size 1200x600 with 1 Axes>"
      ]
     },
     "metadata": {},
     "output_type": "display_data"
    }
   ],
   "source": [
    "plt.figure(figsize=(12, 6))\n",
    "sns.barplot(x=\"Activation Function\", y=\"Loss\", hue=\"Activation Function\",\n",
    "            data=results_df, palette=\"viridis\", legend=False)\n",
    "plt.title(f'{\"Loss\"} Comparison')\n",
    "plt.ylabel(\"Loss\")\n",
    "plt.xlabel('Activation Function')\n",
    "plt.tight_layout()\n",
    "plt.savefig(f'{result_path}/{\"Loss\".lower().replace(\" \", \"_\")}_comparison_{_time}.png')\n",
    "\n",
    "plt.figure(figsize=(12, 6))\n",
    "sns.barplot(x=\"Activation Function\", y=\"Accuracy\", hue=\"Activation Function\",\n",
    "            data=results_df, palette=\"viridis\", legend=False)\n",
    "plt.title(f'{\"Accuracy\"} Comparison')\n",
    "plt.ylabel(\"Accuracy\")\n",
    "plt.xlabel('Activation Function')\n",
    "plt.ylim([0.8, 1])\n",
    "plt.tight_layout()\n",
    "plt.savefig(f'{result_path}/{\"Accuracy\".lower().replace(\" \", \"_\")}_comparison_{_time}.png')\n",
    "plt.show()\n",
    "\n",
    "plt.figure(figsize=(12, 6))\n",
    "sns.barplot(x=\"Activation Function\", y=\"Training Time\", hue=\"Activation Function\",\n",
    "            data=results_df, palette=\"viridis\", legend=False)\n",
    "plt.title(f'{\"Training Time\"} Comparison')\n",
    "plt.ylabel(\"Training Time\")\n",
    "plt.xlabel('Activation Function')\n",
    "plt.tight_layout()\n",
    "plt.savefig(f'{result_path}/{\"Training Time\".lower().replace(\" \", \"_\")}_comparison_{_time}.png')\n",
    "plt.show()"
   ]
  },
  {
   "cell_type": "markdown",
   "metadata": {},
   "source": [
    "## 2.3. The number of Residual Blocks"
   ]
  },
  {
   "cell_type": "code",
   "execution_count": 27,
   "metadata": {},
   "outputs": [],
   "source": [
    "history = []\n",
    "training_time = []"
   ]
  },
  {
   "cell_type": "code",
   "execution_count": 28,
   "metadata": {},
   "outputs": [],
   "source": [
    "callbacks_final = create_callbacks('final')"
   ]
  },
  {
   "cell_type": "code",
   "execution_count": 29,
   "metadata": {},
   "outputs": [],
   "source": [
    "best_optimizer = optimizers.legacy.Nadam(learning_rate=0.001, beta_1=0.9, beta_2=0.999)\n",
    "best_activation = layers.Activation('swish')"
   ]
  },
  {
   "cell_type": "code",
   "execution_count": 30,
   "metadata": {},
   "outputs": [],
   "source": [
    "our_model_1res = ResModel(num_residual_units=1, activation=best_activation)\n",
    "our_model_2res = ResModel(num_residual_units=2, activation=best_activation)\n",
    "our_model_3res = ResModel(num_residual_units=3, activation=best_activation)\n",
    "our_model_4res = ResModel(num_residual_units=4, activation=best_activation)"
   ]
  },
  {
   "cell_type": "code",
   "execution_count": 31,
   "metadata": {},
   "outputs": [],
   "source": [
    "our_model_1res.compile(optimizer=best_optimizer, loss='sparse_categorical_crossentropy', metrics=['accuracy'])\n",
    "our_model_2res.compile(optimizer=best_optimizer, loss='sparse_categorical_crossentropy', metrics=['accuracy'])\n",
    "our_model_3res.compile(optimizer=best_optimizer, loss='sparse_categorical_crossentropy', metrics=['accuracy'])\n",
    "our_model_4res.compile(optimizer=best_optimizer, loss='sparse_categorical_crossentropy', metrics=['accuracy'])"
   ]
  },
  {
   "cell_type": "code",
   "execution_count": 32,
   "metadata": {},
   "outputs": [],
   "source": [
    "EPOCHS = 50\n",
    "BATCH_SIZE = 500"
   ]
  },
  {
   "cell_type": "code",
   "execution_count": 33,
   "metadata": {},
   "outputs": [],
   "source": [
    "def _train_blocks(model, x_train, y_train, validation_data):\n",
    "    model.compile(optimizer=best_optimizer, loss='sparse_categorical_crossentropy', metrics=['accuracy'])\n",
    "\n",
    "    start_time = time.time()\n",
    "    hist = model.train(x_train, y_train, validation_data=validation_data, epochs=EPOCHS,\n",
    "                       batch_size=BATCH_SIZE, callbacks=[callbacks_final])\n",
    "    end_time = time.time()\n",
    "\n",
    "    history.append(hist)\n",
    "\n",
    "    loss, accuracy = model.evaluate(x_test, y_test_int)\n",
    "    results['Loss'].append(loss)\n",
    "    results['Accuracy'].append(accuracy)\n",
    "    results['Training Time'].append(end_time - start_time)"
   ]
  },
  {
   "cell_type": "code",
   "execution_count": 34,
   "metadata": {},
   "outputs": [
    {
     "name": "stdout",
     "output_type": "stream",
     "text": [
      "Epoch 1/50\n",
      "   1/1257 [..............................] - ETA: 26:03 - loss: 4.9202 - accuracy: 0.0140"
     ]
    },
    {
     "name": "stderr",
     "output_type": "stream",
     "text": [
      "2024-05-30 20:31:57.333827: E tensorflow/core/grappler/optimizers/meta_optimizer.cc:961] layout failed: INVALID_ARGUMENT: Size of values 0 does not match size of permutation 4 @ fanin shape inmodel_14/dropout_70/dropout/SelectV2-2-TransposeNHWCToNCHW-LayoutOptimizer\n"
     ]
    },
    {
     "name": "stdout",
     "output_type": "stream",
     "text": [
      "1256/1257 [============================>.] - ETA: 0s - loss: 0.5501 - accuracy: 0.8189\n",
      "Epoch 1: val_loss improved from inf to 0.39629, saving model to ./checkpoints/checkpoints_final/weights.1717068708.hdf5\n",
      "1257/1257 [==============================] - 22s 17ms/step - loss: 0.5501 - accuracy: 0.8190 - val_loss: 0.3963 - val_accuracy: 0.8559 - lr: 0.0010\n",
      "Epoch 2/50\n",
      "   5/1257 [..............................] - ETA: 19s - loss: 0.4084 - accuracy: 0.8568"
     ]
    },
    {
     "name": "stderr",
     "output_type": "stream",
     "text": [
      "/home/suhohan/anaconda3/envs/ann/lib/python3.10/site-packages/keras/src/engine/training.py:3079: UserWarning: You are saving your model as an HDF5 file via `model.save()`. This file format is considered legacy. We recommend using instead the native Keras format, e.g. `model.save('my_model.keras')`.\n",
      "  saving_api.save_model(\n"
     ]
    },
    {
     "name": "stdout",
     "output_type": "stream",
     "text": [
      "1257/1257 [==============================] - ETA: 0s - loss: 0.4077 - accuracy: 0.8538\n",
      "Epoch 2: val_loss improved from 0.39629 to 0.37166, saving model to ./checkpoints/checkpoints_final/weights.1717068708.hdf5\n",
      "1257/1257 [==============================] - 20s 16ms/step - loss: 0.4077 - accuracy: 0.8538 - val_loss: 0.3717 - val_accuracy: 0.8653 - lr: 0.0010\n",
      "Epoch 3/50\n",
      "1256/1257 [============================>.] - ETA: 0s - loss: 0.3852 - accuracy: 0.8595\n",
      "Epoch 3: val_loss improved from 0.37166 to 0.35664, saving model to ./checkpoints/checkpoints_final/weights.1717068708.hdf5\n",
      "1257/1257 [==============================] - 20s 16ms/step - loss: 0.3852 - accuracy: 0.8595 - val_loss: 0.3566 - val_accuracy: 0.8682 - lr: 0.0010\n",
      "Epoch 4/50\n",
      "1256/1257 [============================>.] - ETA: 0s - loss: 0.3721 - accuracy: 0.8629\n",
      "Epoch 4: val_loss improved from 0.35664 to 0.34746, saving model to ./checkpoints/checkpoints_final/weights.1717068708.hdf5\n",
      "1257/1257 [==============================] - 20s 16ms/step - loss: 0.3721 - accuracy: 0.8629 - val_loss: 0.3475 - val_accuracy: 0.8706 - lr: 0.0010\n",
      "Epoch 5/50\n",
      "1254/1257 [============================>.] - ETA: 0s - loss: 0.3638 - accuracy: 0.8653\n",
      "Epoch 5: val_loss improved from 0.34746 to 0.34731, saving model to ./checkpoints/checkpoints_final/weights.1717068708.hdf5\n",
      "1257/1257 [==============================] - 20s 16ms/step - loss: 0.3638 - accuracy: 0.8653 - val_loss: 0.3473 - val_accuracy: 0.8707 - lr: 0.0010\n",
      "Epoch 6/50\n",
      "1255/1257 [============================>.] - ETA: 0s - loss: 0.3570 - accuracy: 0.8670\n",
      "Epoch 6: val_loss improved from 0.34731 to 0.33856, saving model to ./checkpoints/checkpoints_final/weights.1717068708.hdf5\n",
      "1257/1257 [==============================] - 20s 16ms/step - loss: 0.3570 - accuracy: 0.8670 - val_loss: 0.3386 - val_accuracy: 0.8735 - lr: 0.0010\n",
      "Epoch 7/50\n",
      "1254/1257 [============================>.] - ETA: 0s - loss: 0.3510 - accuracy: 0.8689\n",
      "Epoch 7: val_loss improved from 0.33856 to 0.33767, saving model to ./checkpoints/checkpoints_final/weights.1717068708.hdf5\n",
      "1257/1257 [==============================] - 20s 16ms/step - loss: 0.3511 - accuracy: 0.8689 - val_loss: 0.3377 - val_accuracy: 0.8739 - lr: 0.0010\n",
      "Epoch 8/50\n",
      "1254/1257 [============================>.] - ETA: 0s - loss: 0.3471 - accuracy: 0.8702\n",
      "Epoch 8: val_loss improved from 0.33767 to 0.33275, saving model to ./checkpoints/checkpoints_final/weights.1717068708.hdf5\n",
      "1257/1257 [==============================] - 20s 16ms/step - loss: 0.3471 - accuracy: 0.8702 - val_loss: 0.3327 - val_accuracy: 0.8760 - lr: 0.0010\n",
      "Epoch 9/50\n",
      "1257/1257 [==============================] - ETA: 0s - loss: 0.3429 - accuracy: 0.8707\n",
      "Epoch 9: val_loss improved from 0.33275 to 0.33154, saving model to ./checkpoints/checkpoints_final/weights.1717068708.hdf5\n",
      "1257/1257 [==============================] - 20s 16ms/step - loss: 0.3429 - accuracy: 0.8707 - val_loss: 0.3315 - val_accuracy: 0.8768 - lr: 0.0010\n",
      "Epoch 10/50\n",
      "1254/1257 [============================>.] - ETA: 0s - loss: 0.3392 - accuracy: 0.8723\n",
      "Epoch 10: val_loss improved from 0.33154 to 0.32949, saving model to ./checkpoints/checkpoints_final/weights.1717068708.hdf5\n",
      "1257/1257 [==============================] - 20s 16ms/step - loss: 0.3391 - accuracy: 0.8723 - val_loss: 0.3295 - val_accuracy: 0.8760 - lr: 0.0010\n",
      "Epoch 11/50\n",
      "1255/1257 [============================>.] - ETA: 0s - loss: 0.3357 - accuracy: 0.8730\n",
      "Epoch 11: val_loss did not improve from 0.32949\n",
      "1257/1257 [==============================] - 21s 16ms/step - loss: 0.3357 - accuracy: 0.8730 - val_loss: 0.3331 - val_accuracy: 0.8757 - lr: 0.0010\n",
      "Epoch 12/50\n",
      "1254/1257 [============================>.] - ETA: 0s - loss: 0.3330 - accuracy: 0.8740\n",
      "Epoch 12: val_loss improved from 0.32949 to 0.32722, saving model to ./checkpoints/checkpoints_final/weights.1717068708.hdf5\n",
      "1257/1257 [==============================] - 20s 16ms/step - loss: 0.3331 - accuracy: 0.8739 - val_loss: 0.3272 - val_accuracy: 0.8760 - lr: 0.0010\n",
      "Epoch 13/50\n",
      "1257/1257 [==============================] - ETA: 0s - loss: 0.3299 - accuracy: 0.8747\n",
      "Epoch 13: val_loss did not improve from 0.32722\n",
      "1257/1257 [==============================] - 20s 16ms/step - loss: 0.3299 - accuracy: 0.8747 - val_loss: 0.3304 - val_accuracy: 0.8761 - lr: 0.0010\n",
      "Epoch 14/50\n",
      "1256/1257 [============================>.] - ETA: 0s - loss: 0.3283 - accuracy: 0.8756\n",
      "Epoch 14: val_loss did not improve from 0.32722\n",
      "1257/1257 [==============================] - 20s 16ms/step - loss: 0.3283 - accuracy: 0.8756 - val_loss: 0.3347 - val_accuracy: 0.8738 - lr: 0.0010\n",
      "Epoch 15/50\n",
      "1255/1257 [============================>.] - ETA: 0s - loss: 0.3254 - accuracy: 0.8761\n",
      "Epoch 15: val_loss did not improve from 0.32722\n",
      "1257/1257 [==============================] - 20s 16ms/step - loss: 0.3253 - accuracy: 0.8761 - val_loss: 0.3282 - val_accuracy: 0.8777 - lr: 0.0010\n",
      "Epoch 16/50\n",
      "1254/1257 [============================>.] - ETA: 0s - loss: 0.3146 - accuracy: 0.8793\n",
      "Epoch 16: val_loss improved from 0.32722 to 0.32297, saving model to ./checkpoints/checkpoints_final/weights.1717068708.hdf5\n",
      "1257/1257 [==============================] - 21s 16ms/step - loss: 0.3146 - accuracy: 0.8794 - val_loss: 0.3230 - val_accuracy: 0.8789 - lr: 5.0000e-04\n",
      "Epoch 17/50\n",
      "1254/1257 [============================>.] - ETA: 0s - loss: 0.3107 - accuracy: 0.8805\n",
      "Epoch 17: val_loss improved from 0.32297 to 0.32291, saving model to ./checkpoints/checkpoints_final/weights.1717068708.hdf5\n",
      "1257/1257 [==============================] - 21s 16ms/step - loss: 0.3107 - accuracy: 0.8805 - val_loss: 0.3229 - val_accuracy: 0.8786 - lr: 5.0000e-04\n",
      "Epoch 18/50\n",
      "1257/1257 [==============================] - ETA: 0s - loss: 0.3082 - accuracy: 0.8812\n",
      "Epoch 18: val_loss did not improve from 0.32291\n",
      "1257/1257 [==============================] - 20s 16ms/step - loss: 0.3082 - accuracy: 0.8812 - val_loss: 0.3233 - val_accuracy: 0.8796 - lr: 5.0000e-04\n",
      "Epoch 19/50\n",
      "1257/1257 [==============================] - ETA: 0s - loss: 0.3071 - accuracy: 0.8817\n",
      "Epoch 19: val_loss did not improve from 0.32291\n",
      "1257/1257 [==============================] - 21s 16ms/step - loss: 0.3071 - accuracy: 0.8817 - val_loss: 0.3257 - val_accuracy: 0.8789 - lr: 5.0000e-04\n",
      "Epoch 20/50\n",
      "1255/1257 [============================>.] - ETA: 0s - loss: 0.2997 - accuracy: 0.8838\n",
      "Epoch 20: val_loss improved from 0.32291 to 0.32194, saving model to ./checkpoints/checkpoints_final/weights.1717068708.hdf5\n",
      "1257/1257 [==============================] - 21s 17ms/step - loss: 0.2996 - accuracy: 0.8838 - val_loss: 0.3219 - val_accuracy: 0.8801 - lr: 2.5000e-04\n",
      "Epoch 21/50\n",
      "1255/1257 [============================>.] - ETA: 0s - loss: 0.2984 - accuracy: 0.8845\n",
      "Epoch 21: val_loss did not improve from 0.32194\n",
      "1257/1257 [==============================] - 21s 17ms/step - loss: 0.2985 - accuracy: 0.8845 - val_loss: 0.3228 - val_accuracy: 0.8800 - lr: 2.5000e-04\n",
      "Epoch 22/50\n",
      "1256/1257 [============================>.] - ETA: 0s - loss: 0.2966 - accuracy: 0.8848\n",
      "Epoch 22: val_loss did not improve from 0.32194\n",
      "1257/1257 [==============================] - 21s 17ms/step - loss: 0.2966 - accuracy: 0.8848 - val_loss: 0.3233 - val_accuracy: 0.8798 - lr: 2.5000e-04\n",
      "Epoch 23/50\n",
      "1257/1257 [==============================] - ETA: 0s - loss: 0.2957 - accuracy: 0.8849\n",
      "Epoch 23: val_loss did not improve from 0.32194\n",
      "1257/1257 [==============================] - 21s 16ms/step - loss: 0.2957 - accuracy: 0.8849 - val_loss: 0.3232 - val_accuracy: 0.8797 - lr: 2.5000e-04\n",
      "Epoch 24/50\n",
      "1257/1257 [==============================] - ETA: 0s - loss: 0.2922 - accuracy: 0.8863\n",
      "Epoch 24: val_loss did not improve from 0.32194\n",
      "1257/1257 [==============================] - 20s 16ms/step - loss: 0.2922 - accuracy: 0.8863 - val_loss: 0.3226 - val_accuracy: 0.8802 - lr: 1.2500e-04\n",
      "Epoch 25/50\n",
      "1257/1257 [==============================] - ETA: 0s - loss: 0.2905 - accuracy: 0.8865\n",
      "Epoch 25: val_loss did not improve from 0.32194\n",
      "1257/1257 [==============================] - 21s 16ms/step - loss: 0.2905 - accuracy: 0.8865 - val_loss: 0.3220 - val_accuracy: 0.8804 - lr: 1.2500e-04\n",
      "Epoch 26/50\n",
      "1254/1257 [============================>.] - ETA: 0s - loss: 0.2908 - accuracy: 0.8868\n",
      "Epoch 26: val_loss did not improve from 0.32194\n",
      "1257/1257 [==============================] - 20s 16ms/step - loss: 0.2908 - accuracy: 0.8868 - val_loss: 0.3225 - val_accuracy: 0.8807 - lr: 1.2500e-04\n",
      "Epoch 27/50\n",
      "1254/1257 [============================>.] - ETA: 0s - loss: 0.2880 - accuracy: 0.8873\n",
      "Epoch 27: val_loss did not improve from 0.32194\n",
      "1257/1257 [==============================] - 20s 16ms/step - loss: 0.2880 - accuracy: 0.8873 - val_loss: 0.3221 - val_accuracy: 0.8806 - lr: 6.2500e-05\n",
      "Epoch 28/50\n",
      "1257/1257 [==============================] - ETA: 0s - loss: 0.2881 - accuracy: 0.8872\n",
      "Epoch 28: val_loss improved from 0.32194 to 0.32191, saving model to ./checkpoints/checkpoints_final/weights.1717068708.hdf5\n",
      "1257/1257 [==============================] - 21s 17ms/step - loss: 0.2881 - accuracy: 0.8872 - val_loss: 0.3219 - val_accuracy: 0.8807 - lr: 6.2500e-05\n",
      "Epoch 29/50\n",
      "1257/1257 [==============================] - ETA: 0s - loss: 0.2876 - accuracy: 0.8876\n",
      "Epoch 29: val_loss did not improve from 0.32191\n",
      "1257/1257 [==============================] - 20s 16ms/step - loss: 0.2876 - accuracy: 0.8876 - val_loss: 0.3225 - val_accuracy: 0.8807 - lr: 6.2500e-05\n",
      "Epoch 30/50\n",
      "1254/1257 [============================>.] - ETA: 0s - loss: 0.2869 - accuracy: 0.8878\n",
      "Epoch 30: val_loss did not improve from 0.32191\n",
      "1257/1257 [==============================] - 20s 16ms/step - loss: 0.2870 - accuracy: 0.8878 - val_loss: 0.3222 - val_accuracy: 0.8806 - lr: 3.1250e-05\n",
      "Epoch 31/50\n",
      "1256/1257 [============================>.] - ETA: 0s - loss: 0.2863 - accuracy: 0.8881\n",
      "Epoch 31: val_loss did not improve from 0.32191\n",
      "1257/1257 [==============================] - 21s 16ms/step - loss: 0.2863 - accuracy: 0.8881 - val_loss: 0.3223 - val_accuracy: 0.8807 - lr: 3.1250e-05\n",
      "Epoch 32/50\n",
      "1257/1257 [==============================] - ETA: 0s - loss: 0.2853 - accuracy: 0.8883\n",
      "Epoch 32: val_loss did not improve from 0.32191\n",
      "1257/1257 [==============================] - 20s 16ms/step - loss: 0.2853 - accuracy: 0.8883 - val_loss: 0.3222 - val_accuracy: 0.8807 - lr: 3.1250e-05\n",
      "Epoch 33/50\n",
      "1256/1257 [============================>.] - ETA: 0s - loss: 0.2858 - accuracy: 0.8883\n",
      "Epoch 33: val_loss did not improve from 0.32191\n",
      "1257/1257 [==============================] - 21s 17ms/step - loss: 0.2858 - accuracy: 0.8883 - val_loss: 0.3223 - val_accuracy: 0.8807 - lr: 1.5625e-05\n",
      "Epoch 34/50\n",
      "1256/1257 [============================>.] - ETA: 0s - loss: 0.2852 - accuracy: 0.8883\n",
      "Epoch 34: val_loss did not improve from 0.32191\n",
      "1257/1257 [==============================] - 20s 16ms/step - loss: 0.2852 - accuracy: 0.8883 - val_loss: 0.3224 - val_accuracy: 0.8805 - lr: 1.5625e-05\n",
      "Epoch 35/50\n",
      "1255/1257 [============================>.] - ETA: 0s - loss: 0.2851 - accuracy: 0.8884\n",
      "Epoch 35: val_loss did not improve from 0.32191\n",
      "1257/1257 [==============================] - 20s 16ms/step - loss: 0.2851 - accuracy: 0.8884 - val_loss: 0.3224 - val_accuracy: 0.8805 - lr: 1.5625e-05\n",
      "Epoch 36/50\n",
      "1257/1257 [==============================] - ETA: 0s - loss: 0.2847 - accuracy: 0.8884\n",
      "Epoch 36: val_loss did not improve from 0.32191\n",
      "1257/1257 [==============================] - 21s 16ms/step - loss: 0.2847 - accuracy: 0.8884 - val_loss: 0.3223 - val_accuracy: 0.8805 - lr: 7.8125e-06\n",
      "Epoch 37/50\n",
      "1255/1257 [============================>.] - ETA: 0s - loss: 0.2848 - accuracy: 0.8884\n",
      "Epoch 37: val_loss did not improve from 0.32191\n",
      "1257/1257 [==============================] - 20s 16ms/step - loss: 0.2848 - accuracy: 0.8883 - val_loss: 0.3223 - val_accuracy: 0.8806 - lr: 7.8125e-06\n",
      "Epoch 38/50\n",
      "1257/1257 [==============================] - ETA: 0s - loss: 0.2844 - accuracy: 0.8887\n",
      "Epoch 38: val_loss did not improve from 0.32191\n",
      "1257/1257 [==============================] - 20s 16ms/step - loss: 0.2844 - accuracy: 0.8887 - val_loss: 0.3224 - val_accuracy: 0.8808 - lr: 7.8125e-06\n",
      "Epoch 39/50\n",
      "1257/1257 [==============================] - ETA: 0s - loss: 0.2844 - accuracy: 0.8884\n",
      "Epoch 39: val_loss did not improve from 0.32191\n",
      "1257/1257 [==============================] - 20s 16ms/step - loss: 0.2844 - accuracy: 0.8884 - val_loss: 0.3223 - val_accuracy: 0.8807 - lr: 3.9063e-06\n",
      "Epoch 40/50\n",
      "1254/1257 [============================>.] - ETA: 0s - loss: 0.2850 - accuracy: 0.8887\n",
      "Epoch 40: val_loss did not improve from 0.32191\n",
      "1257/1257 [==============================] - 20s 16ms/step - loss: 0.2849 - accuracy: 0.8887 - val_loss: 0.3223 - val_accuracy: 0.8807 - lr: 3.9063e-06\n",
      "Epoch 41/50\n",
      "1255/1257 [============================>.] - ETA: 0s - loss: 0.2847 - accuracy: 0.8882\n",
      "Epoch 41: val_loss did not improve from 0.32191\n",
      "1257/1257 [==============================] - 20s 16ms/step - loss: 0.2847 - accuracy: 0.8882 - val_loss: 0.3223 - val_accuracy: 0.8806 - lr: 3.9063e-06\n",
      "Epoch 42/50\n",
      "1255/1257 [============================>.] - ETA: 0s - loss: 0.2843 - accuracy: 0.8885\n",
      "Epoch 42: val_loss did not improve from 0.32191\n",
      "1257/1257 [==============================] - 21s 16ms/step - loss: 0.2843 - accuracy: 0.8885 - val_loss: 0.3223 - val_accuracy: 0.8806 - lr: 1.9531e-06\n",
      "Epoch 43/50\n",
      "1257/1257 [==============================] - ETA: 0s - loss: 0.2849 - accuracy: 0.8884\n",
      "Epoch 43: val_loss did not improve from 0.32191\n",
      "1257/1257 [==============================] - 20s 16ms/step - loss: 0.2849 - accuracy: 0.8884 - val_loss: 0.3224 - val_accuracy: 0.8808 - lr: 1.9531e-06\n",
      "Epoch 44/50\n",
      "1257/1257 [==============================] - ETA: 0s - loss: 0.2845 - accuracy: 0.8889\n",
      "Epoch 44: val_loss did not improve from 0.32191\n",
      "1257/1257 [==============================] - 20s 16ms/step - loss: 0.2845 - accuracy: 0.8889 - val_loss: 0.3224 - val_accuracy: 0.8807 - lr: 1.9531e-06\n",
      "Epoch 45/50\n",
      "1254/1257 [============================>.] - ETA: 0s - loss: 0.2847 - accuracy: 0.8885\n",
      "Epoch 45: val_loss did not improve from 0.32191\n",
      "1257/1257 [==============================] - 20s 16ms/step - loss: 0.2847 - accuracy: 0.8886 - val_loss: 0.3223 - val_accuracy: 0.8807 - lr: 1.0000e-06\n",
      "Epoch 46/50\n",
      "1255/1257 [============================>.] - ETA: 0s - loss: 0.2845 - accuracy: 0.8885\n",
      "Epoch 46: val_loss did not improve from 0.32191\n",
      "1257/1257 [==============================] - 20s 16ms/step - loss: 0.2846 - accuracy: 0.8885 - val_loss: 0.3224 - val_accuracy: 0.8807 - lr: 1.0000e-06\n",
      "Epoch 47/50\n",
      "1255/1257 [============================>.] - ETA: 0s - loss: 0.2850 - accuracy: 0.8883\n",
      "Epoch 47: val_loss did not improve from 0.32191\n",
      "1257/1257 [==============================] - 20s 16ms/step - loss: 0.2850 - accuracy: 0.8883 - val_loss: 0.3223 - val_accuracy: 0.8806 - lr: 1.0000e-06\n",
      "Epoch 48/50\n",
      "1256/1257 [============================>.] - ETA: 0s - loss: 0.2841 - accuracy: 0.8887\n",
      "Epoch 48: val_loss did not improve from 0.32191\n",
      "1257/1257 [==============================] - 21s 17ms/step - loss: 0.2841 - accuracy: 0.8887 - val_loss: 0.3223 - val_accuracy: 0.8808 - lr: 1.0000e-06\n",
      "Epoch 49/50\n",
      "1257/1257 [==============================] - ETA: 0s - loss: 0.2844 - accuracy: 0.8889\n",
      "Epoch 49: val_loss did not improve from 0.32191\n",
      "1257/1257 [==============================] - 20s 16ms/step - loss: 0.2844 - accuracy: 0.8889 - val_loss: 0.3224 - val_accuracy: 0.8807 - lr: 1.0000e-06\n",
      "Epoch 50/50\n",
      "1255/1257 [============================>.] - ETA: 0s - loss: 0.2844 - accuracy: 0.8887\n",
      "Epoch 50: val_loss did not improve from 0.32191\n",
      "1257/1257 [==============================] - 20s 16ms/step - loss: 0.2845 - accuracy: 0.8887 - val_loss: 0.3224 - val_accuracy: 0.8807 - lr: 1.0000e-06\n",
      "3636/3636 [==============================] - 6s 2ms/step - loss: 0.3157 - accuracy: 0.8821\n",
      "Epoch 1/50\n"
     ]
    },
    {
     "name": "stderr",
     "output_type": "stream",
     "text": [
      "2024-05-30 20:49:13.906116: E tensorflow/core/grappler/optimizers/meta_optimizer.cc:961] layout failed: INVALID_ARGUMENT: Size of values 0 does not match size of permutation 4 @ fanin shape inmodel_15/dropout_73/dropout/SelectV2-2-TransposeNHWCToNCHW-LayoutOptimizer\n"
     ]
    },
    {
     "name": "stdout",
     "output_type": "stream",
     "text": [
      "1257/1257 [==============================] - ETA: 0s - loss: 3.5215 - accuracy: 0.2043\n",
      "Epoch 1: val_loss did not improve from 0.32191\n",
      "1257/1257 [==============================] - 28s 21ms/step - loss: 3.5215 - accuracy: 0.2043 - val_loss: 2.3442 - val_accuracy: 0.5010 - lr: 1.0000e-06\n",
      "Epoch 2/50\n",
      "1255/1257 [============================>.] - ETA: 0s - loss: 2.6392 - accuracy: 0.3931\n",
      "Epoch 2: val_loss did not improve from 0.32191\n",
      "1257/1257 [==============================] - 26s 21ms/step - loss: 2.6390 - accuracy: 0.3931 - val_loss: 1.9255 - val_accuracy: 0.5535 - lr: 1.0000e-06\n",
      "Epoch 3/50\n",
      "1255/1257 [============================>.] - ETA: 0s - loss: 2.2604 - accuracy: 0.4687\n",
      "Epoch 3: val_loss did not improve from 0.32191\n",
      "1257/1257 [==============================] - 26s 21ms/step - loss: 2.2605 - accuracy: 0.4687 - val_loss: 1.6798 - val_accuracy: 0.5945 - lr: 1.0000e-06\n",
      "Epoch 4/50\n",
      "1255/1257 [============================>.] - ETA: 0s - loss: 2.0166 - accuracy: 0.5141\n",
      "Epoch 4: val_loss did not improve from 0.32191\n",
      "1257/1257 [==============================] - 26s 21ms/step - loss: 2.0165 - accuracy: 0.5141 - val_loss: 1.5059 - val_accuracy: 0.6275 - lr: 1.0000e-06\n",
      "Epoch 5/50\n",
      "1257/1257 [==============================] - ETA: 0s - loss: 1.8371 - accuracy: 0.5498\n",
      "Epoch 5: val_loss did not improve from 0.32191\n",
      "1257/1257 [==============================] - 26s 21ms/step - loss: 1.8371 - accuracy: 0.5498 - val_loss: 1.3751 - val_accuracy: 0.6507 - lr: 1.0000e-06\n",
      "Epoch 6/50\n",
      "1254/1257 [============================>.] - ETA: 0s - loss: 1.6952 - accuracy: 0.5767\n",
      "Epoch 6: val_loss did not improve from 0.32191\n",
      "1257/1257 [==============================] - 26s 21ms/step - loss: 1.6951 - accuracy: 0.5767 - val_loss: 1.2701 - val_accuracy: 0.6709 - lr: 1.0000e-06\n",
      "Epoch 7/50\n",
      "1255/1257 [============================>.] - ETA: 0s - loss: 1.5809 - accuracy: 0.5994\n",
      "Epoch 7: val_loss did not improve from 0.32191\n",
      "1257/1257 [==============================] - 26s 21ms/step - loss: 1.5808 - accuracy: 0.5993 - val_loss: 1.1836 - val_accuracy: 0.6883 - lr: 1.0000e-06\n",
      "Epoch 8/50\n",
      "1255/1257 [============================>.] - ETA: 0s - loss: 1.4844 - accuracy: 0.6189\n",
      "Epoch 8: val_loss did not improve from 0.32191\n",
      "1257/1257 [==============================] - 26s 21ms/step - loss: 1.4844 - accuracy: 0.6189 - val_loss: 1.1105 - val_accuracy: 0.7024 - lr: 1.0000e-06\n",
      "Epoch 9/50\n",
      "1256/1257 [============================>.] - ETA: 0s - loss: 1.4033 - accuracy: 0.6348\n",
      "Epoch 9: val_loss did not improve from 0.32191\n",
      "1257/1257 [==============================] - 26s 21ms/step - loss: 1.4033 - accuracy: 0.6348 - val_loss: 1.0491 - val_accuracy: 0.7141 - lr: 1.0000e-06\n",
      "Epoch 10/50\n",
      "1255/1257 [============================>.] - ETA: 0s - loss: 1.3327 - accuracy: 0.6496\n",
      "Epoch 10: val_loss did not improve from 0.32191\n",
      "1257/1257 [==============================] - 26s 21ms/step - loss: 1.3327 - accuracy: 0.6496 - val_loss: 0.9943 - val_accuracy: 0.7248 - lr: 1.0000e-06\n",
      "Epoch 11/50\n",
      "1255/1257 [============================>.] - ETA: 0s - loss: 1.2727 - accuracy: 0.6617\n",
      "Epoch 11: val_loss did not improve from 0.32191\n",
      "1257/1257 [==============================] - 26s 21ms/step - loss: 1.2726 - accuracy: 0.6617 - val_loss: 0.9483 - val_accuracy: 0.7334 - lr: 1.0000e-06\n",
      "Epoch 12/50\n",
      "1255/1257 [============================>.] - ETA: 0s - loss: 1.2183 - accuracy: 0.6728\n",
      "Epoch 12: val_loss did not improve from 0.32191\n",
      "1257/1257 [==============================] - 26s 21ms/step - loss: 1.2184 - accuracy: 0.6728 - val_loss: 0.9066 - val_accuracy: 0.7419 - lr: 1.0000e-06\n",
      "Epoch 13/50\n",
      "1255/1257 [============================>.] - ETA: 0s - loss: 1.1729 - accuracy: 0.6820\n",
      "Epoch 13: val_loss did not improve from 0.32191\n",
      "1257/1257 [==============================] - 26s 21ms/step - loss: 1.1728 - accuracy: 0.6820 - val_loss: 0.8715 - val_accuracy: 0.7499 - lr: 1.0000e-06\n",
      "Epoch 14/50\n",
      "1255/1257 [============================>.] - ETA: 0s - loss: 1.1302 - accuracy: 0.6908\n",
      "Epoch 14: val_loss did not improve from 0.32191\n",
      "1257/1257 [==============================] - 26s 21ms/step - loss: 1.1302 - accuracy: 0.6908 - val_loss: 0.8389 - val_accuracy: 0.7573 - lr: 1.0000e-06\n",
      "Epoch 15/50\n",
      "1255/1257 [============================>.] - ETA: 0s - loss: 1.0915 - accuracy: 0.6988\n",
      "Epoch 15: val_loss did not improve from 0.32191\n",
      "1257/1257 [==============================] - 26s 21ms/step - loss: 1.0915 - accuracy: 0.6988 - val_loss: 0.8102 - val_accuracy: 0.7633 - lr: 1.0000e-06\n",
      "Epoch 16/50\n",
      "1255/1257 [============================>.] - ETA: 0s - loss: 1.0559 - accuracy: 0.7068\n",
      "Epoch 16: val_loss did not improve from 0.32191\n",
      "1257/1257 [==============================] - 27s 21ms/step - loss: 1.0559 - accuracy: 0.7068 - val_loss: 0.7844 - val_accuracy: 0.7696 - lr: 1.0000e-06\n",
      "Epoch 17/50\n",
      "1255/1257 [============================>.] - ETA: 0s - loss: 1.0243 - accuracy: 0.7133\n",
      "Epoch 17: val_loss did not improve from 0.32191\n",
      "1257/1257 [==============================] - 26s 20ms/step - loss: 1.0243 - accuracy: 0.7133 - val_loss: 0.7612 - val_accuracy: 0.7745 - lr: 1.0000e-06\n",
      "Epoch 18/50\n",
      "1255/1257 [============================>.] - ETA: 0s - loss: 0.9962 - accuracy: 0.7194\n",
      "Epoch 18: val_loss did not improve from 0.32191\n",
      "1257/1257 [==============================] - 26s 21ms/step - loss: 0.9962 - accuracy: 0.7194 - val_loss: 0.7402 - val_accuracy: 0.7792 - lr: 1.0000e-06\n",
      "Epoch 19/50\n",
      "1255/1257 [============================>.] - ETA: 0s - loss: 0.9717 - accuracy: 0.7246\n",
      "Epoch 19: val_loss did not improve from 0.32191\n",
      "1257/1257 [==============================] - 27s 21ms/step - loss: 0.9718 - accuracy: 0.7245 - val_loss: 0.7212 - val_accuracy: 0.7834 - lr: 1.0000e-06\n",
      "Epoch 20/50\n",
      "1255/1257 [============================>.] - ETA: 0s - loss: 0.9505 - accuracy: 0.7283\n",
      "Epoch 20: val_loss did not improve from 0.32191\n",
      "1257/1257 [==============================] - 26s 21ms/step - loss: 0.9506 - accuracy: 0.7283 - val_loss: 0.7038 - val_accuracy: 0.7873 - lr: 1.0000e-06\n",
      "Epoch 21/50\n",
      "1255/1257 [============================>.] - ETA: 0s - loss: 0.9271 - accuracy: 0.7337\n",
      "Epoch 21: val_loss did not improve from 0.32191\n",
      "1257/1257 [==============================] - 26s 21ms/step - loss: 0.9271 - accuracy: 0.7337 - val_loss: 0.6878 - val_accuracy: 0.7909 - lr: 1.0000e-06\n",
      "Epoch 22/50\n",
      "1256/1257 [============================>.] - ETA: 0s - loss: 0.9066 - accuracy: 0.7380\n",
      "Epoch 22: val_loss did not improve from 0.32191\n",
      "1257/1257 [==============================] - 27s 21ms/step - loss: 0.9066 - accuracy: 0.7380 - val_loss: 0.6733 - val_accuracy: 0.7942 - lr: 1.0000e-06\n",
      "Epoch 23/50\n",
      "1255/1257 [============================>.] - ETA: 0s - loss: 0.8879 - accuracy: 0.7425\n",
      "Epoch 23: val_loss did not improve from 0.32191\n",
      "1257/1257 [==============================] - 26s 21ms/step - loss: 0.8879 - accuracy: 0.7424 - val_loss: 0.6598 - val_accuracy: 0.7972 - lr: 1.0000e-06\n",
      "Epoch 24/50\n",
      "1254/1257 [============================>.] - ETA: 0s - loss: 0.8699 - accuracy: 0.7460\n",
      "Epoch 24: val_loss did not improve from 0.32191\n",
      "1257/1257 [==============================] - 26s 21ms/step - loss: 0.8699 - accuracy: 0.7460 - val_loss: 0.6475 - val_accuracy: 0.7999 - lr: 1.0000e-06\n",
      "Epoch 25/50\n",
      "1255/1257 [============================>.] - ETA: 0s - loss: 0.8550 - accuracy: 0.7489\n",
      "Epoch 25: val_loss did not improve from 0.32191\n",
      "1257/1257 [==============================] - 26s 21ms/step - loss: 0.8550 - accuracy: 0.7489 - val_loss: 0.6361 - val_accuracy: 0.8024 - lr: 1.0000e-06\n",
      "Epoch 26/50\n",
      "1257/1257 [==============================] - ETA: 0s - loss: 0.8397 - accuracy: 0.7521\n",
      "Epoch 26: val_loss did not improve from 0.32191\n",
      "1257/1257 [==============================] - 27s 21ms/step - loss: 0.8397 - accuracy: 0.7521 - val_loss: 0.6255 - val_accuracy: 0.8048 - lr: 1.0000e-06\n",
      "Epoch 27/50\n",
      "1255/1257 [============================>.] - ETA: 0s - loss: 0.8262 - accuracy: 0.7558\n",
      "Epoch 27: val_loss did not improve from 0.32191\n",
      "1257/1257 [==============================] - 26s 21ms/step - loss: 0.8262 - accuracy: 0.7558 - val_loss: 0.6154 - val_accuracy: 0.8068 - lr: 1.0000e-06\n",
      "Epoch 28/50\n",
      "1255/1257 [============================>.] - ETA: 0s - loss: 0.8118 - accuracy: 0.7580\n",
      "Epoch 28: val_loss did not improve from 0.32191\n",
      "1257/1257 [==============================] - 26s 21ms/step - loss: 0.8119 - accuracy: 0.7579 - val_loss: 0.6065 - val_accuracy: 0.8092 - lr: 1.0000e-06\n",
      "Epoch 29/50\n",
      "1254/1257 [============================>.] - ETA: 0s - loss: 0.8008 - accuracy: 0.7611\n",
      "Epoch 29: val_loss did not improve from 0.32191\n",
      "1257/1257 [==============================] - 26s 21ms/step - loss: 0.8009 - accuracy: 0.7611 - val_loss: 0.5980 - val_accuracy: 0.8112 - lr: 1.0000e-06\n",
      "Epoch 30/50\n",
      "1255/1257 [============================>.] - ETA: 0s - loss: 0.7892 - accuracy: 0.7636\n",
      "Epoch 30: val_loss did not improve from 0.32191\n",
      "1257/1257 [==============================] - 27s 21ms/step - loss: 0.7892 - accuracy: 0.7637 - val_loss: 0.5895 - val_accuracy: 0.8127 - lr: 1.0000e-06\n",
      "Epoch 31/50\n",
      " 526/1257 [===========>..................] - ETA: 14s - loss: 0.7788 - accuracy: 0.7656"
     ]
    },
    {
     "ename": "KeyboardInterrupt",
     "evalue": "",
     "output_type": "error",
     "traceback": [
      "\u001b[0;31m---------------------------------------------------------------------------\u001b[0m",
      "\u001b[0;31mKeyboardInterrupt\u001b[0m                         Traceback (most recent call last)",
      "Cell \u001b[0;32mIn[34], line 7\u001b[0m\n\u001b[1;32m      4\u001b[0m training_time\u001b[38;5;241m.\u001b[39mappend(end_time\u001b[38;5;241m-\u001b[39mstart_time)\n\u001b[1;32m      6\u001b[0m start_time \u001b[38;5;241m=\u001b[39m time\u001b[38;5;241m.\u001b[39mtime()\n\u001b[0;32m----> 7\u001b[0m \u001b[43m_train_blocks\u001b[49m\u001b[43m(\u001b[49m\u001b[43mour_model_2res\u001b[49m\u001b[43m,\u001b[49m\u001b[43m \u001b[49m\u001b[43mx_train\u001b[49m\u001b[43m,\u001b[49m\u001b[43m \u001b[49m\u001b[43my_train_int\u001b[49m\u001b[43m,\u001b[49m\u001b[43m \u001b[49m\u001b[43m(\u001b[49m\u001b[43mx_valid\u001b[49m\u001b[43m,\u001b[49m\u001b[43m \u001b[49m\u001b[43my_valid_int\u001b[49m\u001b[43m)\u001b[49m\u001b[43m)\u001b[49m\n\u001b[1;32m      8\u001b[0m end_time \u001b[38;5;241m=\u001b[39m time\u001b[38;5;241m.\u001b[39mtime()\n\u001b[1;32m      9\u001b[0m training_time\u001b[38;5;241m.\u001b[39mappend(end_time\u001b[38;5;241m-\u001b[39mstart_time)\n",
      "Cell \u001b[0;32mIn[33], line 5\u001b[0m, in \u001b[0;36m_train_blocks\u001b[0;34m(model, x_train, y_train, validation_data)\u001b[0m\n\u001b[1;32m      2\u001b[0m model\u001b[38;5;241m.\u001b[39mcompile(optimizer\u001b[38;5;241m=\u001b[39mbest_optimizer, loss\u001b[38;5;241m=\u001b[39m\u001b[38;5;124m'\u001b[39m\u001b[38;5;124msparse_categorical_crossentropy\u001b[39m\u001b[38;5;124m'\u001b[39m, metrics\u001b[38;5;241m=\u001b[39m[\u001b[38;5;124m'\u001b[39m\u001b[38;5;124maccuracy\u001b[39m\u001b[38;5;124m'\u001b[39m])\n\u001b[1;32m      4\u001b[0m start_time \u001b[38;5;241m=\u001b[39m time\u001b[38;5;241m.\u001b[39mtime()\n\u001b[0;32m----> 5\u001b[0m hist \u001b[38;5;241m=\u001b[39m \u001b[43mmodel\u001b[49m\u001b[38;5;241;43m.\u001b[39;49m\u001b[43mtrain\u001b[49m\u001b[43m(\u001b[49m\u001b[43mx_train\u001b[49m\u001b[43m,\u001b[49m\u001b[43m \u001b[49m\u001b[43my_train\u001b[49m\u001b[43m,\u001b[49m\u001b[43m \u001b[49m\u001b[43mvalidation_data\u001b[49m\u001b[38;5;241;43m=\u001b[39;49m\u001b[43mvalidation_data\u001b[49m\u001b[43m,\u001b[49m\u001b[43m \u001b[49m\u001b[43mepochs\u001b[49m\u001b[38;5;241;43m=\u001b[39;49m\u001b[43mEPOCHS\u001b[49m\u001b[43m,\u001b[49m\n\u001b[1;32m      6\u001b[0m \u001b[43m                   \u001b[49m\u001b[43mbatch_size\u001b[49m\u001b[38;5;241;43m=\u001b[39;49m\u001b[43mBATCH_SIZE\u001b[49m\u001b[43m,\u001b[49m\u001b[43m \u001b[49m\u001b[43mcallbacks\u001b[49m\u001b[38;5;241;43m=\u001b[39;49m\u001b[43m[\u001b[49m\u001b[43mcallbacks_final\u001b[49m\u001b[43m]\u001b[49m\u001b[43m)\u001b[49m\n\u001b[1;32m      7\u001b[0m end_time \u001b[38;5;241m=\u001b[39m time\u001b[38;5;241m.\u001b[39mtime()\n\u001b[1;32m      9\u001b[0m history\u001b[38;5;241m.\u001b[39mappend(hist)\n",
      "File \u001b[0;32m~/ann-project/models/residual.py:68\u001b[0m, in \u001b[0;36mResModel.train\u001b[0;34m(self, x_train, y_train, validation_data, epochs, batch_size, callbacks, class_weight)\u001b[0m\n\u001b[1;32m     67\u001b[0m \u001b[38;5;28;01mdef\u001b[39;00m \u001b[38;5;21mtrain\u001b[39m(\u001b[38;5;28mself\u001b[39m, x_train, y_train, validation_data, epochs\u001b[38;5;241m=\u001b[39m\u001b[38;5;241m50\u001b[39m, batch_size\u001b[38;5;241m=\u001b[39m\u001b[38;5;241m300\u001b[39m, callbacks\u001b[38;5;241m=\u001b[39m\u001b[38;5;28;01mNone\u001b[39;00m, class_weight\u001b[38;5;241m=\u001b[39m\u001b[38;5;28;01mNone\u001b[39;00m):\n\u001b[0;32m---> 68\u001b[0m     \u001b[38;5;28;01mreturn\u001b[39;00m \u001b[38;5;28;43mself\u001b[39;49m\u001b[38;5;241;43m.\u001b[39;49m\u001b[43mmodel\u001b[49m\u001b[38;5;241;43m.\u001b[39;49m\u001b[43mfit\u001b[49m\u001b[43m(\u001b[49m\u001b[43mx_train\u001b[49m\u001b[43m,\u001b[49m\u001b[43m \u001b[49m\u001b[43my_train\u001b[49m\u001b[43m,\u001b[49m\u001b[43m \u001b[49m\u001b[43mvalidation_data\u001b[49m\u001b[38;5;241;43m=\u001b[39;49m\u001b[43mvalidation_data\u001b[49m\u001b[43m,\u001b[49m\n\u001b[1;32m     69\u001b[0m \u001b[43m                          \u001b[49m\u001b[43mbatch_size\u001b[49m\u001b[38;5;241;43m=\u001b[39;49m\u001b[43mbatch_size\u001b[49m\u001b[43m,\u001b[49m\u001b[43m \u001b[49m\u001b[43mepochs\u001b[49m\u001b[38;5;241;43m=\u001b[39;49m\u001b[43mepochs\u001b[49m\u001b[43m,\u001b[49m\u001b[43m \u001b[49m\u001b[43mcallbacks\u001b[49m\u001b[38;5;241;43m=\u001b[39;49m\u001b[43mcallbacks\u001b[49m\u001b[43m,\u001b[49m\n\u001b[1;32m     70\u001b[0m \u001b[43m                          \u001b[49m\u001b[43mclass_weight\u001b[49m\u001b[38;5;241;43m=\u001b[39;49m\u001b[43mclass_weight\u001b[49m\u001b[43m)\u001b[49m\n",
      "File \u001b[0;32m~/anaconda3/envs/ann/lib/python3.10/site-packages/keras/src/utils/traceback_utils.py:65\u001b[0m, in \u001b[0;36mfilter_traceback.<locals>.error_handler\u001b[0;34m(*args, **kwargs)\u001b[0m\n\u001b[1;32m     63\u001b[0m filtered_tb \u001b[38;5;241m=\u001b[39m \u001b[38;5;28;01mNone\u001b[39;00m\n\u001b[1;32m     64\u001b[0m \u001b[38;5;28;01mtry\u001b[39;00m:\n\u001b[0;32m---> 65\u001b[0m     \u001b[38;5;28;01mreturn\u001b[39;00m \u001b[43mfn\u001b[49m\u001b[43m(\u001b[49m\u001b[38;5;241;43m*\u001b[39;49m\u001b[43margs\u001b[49m\u001b[43m,\u001b[49m\u001b[43m \u001b[49m\u001b[38;5;241;43m*\u001b[39;49m\u001b[38;5;241;43m*\u001b[39;49m\u001b[43mkwargs\u001b[49m\u001b[43m)\u001b[49m\n\u001b[1;32m     66\u001b[0m \u001b[38;5;28;01mexcept\u001b[39;00m \u001b[38;5;167;01mException\u001b[39;00m \u001b[38;5;28;01mas\u001b[39;00m e:\n\u001b[1;32m     67\u001b[0m     filtered_tb \u001b[38;5;241m=\u001b[39m _process_traceback_frames(e\u001b[38;5;241m.\u001b[39m__traceback__)\n",
      "File \u001b[0;32m~/anaconda3/envs/ann/lib/python3.10/site-packages/keras/src/engine/training.py:1783\u001b[0m, in \u001b[0;36mModel.fit\u001b[0;34m(self, x, y, batch_size, epochs, verbose, callbacks, validation_split, validation_data, shuffle, class_weight, sample_weight, initial_epoch, steps_per_epoch, validation_steps, validation_batch_size, validation_freq, max_queue_size, workers, use_multiprocessing)\u001b[0m\n\u001b[1;32m   1775\u001b[0m \u001b[38;5;28;01mwith\u001b[39;00m tf\u001b[38;5;241m.\u001b[39mprofiler\u001b[38;5;241m.\u001b[39mexperimental\u001b[38;5;241m.\u001b[39mTrace(\n\u001b[1;32m   1776\u001b[0m     \u001b[38;5;124m\"\u001b[39m\u001b[38;5;124mtrain\u001b[39m\u001b[38;5;124m\"\u001b[39m,\n\u001b[1;32m   1777\u001b[0m     epoch_num\u001b[38;5;241m=\u001b[39mepoch,\n\u001b[0;32m   (...)\u001b[0m\n\u001b[1;32m   1780\u001b[0m     _r\u001b[38;5;241m=\u001b[39m\u001b[38;5;241m1\u001b[39m,\n\u001b[1;32m   1781\u001b[0m ):\n\u001b[1;32m   1782\u001b[0m     callbacks\u001b[38;5;241m.\u001b[39mon_train_batch_begin(step)\n\u001b[0;32m-> 1783\u001b[0m     tmp_logs \u001b[38;5;241m=\u001b[39m \u001b[38;5;28;43mself\u001b[39;49m\u001b[38;5;241;43m.\u001b[39;49m\u001b[43mtrain_function\u001b[49m\u001b[43m(\u001b[49m\u001b[43miterator\u001b[49m\u001b[43m)\u001b[49m\n\u001b[1;32m   1784\u001b[0m     \u001b[38;5;28;01mif\u001b[39;00m data_handler\u001b[38;5;241m.\u001b[39mshould_sync:\n\u001b[1;32m   1785\u001b[0m         context\u001b[38;5;241m.\u001b[39masync_wait()\n",
      "File \u001b[0;32m~/anaconda3/envs/ann/lib/python3.10/site-packages/tensorflow/python/util/traceback_utils.py:150\u001b[0m, in \u001b[0;36mfilter_traceback.<locals>.error_handler\u001b[0;34m(*args, **kwargs)\u001b[0m\n\u001b[1;32m    148\u001b[0m filtered_tb \u001b[38;5;241m=\u001b[39m \u001b[38;5;28;01mNone\u001b[39;00m\n\u001b[1;32m    149\u001b[0m \u001b[38;5;28;01mtry\u001b[39;00m:\n\u001b[0;32m--> 150\u001b[0m   \u001b[38;5;28;01mreturn\u001b[39;00m \u001b[43mfn\u001b[49m\u001b[43m(\u001b[49m\u001b[38;5;241;43m*\u001b[39;49m\u001b[43margs\u001b[49m\u001b[43m,\u001b[49m\u001b[43m \u001b[49m\u001b[38;5;241;43m*\u001b[39;49m\u001b[38;5;241;43m*\u001b[39;49m\u001b[43mkwargs\u001b[49m\u001b[43m)\u001b[49m\n\u001b[1;32m    151\u001b[0m \u001b[38;5;28;01mexcept\u001b[39;00m \u001b[38;5;167;01mException\u001b[39;00m \u001b[38;5;28;01mas\u001b[39;00m e:\n\u001b[1;32m    152\u001b[0m   filtered_tb \u001b[38;5;241m=\u001b[39m _process_traceback_frames(e\u001b[38;5;241m.\u001b[39m__traceback__)\n",
      "File \u001b[0;32m~/anaconda3/envs/ann/lib/python3.10/site-packages/tensorflow/python/eager/polymorphic_function/polymorphic_function.py:831\u001b[0m, in \u001b[0;36mFunction.__call__\u001b[0;34m(self, *args, **kwds)\u001b[0m\n\u001b[1;32m    828\u001b[0m compiler \u001b[38;5;241m=\u001b[39m \u001b[38;5;124m\"\u001b[39m\u001b[38;5;124mxla\u001b[39m\u001b[38;5;124m\"\u001b[39m \u001b[38;5;28;01mif\u001b[39;00m \u001b[38;5;28mself\u001b[39m\u001b[38;5;241m.\u001b[39m_jit_compile \u001b[38;5;28;01melse\u001b[39;00m \u001b[38;5;124m\"\u001b[39m\u001b[38;5;124mnonXla\u001b[39m\u001b[38;5;124m\"\u001b[39m\n\u001b[1;32m    830\u001b[0m \u001b[38;5;28;01mwith\u001b[39;00m OptionalXlaContext(\u001b[38;5;28mself\u001b[39m\u001b[38;5;241m.\u001b[39m_jit_compile):\n\u001b[0;32m--> 831\u001b[0m   result \u001b[38;5;241m=\u001b[39m \u001b[38;5;28;43mself\u001b[39;49m\u001b[38;5;241;43m.\u001b[39;49m\u001b[43m_call\u001b[49m\u001b[43m(\u001b[49m\u001b[38;5;241;43m*\u001b[39;49m\u001b[43margs\u001b[49m\u001b[43m,\u001b[49m\u001b[43m \u001b[49m\u001b[38;5;241;43m*\u001b[39;49m\u001b[38;5;241;43m*\u001b[39;49m\u001b[43mkwds\u001b[49m\u001b[43m)\u001b[49m\n\u001b[1;32m    833\u001b[0m new_tracing_count \u001b[38;5;241m=\u001b[39m \u001b[38;5;28mself\u001b[39m\u001b[38;5;241m.\u001b[39mexperimental_get_tracing_count()\n\u001b[1;32m    834\u001b[0m without_tracing \u001b[38;5;241m=\u001b[39m (tracing_count \u001b[38;5;241m==\u001b[39m new_tracing_count)\n",
      "File \u001b[0;32m~/anaconda3/envs/ann/lib/python3.10/site-packages/tensorflow/python/eager/polymorphic_function/polymorphic_function.py:867\u001b[0m, in \u001b[0;36mFunction._call\u001b[0;34m(self, *args, **kwds)\u001b[0m\n\u001b[1;32m    864\u001b[0m   \u001b[38;5;28mself\u001b[39m\u001b[38;5;241m.\u001b[39m_lock\u001b[38;5;241m.\u001b[39mrelease()\n\u001b[1;32m    865\u001b[0m   \u001b[38;5;66;03m# In this case we have created variables on the first call, so we run the\u001b[39;00m\n\u001b[1;32m    866\u001b[0m   \u001b[38;5;66;03m# defunned version which is guaranteed to never create variables.\u001b[39;00m\n\u001b[0;32m--> 867\u001b[0m   \u001b[38;5;28;01mreturn\u001b[39;00m \u001b[43mtracing_compilation\u001b[49m\u001b[38;5;241;43m.\u001b[39;49m\u001b[43mcall_function\u001b[49m\u001b[43m(\u001b[49m\n\u001b[1;32m    868\u001b[0m \u001b[43m      \u001b[49m\u001b[43margs\u001b[49m\u001b[43m,\u001b[49m\u001b[43m \u001b[49m\u001b[43mkwds\u001b[49m\u001b[43m,\u001b[49m\u001b[43m \u001b[49m\u001b[38;5;28;43mself\u001b[39;49m\u001b[38;5;241;43m.\u001b[39;49m\u001b[43m_no_variable_creation_config\u001b[49m\n\u001b[1;32m    869\u001b[0m \u001b[43m  \u001b[49m\u001b[43m)\u001b[49m\n\u001b[1;32m    870\u001b[0m \u001b[38;5;28;01melif\u001b[39;00m \u001b[38;5;28mself\u001b[39m\u001b[38;5;241m.\u001b[39m_variable_creation_config \u001b[38;5;129;01mis\u001b[39;00m \u001b[38;5;129;01mnot\u001b[39;00m \u001b[38;5;28;01mNone\u001b[39;00m:\n\u001b[1;32m    871\u001b[0m   \u001b[38;5;66;03m# Release the lock early so that multiple threads can perform the call\u001b[39;00m\n\u001b[1;32m    872\u001b[0m   \u001b[38;5;66;03m# in parallel.\u001b[39;00m\n\u001b[1;32m    873\u001b[0m   \u001b[38;5;28mself\u001b[39m\u001b[38;5;241m.\u001b[39m_lock\u001b[38;5;241m.\u001b[39mrelease()\n",
      "File \u001b[0;32m~/anaconda3/envs/ann/lib/python3.10/site-packages/tensorflow/python/eager/polymorphic_function/tracing_compilation.py:139\u001b[0m, in \u001b[0;36mcall_function\u001b[0;34m(args, kwargs, tracing_options)\u001b[0m\n\u001b[1;32m    137\u001b[0m bound_args \u001b[38;5;241m=\u001b[39m function\u001b[38;5;241m.\u001b[39mfunction_type\u001b[38;5;241m.\u001b[39mbind(\u001b[38;5;241m*\u001b[39margs, \u001b[38;5;241m*\u001b[39m\u001b[38;5;241m*\u001b[39mkwargs)\n\u001b[1;32m    138\u001b[0m flat_inputs \u001b[38;5;241m=\u001b[39m function\u001b[38;5;241m.\u001b[39mfunction_type\u001b[38;5;241m.\u001b[39munpack_inputs(bound_args)\n\u001b[0;32m--> 139\u001b[0m \u001b[38;5;28;01mreturn\u001b[39;00m \u001b[43mfunction\u001b[49m\u001b[38;5;241;43m.\u001b[39;49m\u001b[43m_call_flat\u001b[49m\u001b[43m(\u001b[49m\u001b[43m  \u001b[49m\u001b[38;5;66;43;03m# pylint: disable=protected-access\u001b[39;49;00m\n\u001b[1;32m    140\u001b[0m \u001b[43m    \u001b[49m\u001b[43mflat_inputs\u001b[49m\u001b[43m,\u001b[49m\u001b[43m \u001b[49m\u001b[43mcaptured_inputs\u001b[49m\u001b[38;5;241;43m=\u001b[39;49m\u001b[43mfunction\u001b[49m\u001b[38;5;241;43m.\u001b[39;49m\u001b[43mcaptured_inputs\u001b[49m\n\u001b[1;32m    141\u001b[0m \u001b[43m\u001b[49m\u001b[43m)\u001b[49m\n",
      "File \u001b[0;32m~/anaconda3/envs/ann/lib/python3.10/site-packages/tensorflow/python/eager/polymorphic_function/concrete_function.py:1264\u001b[0m, in \u001b[0;36mConcreteFunction._call_flat\u001b[0;34m(self, tensor_inputs, captured_inputs)\u001b[0m\n\u001b[1;32m   1260\u001b[0m possible_gradient_type \u001b[38;5;241m=\u001b[39m gradients_util\u001b[38;5;241m.\u001b[39mPossibleTapeGradientTypes(args)\n\u001b[1;32m   1261\u001b[0m \u001b[38;5;28;01mif\u001b[39;00m (possible_gradient_type \u001b[38;5;241m==\u001b[39m gradients_util\u001b[38;5;241m.\u001b[39mPOSSIBLE_GRADIENT_TYPES_NONE\n\u001b[1;32m   1262\u001b[0m     \u001b[38;5;129;01mand\u001b[39;00m executing_eagerly):\n\u001b[1;32m   1263\u001b[0m   \u001b[38;5;66;03m# No tape is watching; skip to running the function.\u001b[39;00m\n\u001b[0;32m-> 1264\u001b[0m   \u001b[38;5;28;01mreturn\u001b[39;00m \u001b[38;5;28;43mself\u001b[39;49m\u001b[38;5;241;43m.\u001b[39;49m\u001b[43m_inference_function\u001b[49m\u001b[38;5;241;43m.\u001b[39;49m\u001b[43mflat_call\u001b[49m\u001b[43m(\u001b[49m\u001b[43margs\u001b[49m\u001b[43m)\u001b[49m\n\u001b[1;32m   1265\u001b[0m forward_backward \u001b[38;5;241m=\u001b[39m \u001b[38;5;28mself\u001b[39m\u001b[38;5;241m.\u001b[39m_select_forward_and_backward_functions(\n\u001b[1;32m   1266\u001b[0m     args,\n\u001b[1;32m   1267\u001b[0m     possible_gradient_type,\n\u001b[1;32m   1268\u001b[0m     executing_eagerly)\n\u001b[1;32m   1269\u001b[0m forward_function, args_with_tangents \u001b[38;5;241m=\u001b[39m forward_backward\u001b[38;5;241m.\u001b[39mforward()\n",
      "File \u001b[0;32m~/anaconda3/envs/ann/lib/python3.10/site-packages/tensorflow/python/eager/polymorphic_function/atomic_function.py:217\u001b[0m, in \u001b[0;36mAtomicFunction.flat_call\u001b[0;34m(self, args)\u001b[0m\n\u001b[1;32m    215\u001b[0m \u001b[38;5;28;01mdef\u001b[39;00m \u001b[38;5;21mflat_call\u001b[39m(\u001b[38;5;28mself\u001b[39m, args: Sequence[core\u001b[38;5;241m.\u001b[39mTensor]) \u001b[38;5;241m-\u001b[39m\u001b[38;5;241m>\u001b[39m Any:\n\u001b[1;32m    216\u001b[0m \u001b[38;5;250m  \u001b[39m\u001b[38;5;124;03m\"\"\"Calls with tensor inputs and returns the structured output.\"\"\"\u001b[39;00m\n\u001b[0;32m--> 217\u001b[0m   flat_outputs \u001b[38;5;241m=\u001b[39m \u001b[38;5;28;43mself\u001b[39;49m\u001b[43m(\u001b[49m\u001b[38;5;241;43m*\u001b[39;49m\u001b[43margs\u001b[49m\u001b[43m)\u001b[49m\n\u001b[1;32m    218\u001b[0m   \u001b[38;5;28;01mreturn\u001b[39;00m \u001b[38;5;28mself\u001b[39m\u001b[38;5;241m.\u001b[39mfunction_type\u001b[38;5;241m.\u001b[39mpack_output(flat_outputs)\n",
      "File \u001b[0;32m~/anaconda3/envs/ann/lib/python3.10/site-packages/tensorflow/python/eager/polymorphic_function/atomic_function.py:252\u001b[0m, in \u001b[0;36mAtomicFunction.__call__\u001b[0;34m(self, *args)\u001b[0m\n\u001b[1;32m    250\u001b[0m \u001b[38;5;28;01mwith\u001b[39;00m record\u001b[38;5;241m.\u001b[39mstop_recording():\n\u001b[1;32m    251\u001b[0m   \u001b[38;5;28;01mif\u001b[39;00m \u001b[38;5;28mself\u001b[39m\u001b[38;5;241m.\u001b[39m_bound_context\u001b[38;5;241m.\u001b[39mexecuting_eagerly():\n\u001b[0;32m--> 252\u001b[0m     outputs \u001b[38;5;241m=\u001b[39m \u001b[38;5;28;43mself\u001b[39;49m\u001b[38;5;241;43m.\u001b[39;49m\u001b[43m_bound_context\u001b[49m\u001b[38;5;241;43m.\u001b[39;49m\u001b[43mcall_function\u001b[49m\u001b[43m(\u001b[49m\n\u001b[1;32m    253\u001b[0m \u001b[43m        \u001b[49m\u001b[38;5;28;43mself\u001b[39;49m\u001b[38;5;241;43m.\u001b[39;49m\u001b[43mname\u001b[49m\u001b[43m,\u001b[49m\n\u001b[1;32m    254\u001b[0m \u001b[43m        \u001b[49m\u001b[38;5;28;43mlist\u001b[39;49m\u001b[43m(\u001b[49m\u001b[43margs\u001b[49m\u001b[43m)\u001b[49m\u001b[43m,\u001b[49m\n\u001b[1;32m    255\u001b[0m \u001b[43m        \u001b[49m\u001b[38;5;28;43mlen\u001b[39;49m\u001b[43m(\u001b[49m\u001b[38;5;28;43mself\u001b[39;49m\u001b[38;5;241;43m.\u001b[39;49m\u001b[43mfunction_type\u001b[49m\u001b[38;5;241;43m.\u001b[39;49m\u001b[43mflat_outputs\u001b[49m\u001b[43m)\u001b[49m\u001b[43m,\u001b[49m\n\u001b[1;32m    256\u001b[0m \u001b[43m    \u001b[49m\u001b[43m)\u001b[49m\n\u001b[1;32m    257\u001b[0m   \u001b[38;5;28;01melse\u001b[39;00m:\n\u001b[1;32m    258\u001b[0m     outputs \u001b[38;5;241m=\u001b[39m make_call_op_in_graph(\n\u001b[1;32m    259\u001b[0m         \u001b[38;5;28mself\u001b[39m,\n\u001b[1;32m    260\u001b[0m         \u001b[38;5;28mlist\u001b[39m(args),\n\u001b[1;32m    261\u001b[0m         \u001b[38;5;28mself\u001b[39m\u001b[38;5;241m.\u001b[39m_bound_context\u001b[38;5;241m.\u001b[39mfunction_call_options\u001b[38;5;241m.\u001b[39mas_attrs(),\n\u001b[1;32m    262\u001b[0m     )\n",
      "File \u001b[0;32m~/anaconda3/envs/ann/lib/python3.10/site-packages/tensorflow/python/eager/context.py:1479\u001b[0m, in \u001b[0;36mContext.call_function\u001b[0;34m(self, name, tensor_inputs, num_outputs)\u001b[0m\n\u001b[1;32m   1477\u001b[0m cancellation_context \u001b[38;5;241m=\u001b[39m cancellation\u001b[38;5;241m.\u001b[39mcontext()\n\u001b[1;32m   1478\u001b[0m \u001b[38;5;28;01mif\u001b[39;00m cancellation_context \u001b[38;5;129;01mis\u001b[39;00m \u001b[38;5;28;01mNone\u001b[39;00m:\n\u001b[0;32m-> 1479\u001b[0m   outputs \u001b[38;5;241m=\u001b[39m \u001b[43mexecute\u001b[49m\u001b[38;5;241;43m.\u001b[39;49m\u001b[43mexecute\u001b[49m\u001b[43m(\u001b[49m\n\u001b[1;32m   1480\u001b[0m \u001b[43m      \u001b[49m\u001b[43mname\u001b[49m\u001b[38;5;241;43m.\u001b[39;49m\u001b[43mdecode\u001b[49m\u001b[43m(\u001b[49m\u001b[38;5;124;43m\"\u001b[39;49m\u001b[38;5;124;43mutf-8\u001b[39;49m\u001b[38;5;124;43m\"\u001b[39;49m\u001b[43m)\u001b[49m\u001b[43m,\u001b[49m\n\u001b[1;32m   1481\u001b[0m \u001b[43m      \u001b[49m\u001b[43mnum_outputs\u001b[49m\u001b[38;5;241;43m=\u001b[39;49m\u001b[43mnum_outputs\u001b[49m\u001b[43m,\u001b[49m\n\u001b[1;32m   1482\u001b[0m \u001b[43m      \u001b[49m\u001b[43minputs\u001b[49m\u001b[38;5;241;43m=\u001b[39;49m\u001b[43mtensor_inputs\u001b[49m\u001b[43m,\u001b[49m\n\u001b[1;32m   1483\u001b[0m \u001b[43m      \u001b[49m\u001b[43mattrs\u001b[49m\u001b[38;5;241;43m=\u001b[39;49m\u001b[43mattrs\u001b[49m\u001b[43m,\u001b[49m\n\u001b[1;32m   1484\u001b[0m \u001b[43m      \u001b[49m\u001b[43mctx\u001b[49m\u001b[38;5;241;43m=\u001b[39;49m\u001b[38;5;28;43mself\u001b[39;49m\u001b[43m,\u001b[49m\n\u001b[1;32m   1485\u001b[0m \u001b[43m  \u001b[49m\u001b[43m)\u001b[49m\n\u001b[1;32m   1486\u001b[0m \u001b[38;5;28;01melse\u001b[39;00m:\n\u001b[1;32m   1487\u001b[0m   outputs \u001b[38;5;241m=\u001b[39m execute\u001b[38;5;241m.\u001b[39mexecute_with_cancellation(\n\u001b[1;32m   1488\u001b[0m       name\u001b[38;5;241m.\u001b[39mdecode(\u001b[38;5;124m\"\u001b[39m\u001b[38;5;124mutf-8\u001b[39m\u001b[38;5;124m\"\u001b[39m),\n\u001b[1;32m   1489\u001b[0m       num_outputs\u001b[38;5;241m=\u001b[39mnum_outputs,\n\u001b[0;32m   (...)\u001b[0m\n\u001b[1;32m   1493\u001b[0m       cancellation_manager\u001b[38;5;241m=\u001b[39mcancellation_context,\n\u001b[1;32m   1494\u001b[0m   )\n",
      "File \u001b[0;32m~/anaconda3/envs/ann/lib/python3.10/site-packages/tensorflow/python/eager/execute.py:60\u001b[0m, in \u001b[0;36mquick_execute\u001b[0;34m(op_name, num_outputs, inputs, attrs, ctx, name)\u001b[0m\n\u001b[1;32m     53\u001b[0m   \u001b[38;5;66;03m# Convert any objects of type core_types.Tensor to Tensor.\u001b[39;00m\n\u001b[1;32m     54\u001b[0m   inputs \u001b[38;5;241m=\u001b[39m [\n\u001b[1;32m     55\u001b[0m       tensor_conversion_registry\u001b[38;5;241m.\u001b[39mconvert(t)\n\u001b[1;32m     56\u001b[0m       \u001b[38;5;28;01mif\u001b[39;00m \u001b[38;5;28misinstance\u001b[39m(t, core_types\u001b[38;5;241m.\u001b[39mTensor)\n\u001b[1;32m     57\u001b[0m       \u001b[38;5;28;01melse\u001b[39;00m t\n\u001b[1;32m     58\u001b[0m       \u001b[38;5;28;01mfor\u001b[39;00m t \u001b[38;5;129;01min\u001b[39;00m inputs\n\u001b[1;32m     59\u001b[0m   ]\n\u001b[0;32m---> 60\u001b[0m   tensors \u001b[38;5;241m=\u001b[39m \u001b[43mpywrap_tfe\u001b[49m\u001b[38;5;241;43m.\u001b[39;49m\u001b[43mTFE_Py_Execute\u001b[49m\u001b[43m(\u001b[49m\u001b[43mctx\u001b[49m\u001b[38;5;241;43m.\u001b[39;49m\u001b[43m_handle\u001b[49m\u001b[43m,\u001b[49m\u001b[43m \u001b[49m\u001b[43mdevice_name\u001b[49m\u001b[43m,\u001b[49m\u001b[43m \u001b[49m\u001b[43mop_name\u001b[49m\u001b[43m,\u001b[49m\n\u001b[1;32m     61\u001b[0m \u001b[43m                                      \u001b[49m\u001b[43minputs\u001b[49m\u001b[43m,\u001b[49m\u001b[43m \u001b[49m\u001b[43mattrs\u001b[49m\u001b[43m,\u001b[49m\u001b[43m \u001b[49m\u001b[43mnum_outputs\u001b[49m\u001b[43m)\u001b[49m\n\u001b[1;32m     62\u001b[0m \u001b[38;5;28;01mexcept\u001b[39;00m core\u001b[38;5;241m.\u001b[39m_NotOkStatusException \u001b[38;5;28;01mas\u001b[39;00m e:\n\u001b[1;32m     63\u001b[0m   \u001b[38;5;28;01mif\u001b[39;00m name \u001b[38;5;129;01mis\u001b[39;00m \u001b[38;5;129;01mnot\u001b[39;00m \u001b[38;5;28;01mNone\u001b[39;00m:\n",
      "\u001b[0;31mKeyboardInterrupt\u001b[0m: "
     ]
    }
   ],
   "source": [
    "start_time = time.time()\n",
    "_train_blocks(our_model_1res, x_train, y_train_int, (x_valid, y_valid_int))\n",
    "end_time = time.time()\n",
    "training_time.append(end_time-start_time)\n",
    "\n",
    "start_time = time.time()\n",
    "_train_blocks(our_model_2res, x_train, y_train_int, (x_valid, y_valid_int))\n",
    "end_time = time.time()\n",
    "training_time.append(end_time-start_time)\n",
    "\n",
    "\n",
    "start_time = time.time()\n",
    "_train_blocks(our_model_3res, x_train, y_train_int, (x_valid, y_valid_int))\n",
    "end_time = time.time()\n",
    "training_time.append(end_time-start_time)\n",
    "\n",
    "\n",
    "start_time = time.time()\n",
    "_train_blocks(our_model_4res, x_train, y_train_int, (x_valid, y_valid_int))\n",
    "end_time = time.time()\n",
    "training_time.append(end_time-start_time)"
   ]
  },
  {
   "cell_type": "code",
   "execution_count": null,
   "metadata": {},
   "outputs": [],
   "source": [
    "loss_our1res, acc_our1res = our_model_1res.evaluate(x_test, y_test_int)\n",
    "loss_our2res, acc_our2res = our_model_2res.evaluate(x_test, y_test_int)\n",
    "loss_our3res, acc_our3res = our_model_3res.evaluate(x_test, y_test_int)\n",
    "loss_our4res, acc_our4res = our_model_4res.evaluate(x_test, y_test_int)"
   ]
  },
  {
   "cell_type": "code",
   "execution_count": null,
   "metadata": {},
   "outputs": [],
   "source": [
    "results = {\n",
    "    \"Model\": [\"Our Model(Residual, 1 units)\", \"Our Model(Residual, 2 units)\", \"Our Model(Residual, 3 units)\", \"Our Model(Residual, 4 units)\"],\n",
    "    \"Loss\": [loss_our1res, loss_our2res, loss_our3res, loss_our4res],\n",
    "    \"Accuracy\": [acc_our1res, acc_our2res, acc_our3res, acc_our4res],\n",
    "    \"Training Time\": training_time\n",
    "}"
   ]
  },
  {
   "cell_type": "code",
   "execution_count": null,
   "metadata": {},
   "outputs": [],
   "source": [
    "results_df = pd.DataFrame(results)\n",
    "results_df.to_csv(f'{result_path}/result_blocks_{_time}.csv', index=False)"
   ]
  },
  {
   "cell_type": "code",
   "execution_count": null,
   "metadata": {},
   "outputs": [],
   "source": [
    "for i, h in zip(range(1, 5), history):\n",
    "    history_dict = {key: list(map(float, value)) for key, value in h.history.items()}  # Ensure values are float\n",
    "    save_history(history_dict, f'history_block_{i}_{_time}.json')"
   ]
  },
  {
   "cell_type": "code",
   "execution_count": null,
   "metadata": {},
   "outputs": [],
   "source": [
    "colors = [\"red\", \"blue\", \"green\", \"purple\", \"gold\", \"orange\"]\n",
    "\n",
    "plt.figure(figsize=(12, 6))\n",
    "\n",
    "plt.subplot(121)\n",
    "for idx, hist in enumerate(history):\n",
    "    plt.plot(hist.history['loss'], label=f'{results[\"Model\"][idx]}', color=colors[idx])\n",
    "    plt.title(f'Train Loss')\n",
    "    plt.xlabel('Epochs')\n",
    "    plt.ylabel('Loss')\n",
    "    plt.xlim([0, EPOCHS])\n",
    "    plt.grid(True)\n",
    "    plt.legend()\n",
    "plt.subplot(122)\n",
    "for idx, hist in enumerate(history):\n",
    "    plt.plot(hist.history['accuracy'], label=f'{results[\"Model\"][idx]}', color=colors[idx])\n",
    "    plt.title(f'Train Accuracy')\n",
    "    plt.xlabel('Epochs')\n",
    "    plt.ylabel('Accuracy')\n",
    "    plt.xlim([0, EPOCHS])\n",
    "    plt.ylim([0.8, 1])\n",
    "    plt.grid(True)\n",
    "    plt.legend()\n",
    "\n",
    "plt.tight_layout()\n",
    "plt.savefig(f\"{result_path}/result_blocks_{_time}.png\")\n",
    "plt.show()"
   ]
  },
  {
   "cell_type": "code",
   "execution_count": null,
   "metadata": {},
   "outputs": [],
   "source": [
    "metrics = [\"Loss\", \"Accuracy\", \"Training Time\"]\n",
    "for metric in metrics:\n",
    "    plt.figure(figsize=(12, 7))\n",
    "    sns.barplot(x=\"Model\", y=metric, hue=\"Model\", data=results_df, palette=\"viridis\", legend=False)\n",
    "    plt.title(f'{metric} Comparison')\n",
    "    plt.ylabel(metric)\n",
    "    plt.xlabel('Model')\n",
    "    plt.tight_layout()\n",
    "    plt.savefig(f'{result_path}/{metric.lower().replace(\" \", \"_\")}_comparison_blocks_{_time}.png')\n",
    "    plt.show()"
   ]
  },
  {
   "cell_type": "markdown",
   "metadata": {},
   "source": [
    "## 2.4. Learning Rate"
   ]
  },
  {
   "cell_type": "code",
   "execution_count": null,
   "metadata": {},
   "outputs": [],
   "source": [
    "history = []\n",
    "training_time = []"
   ]
  },
  {
   "cell_type": "code",
   "execution_count": null,
   "metadata": {},
   "outputs": [],
   "source": [
    "callbacks_final = create_callbacks('lr')"
   ]
  },
  {
   "cell_type": "code",
   "execution_count": null,
   "metadata": {},
   "outputs": [],
   "source": [
    "best_optimizer_1 = optimizers.legacy.Nadam(learning_rate=0.01, beta_1=0.9, beta_2=0.999)\n",
    "best_optimizer_2 = optimizers.legacy.Nadam(learning_rate=0.001, beta_1=0.9, beta_2=0.999)\n",
    "best_optimizer_3 = optimizers.legacy.Nadam(learning_rate=0.0001, beta_1=0.9, beta_2=0.999)\n",
    "best_optimizer_4 = optimizers.legacy.Nadam(learning_rate=0.00001, beta_1=0.9, beta_2=0.999)\n",
    "best_optimizer_5 = optimizers.legacy.Nadam(learning_rate=0.000001, beta_1=0.9, beta_2=0.999)\n",
    "best_activation = layers.Activation('swish')"
   ]
  },
  {
   "cell_type": "code",
   "execution_count": null,
   "metadata": {},
   "outputs": [],
   "source": [
    "our_model_1lr = ResModel(num_residual_units=3, activation=best_activation)\n",
    "our_model_2lr = ResModel(num_residual_units=3, activation=best_activation)\n",
    "our_model_3lr = ResModel(num_residual_units=3, activation=best_activation)\n",
    "our_model_4lr = ResModel(num_residual_units=3, activation=best_activation)\n",
    "our_model_5lr = ResModel(num_residual_units=3, activation=best_activation)"
   ]
  },
  {
   "cell_type": "code",
   "execution_count": null,
   "metadata": {},
   "outputs": [],
   "source": [
    "our_model_1lr.compile(optimizer=best_optimizer_1, loss='sparse_categorical_crossentropy', metrics=['accuracy'])\n",
    "our_model_2lr.compile(optimizer=best_optimizer_2, loss='sparse_categorical_crossentropy', metrics=['accuracy'])\n",
    "our_model_3lr.compile(optimizer=best_optimizer_3, loss='sparse_categorical_crossentropy', metrics=['accuracy'])\n",
    "our_model_4lr.compile(optimizer=best_optimizer_4, loss='sparse_categorical_crossentropy', metrics=['accuracy'])\n",
    "our_model_5lr.compile(optimizer=best_optimizer_5, loss='sparse_categorical_crossentropy', metrics=['accuracy'])"
   ]
  },
  {
   "cell_type": "code",
   "execution_count": null,
   "metadata": {},
   "outputs": [],
   "source": [
    "EPOCHS = 50\n",
    "BATCH_SIZE = 500"
   ]
  },
  {
   "cell_type": "code",
   "execution_count": null,
   "metadata": {},
   "outputs": [],
   "source": [
    "results = {'Learning Rate': ['1e-2', '1e-3', '1e-4', '1e-5', '1e-6'], 'Loss': [], 'Accuracy': [], 'Training Time': []}"
   ]
  },
  {
   "cell_type": "code",
   "execution_count": null,
   "metadata": {},
   "outputs": [],
   "source": [
    "\n",
    "\n",
    "def _train_lr(model, optimizer, x_train, y_train, validation_data):\n",
    "    model.compile(optimizer=optimizer, loss='sparse_categorical_crossentropy', metrics=['accuracy'])\n",
    "\n",
    "    start_time = time.time()\n",
    "    hist = model.train(x_train, y_train, validation_data=validation_data, epochs=EPOCHS,\n",
    "                       batch_size=BATCH_SIZE, callbacks=[callbacks_final])\n",
    "    end_time = time.time()\n",
    "\n",
    "    history.append(hist)\n",
    "\n",
    "    loss, accuracy = model.evaluate(x_test, y_test_int)\n",
    "    results['Loss'].append(loss)\n",
    "    results['Accuracy'].append(accuracy)\n",
    "    results['Training Time'].append(end_time - start_time)"
   ]
  },
  {
   "cell_type": "code",
   "execution_count": null,
   "metadata": {},
   "outputs": [],
   "source": [
    "start_time = time.time()\n",
    "_train_lr(our_model_1lr, best_optimizer_1, x_train, y_train_int, (x_valid, y_valid_int))\n",
    "end_time = time.time()\n",
    "training_time.append(end_time-start_time)\n",
    "callbacks_final = create_callbacks('lr_1')\n",
    "\n",
    "start_time = time.time()\n",
    "_train_lr(our_model_2lr, best_optimizer_2, x_train, y_train_int, (x_valid, y_valid_int))\n",
    "end_time = time.time()\n",
    "training_time.append(end_time-start_time)\n",
    "callbacks_final = create_callbacks('lr_2')\n",
    "\n",
    "\n",
    "start_time = time.time()\n",
    "_train_lr(our_model_3lr, best_optimizer_3, x_train, y_train_int, (x_valid, y_valid_int))\n",
    "end_time = time.time()\n",
    "training_time.append(end_time-start_time)\n",
    "callbacks_final = create_callbacks('lr_3')\n",
    "\n",
    "start_time = time.time()\n",
    "_train_lr(our_model_4lr, best_optimizer_4, x_train, y_train_int, (x_valid, y_valid_int))\n",
    "end_time = time.time()\n",
    "training_time.append(end_time-start_time)\n",
    "callbacks_final = create_callbacks('lr_4')\n",
    "\n",
    "start_time = time.time()\n",
    "_train_lr(our_model_5lr, best_optimizer_5, x_train, y_train_int, (x_valid, y_valid_int))\n",
    "end_time = time.time()\n",
    "training_time.append(end_time-start_time)\n",
    "callbacks_final = create_callbacks('lr_5')"
   ]
  },
  {
   "cell_type": "code",
   "execution_count": null,
   "metadata": {},
   "outputs": [],
   "source": [
    "results_df = pd.DataFrame(results)\n",
    "results_df.to_csv(f'{result_path}/result_lr_{_time}.csv', index=False)"
   ]
  },
  {
   "cell_type": "code",
   "execution_count": null,
   "metadata": {},
   "outputs": [],
   "source": [
    "for i, h in zip(range(1, 4), history):\n",
    "    history_dict = {key: list(map(float, value)) for key, value in h.history.items()}  # Ensure values are float\n",
    "    save_history(history_dict, f'history_lr_{i}_{_time}.json')"
   ]
  },
  {
   "cell_type": "code",
   "execution_count": null,
   "metadata": {},
   "outputs": [],
   "source": [
    "colors = [\"red\", \"blue\", \"green\", \"purple\", \"gold\", \"orange\"]\n",
    "\n",
    "plt.figure(figsize=(12, 6))\n",
    "\n",
    "plt.subplot(121)\n",
    "for idx, hist in enumerate(history):\n",
    "    plt.plot(hist.history['loss'], label=f'{results[\"Learning Rate\"][idx]}', color=colors[idx])\n",
    "    plt.title(f'Train Loss')\n",
    "    plt.xlabel('Epochs')\n",
    "    plt.ylabel('Loss')\n",
    "    plt.xlim([0, EPOCHS])\n",
    "    plt.grid(True)\n",
    "    plt.legend()\n",
    "plt.subplot(122)\n",
    "for idx, hist in enumerate(history):\n",
    "    plt.plot(hist.history['accuracy'], label=f'{results[\"Learning Rate\"][idx]}', color=colors[idx])\n",
    "    plt.title(f'Train Accuracy')\n",
    "    plt.xlabel('Epochs')\n",
    "    plt.ylabel('Accuracy')\n",
    "    plt.xlim([0, EPOCHS])\n",
    "    plt.ylim([0.8, 1])\n",
    "    plt.grid(True)\n",
    "    plt.legend()\n",
    "\n",
    "plt.tight_layout()\n",
    "plt.savefig(f\"{result_path}/result_lr_{_time}.png\")\n",
    "plt.show()"
   ]
  },
  {
   "cell_type": "code",
   "execution_count": null,
   "metadata": {},
   "outputs": [],
   "source": [
    "metrics = [\"Loss\", \"Accuracy\", \"Training Time\"]\n",
    "for metric in metrics:\n",
    "    plt.figure(figsize=(12, 7))\n",
    "    sns.barplot(x=\"Learning Rate\", y=metric, hue=\"Learning Rate\", data=results_df, palette=\"viridis\", legend=False)\n",
    "    plt.title(f'{metric} Comparison')\n",
    "    plt.ylabel(metric)\n",
    "    plt.xlabel('Learning Rate')\n",
    "    plt.tight_layout()\n",
    "    plt.savefig(f'{result_path}/{metric.lower().replace(\" \", \"_\")}_comparison_lr_{_time}.png')\n",
    "    plt.show()"
   ]
  },
  {
   "cell_type": "markdown",
   "metadata": {},
   "source": [
    "## 2.5. Loss function"
   ]
  }
 ],
 "metadata": {
  "kernelspec": {
   "display_name": "ann",
   "language": "python",
   "name": "python3"
  },
  "language_info": {
   "codemirror_mode": {
    "name": "ipython",
    "version": 3
   },
   "file_extension": ".py",
   "mimetype": "text/x-python",
   "name": "python",
   "nbconvert_exporter": "python",
   "pygments_lexer": "ipython3",
   "version": "3.10.14"
  }
 },
 "nbformat": 4,
 "nbformat_minor": 2
}
