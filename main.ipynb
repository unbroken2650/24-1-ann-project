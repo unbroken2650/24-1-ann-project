{
 "cells": [
  {
   "cell_type": "markdown",
   "metadata": {},
   "source": [
    "# ann-project\n",
    "\n",
    "5조\n",
    "한수호, 강구현, 김민규, 홍준기"
   ]
  },
  {
   "cell_type": "markdown",
   "metadata": {},
   "source": [
    "# Setup"
   ]
  },
  {
   "cell_type": "code",
   "execution_count": 22,
   "metadata": {},
   "outputs": [],
   "source": [
    "from models.simple_cnn import CNNModel\n",
    "from models.residual import ResModel\n",
    "from models.resnet50 import ResNetModel\n",
    "from models.lenet import LeNetModel\n",
    "from keras import callbacks, optimizers, layers, losses\n",
    "from sklearn.model_selection import train_test_split\n",
    "from tqdm.auto import tqdm\n",
    "import time\n",
    "import tensorflow as tf\n",
    "import numpy as np\n",
    "import matplotlib.pyplot as plt\n",
    "import pandas as pd\n",
    "import os\n",
    "import json\n",
    "import seaborn as sns\n",
    "import random\n",
    "os.environ[\"CUDA_VISIBLE_DEVICES\"] = \"2\"\n",
    "os.environ['TF_CPP_MIN_LOG_LEVEL'] = '1'"
   ]
  },
  {
   "cell_type": "code",
   "execution_count": 2,
   "metadata": {},
   "outputs": [],
   "source": [
    "RANDOM_SEED = 42\n",
    "random.seed(RANDOM_SEED)\n",
    "np.random.seed(RANDOM_SEED)\n",
    "tf.random.set_seed(RANDOM_SEED)\n",
    "os.environ['PYTHONHASHSEED'] = str(RANDOM_SEED)"
   ]
  },
  {
   "cell_type": "code",
   "execution_count": 3,
   "metadata": {},
   "outputs": [],
   "source": [
    "from datetime import datetime\n",
    "result_path = './results'\n",
    "_time = datetime.strftime(datetime.today(), '%Y-%m-%d_%H-%M-%S')"
   ]
  },
  {
   "cell_type": "markdown",
   "metadata": {},
   "source": [
    "dataset"
   ]
  },
  {
   "cell_type": "code",
   "execution_count": 4,
   "metadata": {},
   "outputs": [
    {
     "name": "stderr",
     "output_type": "stream",
     "text": [
      "2024-06-01 20:52:12.694189: I tensorflow/compiler/xla/stream_executor/cuda/cuda_gpu_executor.cc:894] successful NUMA node read from SysFS had negative value (-1), but there must be at least one NUMA node, so returning NUMA node zero. See more at https://github.com/torvalds/linux/blob/v6.0/Documentation/ABI/testing/sysfs-bus-pci#L344-L355\n",
      "2024-06-01 20:52:12.719588: I tensorflow/compiler/xla/stream_executor/cuda/cuda_gpu_executor.cc:894] successful NUMA node read from SysFS had negative value (-1), but there must be at least one NUMA node, so returning NUMA node zero. See more at https://github.com/torvalds/linux/blob/v6.0/Documentation/ABI/testing/sysfs-bus-pci#L344-L355\n",
      "2024-06-01 20:52:13.020200: I tensorflow/compiler/xla/stream_executor/cuda/cuda_gpu_executor.cc:894] successful NUMA node read from SysFS had negative value (-1), but there must be at least one NUMA node, so returning NUMA node zero. See more at https://github.com/torvalds/linux/blob/v6.0/Documentation/ABI/testing/sysfs-bus-pci#L344-L355\n",
      "2024-06-01 20:52:13.025485: I tensorflow/compiler/xla/stream_executor/cuda/cuda_gpu_executor.cc:894] successful NUMA node read from SysFS had negative value (-1), but there must be at least one NUMA node, so returning NUMA node zero. See more at https://github.com/torvalds/linux/blob/v6.0/Documentation/ABI/testing/sysfs-bus-pci#L344-L355\n",
      "2024-06-01 20:52:13.025771: I tensorflow/compiler/xla/stream_executor/cuda/cuda_gpu_executor.cc:894] successful NUMA node read from SysFS had negative value (-1), but there must be at least one NUMA node, so returning NUMA node zero. See more at https://github.com/torvalds/linux/blob/v6.0/Documentation/ABI/testing/sysfs-bus-pci#L344-L355\n",
      "2024-06-01 20:52:13.026026: I tensorflow/compiler/xla/stream_executor/cuda/cuda_gpu_executor.cc:894] successful NUMA node read from SysFS had negative value (-1), but there must be at least one NUMA node, so returning NUMA node zero. See more at https://github.com/torvalds/linux/blob/v6.0/Documentation/ABI/testing/sysfs-bus-pci#L344-L355\n",
      "2024-06-01 20:52:13.361362: I tensorflow/compiler/xla/stream_executor/cuda/cuda_gpu_executor.cc:894] successful NUMA node read from SysFS had negative value (-1), but there must be at least one NUMA node, so returning NUMA node zero. See more at https://github.com/torvalds/linux/blob/v6.0/Documentation/ABI/testing/sysfs-bus-pci#L344-L355\n",
      "2024-06-01 20:52:13.361659: I tensorflow/compiler/xla/stream_executor/cuda/cuda_gpu_executor.cc:894] successful NUMA node read from SysFS had negative value (-1), but there must be at least one NUMA node, so returning NUMA node zero. See more at https://github.com/torvalds/linux/blob/v6.0/Documentation/ABI/testing/sysfs-bus-pci#L344-L355\n",
      "2024-06-01 20:52:13.361917: I tensorflow/compiler/xla/stream_executor/cuda/cuda_gpu_executor.cc:894] successful NUMA node read from SysFS had negative value (-1), but there must be at least one NUMA node, so returning NUMA node zero. See more at https://github.com/torvalds/linux/blob/v6.0/Documentation/ABI/testing/sysfs-bus-pci#L344-L355\n",
      "2024-06-01 20:52:13.362127: I tensorflow/core/common_runtime/gpu/gpu_device.cc:1886] Created device /job:localhost/replica:0/task:0/device:GPU:0 with 46681 MB memory:  -> device: 0, name: NVIDIA RTX A6000, pci bus id: 0000:c2:00.0, compute capability: 8.6\n"
     ]
    }
   ],
   "source": [
    "train_file_path = '../../../../mnt/sda/suhohan/emnist/emnist-byclass-train.csv'\n",
    "test_file_path = '../../../../mnt/sda/suhohan/emnist/emnist-byclass-test.csv'\n",
    "\n",
    "train_data = pd.read_csv(train_file_path)\n",
    "test_data = pd.read_csv(test_file_path)\n",
    "\n",
    "num_train_samples = train_data.shape[0]\n",
    "num_test_samples = test_data.shape[0]\n",
    "\n",
    "x_train = train_data.iloc[:, 1:].to_numpy().reshape((num_train_samples, 28, 28, 1))\n",
    "x_test = test_data.iloc[:, 1:].to_numpy().reshape((num_test_samples, 28, 28, 1))\n",
    "y_train = tf.keras.utils.to_categorical(train_data.iloc[:, 0], 62)\n",
    "y_test = tf.keras.utils.to_categorical(test_data.iloc[:, 0], 62)\n",
    "\n",
    "y_train_int = train_data.iloc[:, 0].to_numpy()\n",
    "y_test_int = test_data.iloc[:, 0].to_numpy()\n",
    "\n",
    "_, _, y_train, y_valid = train_test_split(x_train, y_train, test_size=0.1, random_state=42)\n",
    "x_train, x_valid, y_train_int, y_valid_int = train_test_split(x_train, y_train_int, test_size=0.1, random_state=42)\n",
    "\n",
    "x_train_resized = tf.image.resize(x_train, [32, 32])\n",
    "x_valid_resized = tf.image.resize(x_valid, [32, 32])\n",
    "x_test_resized = tf.image.resize(x_test, [32, 32])"
   ]
  },
  {
   "cell_type": "markdown",
   "metadata": {},
   "source": [
    "checkpoints"
   ]
  },
  {
   "cell_type": "code",
   "execution_count": 5,
   "metadata": {},
   "outputs": [],
   "source": [
    "def create_callbacks(model_name):\n",
    "    current_time = int(time.time())\n",
    "    checkpoint_path = f\"./checkpoints/checkpoints_{model_name}/weights.{current_time}.hdf5\"\n",
    "    early_stopping = callbacks.EarlyStopping(monitor='val_loss', patience=5,\n",
    "                                             min_delta=0.0001, restore_best_weights=True)\n",
    "    reduce_lr = callbacks.ReduceLROnPlateau(monitor='val_loss', factor=0.5, patience=3, min_lr=0.000001)\n",
    "    checkpoint = callbacks.ModelCheckpoint(filepath=checkpoint_path, monitor='val_loss', save_best_only=True, verbose=1)\n",
    "\n",
    "    return [early_stopping, reduce_lr, checkpoint]\n",
    "\n",
    "\n",
    "callbacks_lenet = create_callbacks('lenet')\n",
    "callbacks_resnet = create_callbacks('resnet')\n",
    "callbacks_ours_1 = create_callbacks('ours_1')\n",
    "callbacks_ours_2 = create_callbacks('ours_2')\n",
    "callbacks_final = create_callbacks('final')\n",
    "result_path = './results'"
   ]
  },
  {
   "cell_type": "markdown",
   "metadata": {},
   "source": [
    "test results"
   ]
  },
  {
   "cell_type": "code",
   "execution_count": 6,
   "metadata": {},
   "outputs": [],
   "source": [
    "def save_results(results_df):\n",
    "    if not os.path.exists(result_path):\n",
    "        os.makedirs(result_path)\n",
    "    results_df.to_csv(os.path.join(result_path, f'result_{_time}.csv'), index=False)"
   ]
  },
  {
   "cell_type": "markdown",
   "metadata": {},
   "source": [
    "saving history"
   ]
  },
  {
   "cell_type": "code",
   "execution_count": 7,
   "metadata": {},
   "outputs": [],
   "source": [
    "def save_history(histories, filename):\n",
    "    with open(os.path.join(result_path, filename), 'w') as f:\n",
    "        json.dump(histories, f)"
   ]
  },
  {
   "cell_type": "markdown",
   "metadata": {},
   "source": [
    "# 1. baseline과 our 모델 비교"
   ]
  },
  {
   "cell_type": "code",
   "execution_count": null,
   "metadata": {},
   "outputs": [],
   "source": [
    "# Initialize models\n",
    "lenet_model = LeNetModel()\n",
    "resnet_model = ResNetModel()\n",
    "our_model_1 = CNNModel()\n",
    "our_model_2res = ResModel()\n",
    "\n",
    "# Compile models\n",
    "lenet_model.compile(optimizer='adam', loss='sparse_categorical_crossentropy', metrics=['accuracy'])\n",
    "resnet_model.compile(optimizer='adam', loss='sparse_categorical_crossentropy', metrics=['accuracy'])\n",
    "our_model_1.compile(optimizer='adam', loss='sparse_categorical_crossentropy', metrics=['accuracy'])\n",
    "our_model_2res.compile(optimizer='adam', loss='sparse_categorical_crossentropy', metrics=['accuracy'])"
   ]
  },
  {
   "cell_type": "code",
   "execution_count": null,
   "metadata": {},
   "outputs": [],
   "source": [
    "history = []\n",
    "training_time = []"
   ]
  },
  {
   "cell_type": "code",
   "execution_count": null,
   "metadata": {},
   "outputs": [],
   "source": [
    "EPOCHS = 50\n",
    "BATCH_SIZE = 500"
   ]
  },
  {
   "cell_type": "code",
   "execution_count": null,
   "metadata": {},
   "outputs": [],
   "source": [
    "start_time = time.time()\n",
    "history.append(lenet_model.train(x_train, y_train_int, validation_data=(x_valid, y_valid_int),\n",
    "               epochs=EPOCHS, batch_size=BATCH_SIZE, callbacks=[callbacks_lenet]))\n",
    "end_time = time.time()\n",
    "training_time.append(end_time-start_time)"
   ]
  },
  {
   "cell_type": "code",
   "execution_count": null,
   "metadata": {},
   "outputs": [],
   "source": [
    "start_time = time.time()\n",
    "history.append(resnet_model.train(x_train_resized, y_train_int, validation_data=(x_valid_resized,\n",
    "               y_valid_int), epochs=EPOCHS, batch_size=BATCH_SIZE, callbacks=[callbacks_resnet]))\n",
    "end_time = time.time()\n",
    "training_time.append(end_time-start_time)"
   ]
  },
  {
   "cell_type": "code",
   "execution_count": null,
   "metadata": {},
   "outputs": [],
   "source": [
    "start_time = time.time()\n",
    "history.append(our_model_1.train(x_train, y_train_int, validation_data=(x_valid, y_valid_int),\n",
    "               epochs=EPOCHS, batch_size=BATCH_SIZE, callbacks=[callbacks_ours_1]))\n",
    "end_time = time.time()\n",
    "training_time.append(end_time-start_time)"
   ]
  },
  {
   "cell_type": "code",
   "execution_count": null,
   "metadata": {},
   "outputs": [],
   "source": [
    "start_time = time.time()\n",
    "history.append(our_model_2res.train(x_train, y_train_int, validation_data=(x_valid, y_valid_int),\n",
    "               epochs=EPOCHS, batch_size=BATCH_SIZE, callbacks=[callbacks_ours_2]))\n",
    "end_time = time.time()\n",
    "training_time.append(end_time-start_time)"
   ]
  },
  {
   "cell_type": "code",
   "execution_count": null,
   "metadata": {},
   "outputs": [],
   "source": [
    "loss_lenet, acc_lenet = lenet_model.evaluate(x_test, y_test_int)\n",
    "loss_resnet, acc_resnet = resnet_model.evaluate(x_test_resized, y_test_int)\n",
    "loss_our1, acc_our1 = our_model_1.evaluate(x_test, y_test_int)\n",
    "loss_our2, acc_our2 = our_model_2res.evaluate(x_test, y_test_int)"
   ]
  },
  {
   "cell_type": "code",
   "execution_count": null,
   "metadata": {},
   "outputs": [],
   "source": [
    "results = {\n",
    "    \"Model\": [\"LeNet-5\", \"ResNet-50\", \"Our Model(CNN)\", \"Our Model(Residual)\"],\n",
    "    \"Loss\": [loss_lenet, loss_resnet, loss_our1, loss_our2],\n",
    "    \"Accuracy\": [acc_lenet, acc_resnet, acc_our1, acc_our2],\n",
    "    \"Training Time\": training_time\n",
    "}\n",
    "results_df = pd.DataFrame(results)\n",
    "results_df.to_csv(f'{result_path}/result_{_time}.csv', index=False)"
   ]
  },
  {
   "cell_type": "code",
   "execution_count": null,
   "metadata": {},
   "outputs": [],
   "source": [
    "models = [\"lenet-5\", \"resnet-50\", \"our_model_cnn\", \"our_model_residual\"]\n",
    "for model_name, h in zip(models, history):\n",
    "    history_dict = {key: list(map(float, value)) for key, value in h.history.items()}\n",
    "    save_history(history_dict, f'history_{model_name}_{_time}.json')"
   ]
  },
  {
   "cell_type": "code",
   "execution_count": null,
   "metadata": {},
   "outputs": [],
   "source": [
    "colors = [\"red\", \"blue\", \"green\", \"purple\", \"gold\"]\n",
    "\n",
    "plt.figure(figsize=(10, 5))\n",
    "\n",
    "plt.subplot(121)\n",
    "for idx, hist in enumerate(history):\n",
    "    plt.plot(hist.history['loss'], label=f'{results[\"Model\"][idx]}', color=colors[idx])\n",
    "    plt.title(f'Train Loss')\n",
    "    plt.xlabel('Epochs')\n",
    "    plt.ylabel('Loss')\n",
    "    plt.xlim([0, EPOCHS])\n",
    "    plt.grid(True)\n",
    "    plt.legend()\n",
    "plt.subplot(122)\n",
    "for idx, hist in enumerate(history):\n",
    "    plt.plot(hist.history['accuracy'], label=f'{results[\"Model\"][idx]}', color=colors[idx])\n",
    "    plt.title(f'Train Accuracy')\n",
    "    plt.xlabel('Epochs')\n",
    "    plt.ylabel('Accuracy')\n",
    "    plt.xlim([0, EPOCHS])\n",
    "    plt.ylim([0, 1])\n",
    "    plt.grid(True)\n",
    "    plt.legend()\n",
    "\n",
    "plt.tight_layout()\n",
    "plt.savefig(f\"{result_path}/result_{_time}.png\")\n",
    "plt.show()\n",
    "save_history(history, f'history_activation_{_time}.pkl')"
   ]
  },
  {
   "cell_type": "code",
   "execution_count": null,
   "metadata": {},
   "outputs": [],
   "source": [
    "training_time.append(\"\")\n",
    "results = {\n",
    "    \"Model\": [\"LeNet-5\", \"ResNet-50\", \"Our Model\", \"Wavemix-256[6]\"],\n",
    "    \"Loss\": [loss_lenet, loss_resnet, loss_our1, loss_our2, 0],\n",
    "    \"Accuracy\": [acc_lenet, acc_resnet, acc_our1, acc_our2, 0.8842],\n",
    "    \"Training Time\": training_time\n",
    "}\n",
    "results_df = pd.DataFrame(results)"
   ]
  },
  {
   "cell_type": "code",
   "execution_count": null,
   "metadata": {},
   "outputs": [],
   "source": [
    "metrics = [\"Loss\", \"Accuracy\", \"Training Time\"]\n",
    "for metric in metrics:\n",
    "    plt.figure(figsize=(5, 6))\n",
    "    sns.barplot(x=\"Model\", y=metric, hue=\"Model\", data=results_df, palette=\"viridis\", legend=False)\n",
    "    plt.title(f'{metric} Comparison')\n",
    "    plt.ylabel(metric)\n",
    "    plt.xlabel('Model')\n",
    "    plt.tight_layout()\n",
    "    plt.savefig(f'{result_path}/{metric.lower().replace(\" \", \"_\")}_comparison_{_time}.png')\n",
    "    plt.show()"
   ]
  },
  {
   "cell_type": "markdown",
   "metadata": {},
   "source": [
    "# 2. Experiment"
   ]
  },
  {
   "cell_type": "markdown",
   "metadata": {},
   "source": [
    "## 2.1. Optimizer"
   ]
  },
  {
   "cell_type": "code",
   "execution_count": null,
   "metadata": {},
   "outputs": [],
   "source": [
    "optimizers_list = [\n",
    "    optimizers.SGD(learning_rate=0.001, momentum=0.9),\n",
    "    optimizers.SGD(learning_rate=0.001, momentum=0.9, nesterov=True),\n",
    "    optimizers.Adagrad(learning_rate=0.001),\n",
    "    optimizers.RMSprop(learning_rate=0.001, rho=0.9),\n",
    "    optimizers.Adam(learning_rate=0.001, beta_1=0.9, beta_2=0.999),\n",
    "    optimizers.Adamax(learning_rate=0.001, beta_1=0.9, beta_2=0.999),\n",
    "    optimizers.Nadam(learning_rate=0.001, beta_1=0.9, beta_2=0.999),\n",
    "]"
   ]
  },
  {
   "cell_type": "code",
   "execution_count": null,
   "metadata": {},
   "outputs": [],
   "source": [
    "history = []\n",
    "results = {'Optimizer': [], 'Loss': [], 'Accuracy': [], 'Training Time': []}"
   ]
  },
  {
   "cell_type": "code",
   "execution_count": null,
   "metadata": {},
   "outputs": [],
   "source": [
    "def _train_opt(x_train, y_train, validation_data, optimizer, activation_ftn='ReLU'):\n",
    "    print(f\"Start with {type(optimizer).__name__}\")\n",
    "    final_model = ResModel(num_classes=62, initial_filters=32,\n",
    "                           dropout_rate=0.3, final_dropout_rate=0.6, activation=activation_ftn, num_residual_units=3)\n",
    "    optimizer.build(final_model.model.trainable_variables)\n",
    "\n",
    "    final_model.compile(optimizer=optimizer, loss='sparse_categorical_crossentropy', metrics=['accuracy'])\n",
    "\n",
    "    start_time = time.time()\n",
    "    hist = final_model.train(x_train, y_train, validation_data=validation_data, epochs=EPOCHS,\n",
    "                             batch_size=BATCH_SIZE, callbacks=[callbacks_final])\n",
    "    end_time = time.time()\n",
    "\n",
    "    history.append(hist)\n",
    "\n",
    "    loss, accuracy = final_model.evaluate(x_test, y_test_int)\n",
    "    results['Optimizer'].append(type(optimizer).__name__)\n",
    "    results['Loss'].append(loss)\n",
    "    results['Accuracy'].append(accuracy)\n",
    "    results['Training Time'].append(end_time - start_time)\n",
    "\n",
    "    print(f\"End with {type(optimizer).__name__}\")"
   ]
  },
  {
   "cell_type": "code",
   "execution_count": null,
   "metadata": {},
   "outputs": [],
   "source": [
    "EPOCHS = 50\n",
    "BATCH_SIZE = 500"
   ]
  },
  {
   "cell_type": "code",
   "execution_count": null,
   "metadata": {},
   "outputs": [],
   "source": [
    "for optimizer in optimizers_list:\n",
    "    _train_opt(x_train, y_train_int, (x_valid, y_valid_int), optimizer, activation_ftn='ReLU')"
   ]
  },
  {
   "cell_type": "code",
   "execution_count": null,
   "metadata": {},
   "outputs": [],
   "source": [
    "results_df = pd.DataFrame(results)\n",
    "save_results(results_df)\n",
    "for optimizer, h in zip(optimizers_list, history):\n",
    "    history_dict = {key: list(map(float, value)) for key, value in h.history.items()}\n",
    "    save_history(history_dict, f'history_optimizer_{type(optimizer).__name__}_{_time}.json')"
   ]
  },
  {
   "cell_type": "code",
   "execution_count": null,
   "metadata": {},
   "outputs": [],
   "source": [
    "plt.figure(figsize=(14, 6))\n",
    "\n",
    "for i, h in enumerate(history):\n",
    "    plt.subplot(1, 2, 1)\n",
    "    plt.plot(h.history['accuracy'], label=f'{type(optimizers_list[i]).__name__} Train')\n",
    "    plt.title('train accuracy')\n",
    "    plt.xlabel('Epoch')\n",
    "    plt.ylabel('Accuracy')\n",
    "    plt.legend(loc='best')\n",
    "\n",
    "    plt.subplot(1, 2, 2)\n",
    "    plt.plot(h.history['loss'], label=f'{type(optimizers_list[i]).__name__} Train')\n",
    "    plt.title('train loss')\n",
    "    plt.xlabel('Epoch')\n",
    "    plt.ylabel('Loss')\n",
    "    plt.legend(loc='best')\n",
    "\n",
    "plt.tight_layout()\n",
    "plt.savefig(f\"{result_path}/result_{_time}.png\")\n",
    "plt.show()"
   ]
  },
  {
   "cell_type": "code",
   "execution_count": null,
   "metadata": {},
   "outputs": [],
   "source": [
    "metrics = [\"Loss\", \"Accuracy\", \"Training Time\"]\n",
    "for metric in metrics:\n",
    "    plt.figure(figsize=(5, 6))\n",
    "    sns.barplot(x=\"Optimizer\", y=metric, hue=\"Optimizer\", data=results_df, palette=\"viridis\", legend=False)\n",
    "    plt.title(f'{metric} Comparison')\n",
    "    plt.ylabel(metric)\n",
    "    plt.xlabel('Optimizer')\n",
    "    plt.tight_layout()\n",
    "    plt.savefig(f'{result_path}/{metric.lower().replace(\" \", \"_\")}_comparison_{_time}.png')\n",
    "    plt.show()"
   ]
  },
  {
   "cell_type": "markdown",
   "metadata": {},
   "source": [
    "## 2.2. Activation Function"
   ]
  },
  {
   "cell_type": "code",
   "execution_count": null,
   "metadata": {},
   "outputs": [],
   "source": [
    "activations = {\n",
    "    'relu': layers.ReLU(),\n",
    "    'leaky_relu': layers.LeakyReLU(),\n",
    "    'elu': layers.ELU(),\n",
    "    'selu': layers.Activation('selu'),\n",
    "    'sigmoid': layers.Activation('sigmoid'),\n",
    "    'tanh': layers.Activation('tanh'),\n",
    "    'softmax': layers.Activation('softmax'),\n",
    "    'softplus': layers.Activation('softplus'),\n",
    "    'softsign': layers.Activation('softsign'),\n",
    "    'swish': layers.Activation('swish'),\n",
    "    'gelu': layers.Activation('gelu')\n",
    "}"
   ]
  },
  {
   "cell_type": "code",
   "execution_count": null,
   "metadata": {},
   "outputs": [],
   "source": [
    "history = []\n",
    "results = {'Activation Function': [], 'Loss': [], 'Accuracy': [], 'Training Time': []}"
   ]
  },
  {
   "cell_type": "code",
   "execution_count": null,
   "metadata": {},
   "outputs": [],
   "source": [
    "best_optimizer = optimizers.legacy.Nadam(learning_rate=0.001, beta_1=0.9, beta_2=0.999)\n",
    "activation_functions = ['relu', 'leaky_relu', 'elu', 'selu', 'sigmoid', 'tanh',\n",
    "                        'softmax', 'softplus', 'softsign', 'swish', 'gelu']"
   ]
  },
  {
   "cell_type": "code",
   "execution_count": null,
   "metadata": {},
   "outputs": [],
   "source": [
    "def _train_act(x_train, y_train, validation_data, optimizer, activation_ftn):\n",
    "    print(f\"Start with {activation_ftn}\")\n",
    "\n",
    "    activation_layer = activations.get(activation_ftn, layers.ReLU())\n",
    "\n",
    "    final_model = ResModel(num_classes=62, initial_filters=32, dropout_rate=0.3,\n",
    "                           final_dropout_rate=0.6, activation=activation_layer, num_residual_units=3)\n",
    "    final_model.compile(optimizer=optimizer, loss='sparse_categorical_crossentropy', metrics=['accuracy'])\n",
    "\n",
    "    start_time = time.time()\n",
    "    hist = final_model.train(x_train, y_train, validation_data=validation_data, epochs=EPOCHS,\n",
    "                             batch_size=BATCH_SIZE, callbacks=[callbacks_final])\n",
    "    end_time = time.time()\n",
    "\n",
    "    history.append(hist)\n",
    "\n",
    "    loss, accuracy = final_model.evaluate(x_test, y_test_int)\n",
    "    results['Activation Function'].append(activation_ftn)\n",
    "    results['Loss'].append(loss)\n",
    "    results['Accuracy'].append(accuracy)\n",
    "    results['Training Time'].append(end_time - start_time)\n",
    "\n",
    "    print(f\"End with {activation_ftn}\")"
   ]
  },
  {
   "cell_type": "code",
   "execution_count": null,
   "metadata": {},
   "outputs": [],
   "source": [
    "EPOCHS = 50\n",
    "BATCH_SIZE = 500"
   ]
  },
  {
   "cell_type": "code",
   "execution_count": null,
   "metadata": {},
   "outputs": [],
   "source": [
    "for ftn in activation_functions:\n",
    "    _train_act(x_train, y_train_int, (x_valid, y_valid_int), optimizer=best_optimizer, activation_ftn=ftn)"
   ]
  },
  {
   "cell_type": "code",
   "execution_count": null,
   "metadata": {},
   "outputs": [],
   "source": [
    "results_df = pd.DataFrame(results)\n",
    "save_results(results_df)\n",
    "for activation, h in zip(activation_functions, history):\n",
    "    history_dict = {key: list(map(float, value)) for key, value in h.history.items()}  # Ensure values are float\n",
    "    save_history(history_dict, f'history_activation_{activation}_{_time}.json')"
   ]
  },
  {
   "cell_type": "code",
   "execution_count": null,
   "metadata": {},
   "outputs": [],
   "source": [
    "len(history)"
   ]
  },
  {
   "cell_type": "code",
   "execution_count": null,
   "metadata": {},
   "outputs": [],
   "source": [
    "plt.figure(figsize=(14, 6))\n",
    "\n",
    "for i in range(len(activation_functions)):\n",
    "    plt.subplot(1, 2, 1)\n",
    "    plt.plot(history[i].history['accuracy'], label=f'{activation_functions[i]} Train')\n",
    "    plt.title('train accuracy')\n",
    "    plt.xlabel('Epoch')\n",
    "    plt.ylabel('Accuracy')\n",
    "    plt.legend(loc='best')\n",
    "\n",
    "    plt.subplot(1, 2, 2)\n",
    "    plt.plot(history[i].history['loss'], label=f'{activation_functions[i]} Train')\n",
    "    plt.title('train loss')\n",
    "    plt.xlabel('Epoch')\n",
    "    plt.ylabel('Loss')\n",
    "    plt.legend(loc='best')\n",
    "\n",
    "plt.tight_layout()\n",
    "plt.savefig(f\"{result_path}/result_activation_{_time}.png\")\n",
    "plt.show()"
   ]
  },
  {
   "cell_type": "code",
   "execution_count": null,
   "metadata": {},
   "outputs": [],
   "source": [
    "display(results_df)"
   ]
  },
  {
   "cell_type": "code",
   "execution_count": null,
   "metadata": {},
   "outputs": [],
   "source": [
    "plt.figure(figsize=(12, 6))\n",
    "sns.barplot(x=\"Activation Function\", y=\"Loss\", hue=\"Activation Function\",\n",
    "            data=results_df, palette=\"viridis\", legend=False)\n",
    "plt.title(f'{\"Loss\"} Comparison')\n",
    "plt.ylabel(\"Loss\")\n",
    "plt.xlabel('Activation Function')\n",
    "plt.tight_layout()\n",
    "plt.savefig(f'{result_path}/{\"Loss\".lower().replace(\" \", \"_\")}_comparison_{_time}.png')\n",
    "\n",
    "plt.figure(figsize=(12, 6))\n",
    "sns.barplot(x=\"Activation Function\", y=\"Accuracy\", hue=\"Activation Function\",\n",
    "            data=results_df, palette=\"viridis\", legend=False)\n",
    "plt.title(f'{\"Accuracy\"} Comparison')\n",
    "plt.ylabel(\"Accuracy\")\n",
    "plt.xlabel('Activation Function')\n",
    "plt.ylim([0.8, 1])\n",
    "plt.tight_layout()\n",
    "plt.savefig(f'{result_path}/{\"Accuracy\".lower().replace(\" \", \"_\")}_comparison_{_time}.png')\n",
    "plt.show()\n",
    "\n",
    "plt.figure(figsize=(12, 6))\n",
    "sns.barplot(x=\"Activation Function\", y=\"Training Time\", hue=\"Activation Function\",\n",
    "            data=results_df, palette=\"viridis\", legend=False)\n",
    "plt.title(f'{\"Training Time\"} Comparison')\n",
    "plt.ylabel(\"Training Time\")\n",
    "plt.xlabel('Activation Function')\n",
    "plt.tight_layout()\n",
    "plt.savefig(f'{result_path}/{\"Training Time\".lower().replace(\" \", \"_\")}_comparison_{_time}.png')\n",
    "plt.show()"
   ]
  },
  {
   "cell_type": "markdown",
   "metadata": {},
   "source": [
    "## 2.3. The number of Residual Blocks"
   ]
  },
  {
   "cell_type": "code",
   "execution_count": null,
   "metadata": {},
   "outputs": [],
   "source": [
    "history = []\n",
    "training_time = []"
   ]
  },
  {
   "cell_type": "code",
   "execution_count": null,
   "metadata": {},
   "outputs": [],
   "source": [
    "callbacks_final = create_callbacks('final')"
   ]
  },
  {
   "cell_type": "code",
   "execution_count": null,
   "metadata": {},
   "outputs": [],
   "source": [
    "best_optimizer = optimizers.legacy.Nadam(learning_rate=0.001, beta_1=0.9, beta_2=0.999)\n",
    "best_activation = 'swish'"
   ]
  },
  {
   "cell_type": "code",
   "execution_count": null,
   "metadata": {},
   "outputs": [],
   "source": [
    "our_model_1res = ResModel(num_residual_units=1, activation=best_activation)\n",
    "our_model_2res = ResModel(num_residual_units=2, activation=best_activation)\n",
    "our_model_3res = ResModel(num_residual_units=3, activation=best_activation)\n",
    "our_model_4res = ResModel(num_residual_units=4, activation=best_activation)"
   ]
  },
  {
   "cell_type": "code",
   "execution_count": null,
   "metadata": {},
   "outputs": [],
   "source": [
    "our_model_1res.compile(optimizer=best_optimizer, loss='sparse_categorical_crossentropy', metrics=['accuracy'])\n",
    "our_model_2res.compile(optimizer=best_optimizer, loss='sparse_categorical_crossentropy', metrics=['accuracy'])\n",
    "our_model_3res.compile(optimizer=best_optimizer, loss='sparse_categorical_crossentropy', metrics=['accuracy'])\n",
    "our_model_4res.compile(optimizer=best_optimizer, loss='sparse_categorical_crossentropy', metrics=['accuracy'])"
   ]
  },
  {
   "cell_type": "code",
   "execution_count": null,
   "metadata": {},
   "outputs": [],
   "source": [
    "EPOCHS = 50\n",
    "BATCH_SIZE = 500"
   ]
  },
  {
   "cell_type": "code",
   "execution_count": null,
   "metadata": {},
   "outputs": [],
   "source": [
    "def _train_blocks(model, x_train, y_train, validation_data):\n",
    "    model.compile(optimizer=best_optimizer, loss='sparse_categorical_crossentropy', metrics=['accuracy'])\n",
    "\n",
    "    start_time = time.time()\n",
    "    hist = model.train(x_train, y_train, validation_data=validation_data, epochs=EPOCHS,\n",
    "                       batch_size=BATCH_SIZE, callbacks=[callbacks_final])\n",
    "    end_time = time.time()\n",
    "\n",
    "    history.append(hist)\n",
    "\n",
    "    loss, accuracy = model.evaluate(x_test, y_test_int)\n",
    "    results['Loss'].append(loss)\n",
    "    results['Accuracy'].append(accuracy)\n",
    "    results['Training Time'].append(end_time - start_time)"
   ]
  },
  {
   "cell_type": "code",
   "execution_count": null,
   "metadata": {},
   "outputs": [],
   "source": [
    "start_time = time.time()\n",
    "_train_blocks(our_model_1res, x_train, y_train_int, (x_valid, y_valid_int))\n",
    "end_time = time.time()\n",
    "training_time.append(end_time-start_time)\n",
    "\n",
    "start_time = time.time()\n",
    "_train_blocks(our_model_2res, x_train, y_train_int, (x_valid, y_valid_int))\n",
    "end_time = time.time()\n",
    "training_time.append(end_time-start_time)\n",
    "\n",
    "\n",
    "start_time = time.time()\n",
    "_train_blocks(our_model_3res, x_train, y_train_int, (x_valid, y_valid_int))\n",
    "end_time = time.time()\n",
    "training_time.append(end_time-start_time)\n",
    "\n",
    "\n",
    "start_time = time.time()\n",
    "_train_blocks(our_model_4res, x_train, y_train_int, (x_valid, y_valid_int))\n",
    "end_time = time.time()\n",
    "training_time.append(end_time-start_time)"
   ]
  },
  {
   "cell_type": "code",
   "execution_count": null,
   "metadata": {},
   "outputs": [],
   "source": [
    "loss_our1res, acc_our1res = our_model_1res.evaluate(x_test, y_test_int)\n",
    "loss_our2res, acc_our2res = our_model_2res.evaluate(x_test, y_test_int)\n",
    "loss_our3res, acc_our3res = our_model_3res.evaluate(x_test, y_test_int)\n",
    "loss_our4res, acc_our4res = our_model_4res.evaluate(x_test, y_test_int)"
   ]
  },
  {
   "cell_type": "code",
   "execution_count": null,
   "metadata": {},
   "outputs": [],
   "source": [
    "results = {\n",
    "    \"Model\": [\"Our Model(Residual, 1 units)\", \"Our Model(Residual, 2 units)\", \"Our Model(Residual, 3 units)\", \"Our Model(Residual, 4 units)\"],\n",
    "    \"Loss\": [loss_our1res, loss_our2res, loss_our3res, loss_our4res],\n",
    "    \"Accuracy\": [acc_our1res, acc_our2res, acc_our3res, acc_our4res],\n",
    "    \"Training Time\": training_time\n",
    "}"
   ]
  },
  {
   "cell_type": "code",
   "execution_count": null,
   "metadata": {},
   "outputs": [],
   "source": [
    "results_df = pd.DataFrame(results)\n",
    "results_df.to_csv(f'{result_path}/result_blocks_{_time}.csv', index=False)"
   ]
  },
  {
   "cell_type": "code",
   "execution_count": null,
   "metadata": {},
   "outputs": [],
   "source": [
    "for i, h in zip(range(1, 5), history):\n",
    "    history_dict = {key: list(map(float, value)) for key, value in h.history.items()}\n",
    "    save_history(history_dict, f'history_block_{i}_{_time}.json')"
   ]
  },
  {
   "cell_type": "code",
   "execution_count": null,
   "metadata": {},
   "outputs": [],
   "source": [
    "colors = [\"red\", \"blue\", \"green\", \"purple\", \"gold\", \"orange\"]\n",
    "\n",
    "plt.figure(figsize=(12, 6))\n",
    "\n",
    "plt.subplot(121)\n",
    "for idx, hist in enumerate(history):\n",
    "    plt.plot(hist.history['loss'], label=f'{results[\"Model\"][idx]}', color=colors[idx])\n",
    "    plt.title(f'Train Loss')\n",
    "    plt.xlabel('Epochs')\n",
    "    plt.ylabel('Loss')\n",
    "    plt.xlim([0, EPOCHS])\n",
    "    plt.grid(True)\n",
    "    plt.legend()\n",
    "plt.subplot(122)\n",
    "for idx, hist in enumerate(history):\n",
    "    plt.plot(hist.history['accuracy'], label=f'{results[\"Model\"][idx]}', color=colors[idx])\n",
    "    plt.title(f'Train Accuracy')\n",
    "    plt.xlabel('Epochs')\n",
    "    plt.ylabel('Accuracy')\n",
    "    plt.xlim([0, EPOCHS])\n",
    "    plt.ylim([0.8, 1])\n",
    "    plt.grid(True)\n",
    "    plt.legend()\n",
    "\n",
    "plt.tight_layout()\n",
    "plt.savefig(f\"{result_path}/result_blocks_{_time}.png\")\n",
    "plt.show()"
   ]
  },
  {
   "cell_type": "code",
   "execution_count": null,
   "metadata": {},
   "outputs": [],
   "source": [
    "metrics = [\"Loss\", \"Accuracy\", \"Training Time\"]\n",
    "for metric in metrics:\n",
    "    plt.figure(figsize=(12, 7))\n",
    "    sns.barplot(x=\"Model\", y=metric, hue=\"Model\", data=results_df, palette=\"viridis\", legend=False)\n",
    "    plt.title(f'{metric} Comparison')\n",
    "    plt.ylabel(metric)\n",
    "    plt.xlabel('Model')\n",
    "    plt.tight_layout()\n",
    "    plt.savefig(f'{result_path}/{metric.lower().replace(\" \", \"_\")}_comparison_blocks_{_time}.png')\n",
    "    plt.show()"
   ]
  },
  {
   "cell_type": "markdown",
   "metadata": {},
   "source": [
    "## 2.4. Learning Rate"
   ]
  },
  {
   "cell_type": "code",
   "execution_count": null,
   "metadata": {},
   "outputs": [],
   "source": [
    "history = []\n",
    "training_time = []"
   ]
  },
  {
   "cell_type": "code",
   "execution_count": null,
   "metadata": {},
   "outputs": [],
   "source": [
    "callbacks_final = create_callbacks('lr')"
   ]
  },
  {
   "cell_type": "code",
   "execution_count": null,
   "metadata": {},
   "outputs": [],
   "source": [
    "best_optimizer_1 = optimizers.legacy.Nadam(learning_rate=0.01, beta_1=0.9, beta_2=0.999)\n",
    "best_optimizer_2 = optimizers.legacy.Nadam(learning_rate=0.001, beta_1=0.9, beta_2=0.999)\n",
    "best_optimizer_3 = optimizers.legacy.Nadam(learning_rate=0.0001, beta_1=0.9, beta_2=0.999)\n",
    "best_optimizer_4 = optimizers.legacy.Nadam(learning_rate=0.00001, beta_1=0.9, beta_2=0.999)\n",
    "best_optimizer_5 = optimizers.legacy.Nadam(learning_rate=0.000001, beta_1=0.9, beta_2=0.999)\n",
    "best_activation = 'swish'"
   ]
  },
  {
   "cell_type": "code",
   "execution_count": null,
   "metadata": {},
   "outputs": [],
   "source": [
    "our_model_1lr = ResModel(num_residual_units=3, activation=best_activation)\n",
    "our_model_2lr = ResModel(num_residual_units=3, activation=best_activation)\n",
    "our_model_3lr = ResModel(num_residual_units=3, activation=best_activation)\n",
    "our_model_4lr = ResModel(num_residual_units=3, activation=best_activation)\n",
    "our_model_5lr = ResModel(num_residual_units=3, activation=best_activation)"
   ]
  },
  {
   "cell_type": "code",
   "execution_count": null,
   "metadata": {},
   "outputs": [],
   "source": [
    "our_model_1lr.compile(optimizer=best_optimizer_1, loss='sparse_categorical_crossentropy', metrics=['accuracy'])\n",
    "our_model_2lr.compile(optimizer=best_optimizer_2, loss='sparse_categorical_crossentropy', metrics=['accuracy'])\n",
    "our_model_3lr.compile(optimizer=best_optimizer_3, loss='sparse_categorical_crossentropy', metrics=['accuracy'])\n",
    "our_model_4lr.compile(optimizer=best_optimizer_4, loss='sparse_categorical_crossentropy', metrics=['accuracy'])\n",
    "our_model_5lr.compile(optimizer=best_optimizer_5, loss='sparse_categorical_crossentropy', metrics=['accuracy'])"
   ]
  },
  {
   "cell_type": "code",
   "execution_count": null,
   "metadata": {},
   "outputs": [],
   "source": [
    "EPOCHS = 50\n",
    "BATCH_SIZE = 500"
   ]
  },
  {
   "cell_type": "code",
   "execution_count": null,
   "metadata": {},
   "outputs": [],
   "source": [
    "results = {'Learning Rate': ['1e-2', '1e-3', '1e-4', '1e-5', '1e-6'], 'Loss': [], 'Accuracy': [], 'Training Time': []}"
   ]
  },
  {
   "cell_type": "code",
   "execution_count": null,
   "metadata": {},
   "outputs": [],
   "source": [
    "\n",
    "\n",
    "def _train_lr(model, optimizer, x_train, y_train, validation_data):\n",
    "    model.compile(optimizer=optimizer, loss='sparse_categorical_crossentropy', metrics=['accuracy'])\n",
    "\n",
    "    start_time = time.time()\n",
    "    hist = model.train(x_train, y_train, validation_data=validation_data, epochs=EPOCHS,\n",
    "                       batch_size=BATCH_SIZE, callbacks=[callbacks_final])\n",
    "    end_time = time.time()\n",
    "\n",
    "    history.append(hist)\n",
    "\n",
    "    loss, accuracy = model.evaluate(x_test, y_test_int)\n",
    "    results['Loss'].append(loss)\n",
    "    results['Accuracy'].append(accuracy)\n",
    "    results['Training Time'].append(end_time - start_time)"
   ]
  },
  {
   "cell_type": "code",
   "execution_count": null,
   "metadata": {},
   "outputs": [],
   "source": [
    "start_time = time.time()\n",
    "_train_lr(our_model_1lr, best_optimizer_1, x_train, y_train_int, (x_valid, y_valid_int))\n",
    "end_time = time.time()\n",
    "training_time.append(end_time-start_time)\n",
    "callbacks_final = create_callbacks('lr_1')\n",
    "\n",
    "start_time = time.time()\n",
    "_train_lr(our_model_2lr, best_optimizer_2, x_train, y_train_int, (x_valid, y_valid_int))\n",
    "end_time = time.time()\n",
    "training_time.append(end_time-start_time)\n",
    "callbacks_final = create_callbacks('lr_2')\n",
    "\n",
    "\n",
    "start_time = time.time()\n",
    "_train_lr(our_model_3lr, best_optimizer_3, x_train, y_train_int, (x_valid, y_valid_int))\n",
    "end_time = time.time()\n",
    "training_time.append(end_time-start_time)\n",
    "callbacks_final = create_callbacks('lr_3')\n",
    "\n",
    "start_time = time.time()\n",
    "_train_lr(our_model_4lr, best_optimizer_4, x_train, y_train_int, (x_valid, y_valid_int))\n",
    "end_time = time.time()\n",
    "training_time.append(end_time-start_time)\n",
    "callbacks_final = create_callbacks('lr_4')\n",
    "\n",
    "start_time = time.time()\n",
    "_train_lr(our_model_5lr, best_optimizer_5, x_train, y_train_int, (x_valid, y_valid_int))\n",
    "end_time = time.time()\n",
    "training_time.append(end_time-start_time)\n",
    "callbacks_final = create_callbacks('lr_5')"
   ]
  },
  {
   "cell_type": "code",
   "execution_count": null,
   "metadata": {},
   "outputs": [],
   "source": [
    "results_df = pd.DataFrame(results)\n",
    "results_df.to_csv(f'{result_path}/result_lr_{_time}.csv', index=False)"
   ]
  },
  {
   "cell_type": "code",
   "execution_count": null,
   "metadata": {},
   "outputs": [],
   "source": [
    "for i, h in zip(range(1, 4), history):\n",
    "    history_dict = {key: list(map(float, value)) for key, value in h.history.items()}\n",
    "    save_history(history_dict, f'history_lr_{i}_{_time}.json')"
   ]
  },
  {
   "cell_type": "code",
   "execution_count": null,
   "metadata": {},
   "outputs": [],
   "source": [
    "colors = [\"red\", \"blue\", \"green\", \"purple\", \"gold\", \"orange\"]\n",
    "\n",
    "plt.figure(figsize=(12, 6))\n",
    "\n",
    "plt.subplot(121)\n",
    "for idx, hist in enumerate(history):\n",
    "    plt.plot(hist.history['loss'], label=f'{results[\"Learning Rate\"][idx]}', color=colors[idx])\n",
    "    plt.title(f'Train Loss')\n",
    "    plt.xlabel('Epochs')\n",
    "    plt.ylabel('Loss')\n",
    "    plt.xlim([0, EPOCHS])\n",
    "    plt.grid(True)\n",
    "    plt.legend()\n",
    "plt.subplot(122)\n",
    "for idx, hist in enumerate(history):\n",
    "    plt.plot(hist.history['accuracy'], label=f'{results[\"Learning Rate\"][idx]}', color=colors[idx])\n",
    "    plt.title(f'Train Accuracy')\n",
    "    plt.xlabel('Epochs')\n",
    "    plt.ylabel('Accuracy')\n",
    "    plt.xlim([0, EPOCHS])\n",
    "    plt.ylim([0.8, 1])\n",
    "    plt.grid(True)\n",
    "    plt.legend()\n",
    "\n",
    "plt.tight_layout()\n",
    "plt.savefig(f\"{result_path}/result_lr_{_time}.png\")\n",
    "plt.show()"
   ]
  },
  {
   "cell_type": "code",
   "execution_count": null,
   "metadata": {},
   "outputs": [],
   "source": [
    "metrics = [\"Loss\", \"Accuracy\", \"Training Time\"]\n",
    "for metric in metrics:\n",
    "    plt.figure(figsize=(12, 7))\n",
    "    sns.barplot(x=\"Learning Rate\", y=metric, hue=\"Learning Rate\", data=results_df, palette=\"viridis\", legend=False)\n",
    "    plt.title(f'{metric} Comparison')\n",
    "    plt.ylabel(metric)\n",
    "    plt.xlabel('Learning Rate')\n",
    "    plt.tight_layout()\n",
    "    plt.savefig(f'{result_path}/{metric.lower().replace(\" \", \"_\")}_comparison_lr_{_time}.png')\n",
    "    plt.show()"
   ]
  },
  {
   "cell_type": "markdown",
   "metadata": {},
   "source": [
    "### 2.4.1. Detailed learning rate"
   ]
  },
  {
   "cell_type": "code",
   "execution_count": null,
   "metadata": {},
   "outputs": [],
   "source": [
    "history = []\n",
    "training_time = []"
   ]
  },
  {
   "cell_type": "code",
   "execution_count": null,
   "metadata": {},
   "outputs": [],
   "source": [
    "callbacks_final = create_callbacks('lr')"
   ]
  },
  {
   "cell_type": "code",
   "execution_count": null,
   "metadata": {},
   "outputs": [],
   "source": [
    "best_activation = 'swish'"
   ]
  },
  {
   "cell_type": "code",
   "execution_count": null,
   "metadata": {},
   "outputs": [],
   "source": [
    "EPOCHS = 50\n",
    "BATCH_SIZE = 500"
   ]
  },
  {
   "cell_type": "code",
   "execution_count": null,
   "metadata": {},
   "outputs": [],
   "source": [
    "results = {'Learning Rate': ['1e−3', '9e−4', '8e−4', '7e−4', '6e−4',\n",
    "                             '5e−4', '4e−4', '3e−4', '2e−4', '1e−4'], 'Loss': [], 'Accuracy': [], 'Training Time': []}"
   ]
  },
  {
   "cell_type": "code",
   "execution_count": null,
   "metadata": {},
   "outputs": [],
   "source": [
    "def _train_lr(learning_rate, x_train, y_train, validation_data):\n",
    "    model = ResModel(num_residual_units=3, activation=best_activation)\n",
    "    _optimizer = optimizers.legacy.Nadam(learning_rate=learning_rate, beta_1=0.9, beta_2=0.999)\n",
    "    model.compile(optimizer=_optimizer, loss='sparse_categorical_crossentropy', metrics=['accuracy'])\n",
    "\n",
    "    start_time = time.time()\n",
    "    hist = model.train(x_train, y_train, validation_data=validation_data, epochs=EPOCHS,\n",
    "                       batch_size=BATCH_SIZE, callbacks=[callbacks_final])\n",
    "    end_time = time.time()\n",
    "\n",
    "    history.append(hist)\n",
    "\n",
    "    loss, accuracy = model.evaluate(x_test, y_test_int)\n",
    "    results['Loss'].append(loss)\n",
    "    results['Accuracy'].append(accuracy)\n",
    "    results['Training Time'].append(end_time - start_time)"
   ]
  },
  {
   "cell_type": "code",
   "execution_count": null,
   "metadata": {},
   "outputs": [],
   "source": [
    "for i in np.linspace(1e-3, 1e-4, 10):\n",
    "    start_time = time.time()\n",
    "    _train_lr(i, x_train, y_train_int, (x_valid, y_valid_int))\n",
    "    end_time = time.time()\n",
    "    training_time.append(end_time-start_time)\n",
    "    callbacks_final = create_callbacks(f'{i}')"
   ]
  },
  {
   "cell_type": "code",
   "execution_count": null,
   "metadata": {},
   "outputs": [],
   "source": [
    "results_df = pd.DataFrame(results)\n",
    "results_df.to_csv(f'{result_path}/result_lr_{_time}.csv', index=False)"
   ]
  },
  {
   "cell_type": "code",
   "execution_count": null,
   "metadata": {},
   "outputs": [],
   "source": [
    "for i, h in zip(['1e−3', '9e−4', '8e−4', '7e−4', '6e−4',\n",
    "                 '5e−4', '4e−4', '3e−4', '2e−4', '1e−4'], history):\n",
    "    history_dict = {key: list(map(float, value)) for key, value in h.history.items()}\n",
    "    save_history(history_dict, f'history_lr_{i}_{_time}.json')"
   ]
  },
  {
   "cell_type": "code",
   "execution_count": null,
   "metadata": {},
   "outputs": [],
   "source": [
    "colors = [\"red\", \"blue\", \"green\", \"purple\", \"gold\", \"orange\", \"cyan\", \"magenta\", \"brown\", \"pink\"]\n",
    "\n",
    "\n",
    "plt.figure(figsize=(12, 6))\n",
    "\n",
    "plt.subplot(121)\n",
    "for idx, hist in enumerate(history):\n",
    "    plt.plot(hist.history['loss'], label=f'{results[\"Learning Rate\"][idx]}', color=colors[idx])\n",
    "    plt.title(f'Train Loss')\n",
    "    plt.xlabel('Epochs')\n",
    "    plt.ylabel('Loss')\n",
    "    plt.xlim([0, EPOCHS])\n",
    "    plt.grid(True)\n",
    "    plt.legend()\n",
    "plt.subplot(122)\n",
    "for idx, hist in enumerate(history):\n",
    "    plt.plot(hist.history['accuracy'], label=f'{results[\"Learning Rate\"][idx]}', color=colors[idx])\n",
    "    plt.title(f'Train Accuracy')\n",
    "    plt.xlabel('Epochs')\n",
    "    plt.ylabel('Accuracy')\n",
    "    plt.xlim([0, EPOCHS])\n",
    "    plt.ylim([0.8, 1])\n",
    "    plt.grid(True)\n",
    "    plt.legend()\n",
    "\n",
    "plt.tight_layout()\n",
    "plt.savefig(f\"{result_path}/result_lr_{_time}.png\")\n",
    "plt.show()"
   ]
  },
  {
   "cell_type": "code",
   "execution_count": null,
   "metadata": {},
   "outputs": [],
   "source": [
    "metrics = [\"Loss\", \"Accuracy\", \"Training Time\"]\n",
    "for metric in metrics:\n",
    "    plt.figure(figsize=(12, 7))\n",
    "    sns.barplot(x=\"Learning Rate\", y=metric, hue=\"Learning Rate\", data=results_df, palette=\"viridis\", legend=False)\n",
    "    plt.title(f'{metric} Comparison')\n",
    "    plt.ylabel(metric)\n",
    "    plt.xlabel('Learning Rate')\n",
    "    plt.tight_layout()\n",
    "    plt.savefig(f'{result_path}/{metric.lower().replace(\" \", \"_\")}_comparison_lr_{_time}.png')\n",
    "    plt.show()"
   ]
  },
  {
   "cell_type": "markdown",
   "metadata": {},
   "source": [
    "## 2.5. Loss function"
   ]
  },
  {
   "cell_type": "code",
   "execution_count": 8,
   "metadata": {},
   "outputs": [
    {
     "name": "stderr",
     "output_type": "stream",
     "text": [
      "/home/suhohan/anaconda3/envs/ann/lib/python3.10/site-packages/tensorflow_addons/utils/tfa_eol_msg.py:23: UserWarning: \n",
      "\n",
      "TensorFlow Addons (TFA) has ended development and introduction of new features.\n",
      "TFA has entered a minimal maintenance and release mode until a planned end of life in May 2024.\n",
      "Please modify downstream libraries to take dependencies from other repositories in our TensorFlow community (e.g. Keras, Keras-CV, and Keras-NLP). \n",
      "\n",
      "For more information see: https://github.com/tensorflow/addons/issues/2807 \n",
      "\n",
      "  warnings.warn(\n"
     ]
    }
   ],
   "source": [
    "from tensorflow_addons.losses import SigmoidFocalCrossEntropy"
   ]
  },
  {
   "cell_type": "code",
   "execution_count": 9,
   "metadata": {},
   "outputs": [],
   "source": [
    "history = []\n",
    "training_time = []"
   ]
  },
  {
   "cell_type": "code",
   "execution_count": 10,
   "metadata": {},
   "outputs": [],
   "source": [
    "callbacks_final = create_callbacks('loss')"
   ]
  },
  {
   "cell_type": "code",
   "execution_count": 11,
   "metadata": {},
   "outputs": [],
   "source": [
    "best_activation = 'swish'\n",
    "best_learning_rate = 2e-4\n",
    "best_optimizer = optimizers.legacy.Nadam(learning_rate=best_learning_rate, beta_1=0.9, beta_2=0.999)"
   ]
  },
  {
   "cell_type": "code",
   "execution_count": 12,
   "metadata": {},
   "outputs": [],
   "source": [
    "results = {'Loss Function': ['Cross Entropy Loss', 'Focal Loss'], 'Loss': [], 'Accuracy': [], 'Training Time': []}"
   ]
  },
  {
   "cell_type": "code",
   "execution_count": 13,
   "metadata": {},
   "outputs": [],
   "source": [
    "EPOCHS = 50\n",
    "BATCH_SIZE = 500"
   ]
  },
  {
   "cell_type": "code",
   "execution_count": 23,
   "metadata": {},
   "outputs": [],
   "source": [
    "class CategoricalFocalLoss(losses.Loss):\n",
    "    def __init__(self, gamma=2.0, alpha=0.25):\n",
    "        super(CategoricalFocalLoss, self).__init__()\n",
    "        self.gamma = gamma\n",
    "        self.alpha = alpha\n",
    "\n",
    "    def call(self, y_true, y_pred):\n",
    "        y_true = tf.cast(y_true, dtype=tf.float32)\n",
    "        y_pred = tf.cast(y_pred, dtype=tf.float32)\n",
    "        alpha = tf.constant(self.alpha, dtype=tf.float32)\n",
    "        gamma = tf.constant(self.gamma, dtype=tf.float32)\n",
    "\n",
    "        epsilon = tf.keras.backend.epsilon()\n",
    "        y_pred = tf.clip_by_value(y_pred, epsilon, 1.0 - epsilon)\n",
    "        y_true = tf.clip_by_value(y_true, epsilon, 1.0 - epsilon)\n",
    "\n",
    "        cross_entropy = -y_true * tf.math.log(y_pred)\n",
    "        weight = alpha * y_true * tf.pow((1 - y_pred), gamma)\n",
    "        loss = weight * cross_entropy\n",
    "        loss = tf.reduce_sum(loss, axis=1)\n",
    "        return tf.reduce_mean(loss)"
   ]
  },
  {
   "cell_type": "code",
   "execution_count": 24,
   "metadata": {},
   "outputs": [],
   "source": [
    "focal_loss = CategoricalFocalLoss(gamma=2.0, alpha=0.25)\n",
    "\n",
    "model_default = ResModel(num_residual_units=3, activation=best_activation)\n",
    "model_focal = ResModel(num_residual_units=3, activation=best_activation)\n",
    "model_default.compile(optimizer=best_optimizer, loss='sparse_categorical_crossentropy', metrics=['accuracy'])\n",
    "model_focal.compile(optimizer=best_optimizer, loss=focal_loss, metrics=['accuracy'])"
   ]
  },
  {
   "cell_type": "code",
   "execution_count": 25,
   "metadata": {},
   "outputs": [],
   "source": [
    "def _train_losses(model, x_train, y_train, validation_data):\n",
    "    start_time = time.time()\n",
    "    hist = model.train(x_train, y_train, validation_data=validation_data, epochs=EPOCHS,\n",
    "                       batch_size=BATCH_SIZE, callbacks=[callbacks_final])\n",
    "    end_time = time.time()\n",
    "\n",
    "    history.append(hist)\n",
    "\n",
    "    loss, accuracy = model.evaluate(x_test, y_test_int)\n",
    "    results['Loss'].append(loss)\n",
    "    results['Accuracy'].append(accuracy)\n",
    "    results['Training Time'].append(end_time - start_time)"
   ]
  },
  {
   "cell_type": "code",
   "execution_count": 26,
   "metadata": {},
   "outputs": [
    {
     "name": "stdout",
     "output_type": "stream",
     "text": [
      "Epoch 1/50\n"
     ]
    },
    {
     "name": "stderr",
     "output_type": "stream",
     "text": [
      "2024-06-01 21:35:30.533528: E tensorflow/core/grappler/optimizers/meta_optimizer.cc:961] layout failed: INVALID_ARGUMENT: Size of values 0 does not match size of permutation 4 @ fanin shape inmodel_2/dropout_10/dropout/SelectV2-2-TransposeNHWCToNCHW-LayoutOptimizer\n"
     ]
    },
    {
     "name": "stdout",
     "output_type": "stream",
     "text": [
      "1256/1257 [============================>.] - ETA: 0s - loss: 1.3941 - accuracy: 0.6350\n",
      "Epoch 1: val_loss did not improve from -625411456.00000\n",
      "1257/1257 [==============================] - 35s 26ms/step - loss: 1.3940 - accuracy: 0.6350 - val_loss: 0.6888 - val_accuracy: 0.7845 - lr: 1.2500e-05\n",
      "Epoch 2/50\n",
      "1256/1257 [============================>.] - ETA: 0s - loss: 0.8094 - accuracy: 0.7578\n",
      "Epoch 2: val_loss did not improve from -625411456.00000\n",
      "1257/1257 [==============================] - 33s 26ms/step - loss: 0.8094 - accuracy: 0.7578 - val_loss: 0.5366 - val_accuracy: 0.8224 - lr: 1.2500e-05\n",
      "Epoch 3/50\n",
      "1256/1257 [============================>.] - ETA: 0s - loss: 0.6702 - accuracy: 0.7891\n",
      "Epoch 3: val_loss did not improve from -625411456.00000\n",
      "1257/1257 [==============================] - 34s 27ms/step - loss: 0.6702 - accuracy: 0.7891 - val_loss: 0.4791 - val_accuracy: 0.8366 - lr: 1.2500e-05\n",
      "Epoch 4/50\n",
      "1256/1257 [============================>.] - ETA: 0s - loss: 0.5993 - accuracy: 0.8054\n",
      "Epoch 4: val_loss did not improve from -625411456.00000\n",
      "1257/1257 [==============================] - 33s 26ms/step - loss: 0.5993 - accuracy: 0.8054 - val_loss: 0.4476 - val_accuracy: 0.8435 - lr: 1.2500e-05\n",
      "Epoch 5/50\n",
      "1255/1257 [============================>.] - ETA: 0s - loss: 0.5536 - accuracy: 0.8167\n",
      "Epoch 5: val_loss did not improve from -625411456.00000\n",
      "1257/1257 [==============================] - 32s 26ms/step - loss: 0.5536 - accuracy: 0.8167 - val_loss: 0.4294 - val_accuracy: 0.8486 - lr: 1.2500e-05\n",
      "Epoch 6/50\n",
      "1257/1257 [==============================] - ETA: 0s - loss: 0.5228 - accuracy: 0.8239\n",
      "Epoch 6: val_loss did not improve from -625411456.00000\n",
      "1257/1257 [==============================] - 33s 26ms/step - loss: 0.5228 - accuracy: 0.8239 - val_loss: 0.4140 - val_accuracy: 0.8525 - lr: 1.2500e-05\n",
      "Epoch 7/50\n",
      "1255/1257 [============================>.] - ETA: 0s - loss: 0.4999 - accuracy: 0.8296\n",
      "Epoch 7: val_loss did not improve from -625411456.00000\n",
      "1257/1257 [==============================] - 33s 26ms/step - loss: 0.5000 - accuracy: 0.8296 - val_loss: 0.4041 - val_accuracy: 0.8548 - lr: 1.2500e-05\n",
      "Epoch 8/50\n",
      "1256/1257 [============================>.] - ETA: 0s - loss: 0.4834 - accuracy: 0.8341\n",
      "Epoch 8: val_loss did not improve from -625411456.00000\n",
      "1257/1257 [==============================] - 32s 26ms/step - loss: 0.4834 - accuracy: 0.8341 - val_loss: 0.3969 - val_accuracy: 0.8576 - lr: 1.2500e-05\n",
      "Epoch 9/50\n",
      "1256/1257 [============================>.] - ETA: 0s - loss: 0.4681 - accuracy: 0.8378\n",
      "Epoch 9: val_loss did not improve from -625411456.00000\n",
      "1257/1257 [==============================] - 33s 26ms/step - loss: 0.4681 - accuracy: 0.8378 - val_loss: 0.3905 - val_accuracy: 0.8597 - lr: 1.2500e-05\n",
      "Epoch 10/50\n",
      "1255/1257 [============================>.] - ETA: 0s - loss: 0.4562 - accuracy: 0.8408\n",
      "Epoch 10: val_loss did not improve from -625411456.00000\n",
      "1257/1257 [==============================] - 33s 26ms/step - loss: 0.4561 - accuracy: 0.8409 - val_loss: 0.3863 - val_accuracy: 0.8603 - lr: 1.2500e-05\n",
      "Epoch 11/50\n",
      "1257/1257 [==============================] - ETA: 0s - loss: 0.4471 - accuracy: 0.8435\n",
      "Epoch 11: val_loss did not improve from -625411456.00000\n",
      "1257/1257 [==============================] - 33s 26ms/step - loss: 0.4471 - accuracy: 0.8435 - val_loss: 0.3780 - val_accuracy: 0.8625 - lr: 1.2500e-05\n",
      "Epoch 12/50\n",
      "1255/1257 [============================>.] - ETA: 0s - loss: 0.4376 - accuracy: 0.8457\n",
      "Epoch 12: val_loss did not improve from -625411456.00000\n",
      "1257/1257 [==============================] - 33s 26ms/step - loss: 0.4377 - accuracy: 0.8457 - val_loss: 0.3754 - val_accuracy: 0.8636 - lr: 1.2500e-05\n",
      "Epoch 13/50\n",
      "1255/1257 [============================>.] - ETA: 0s - loss: 0.4314 - accuracy: 0.8473\n",
      "Epoch 13: val_loss did not improve from -625411456.00000\n",
      "1257/1257 [==============================] - 33s 26ms/step - loss: 0.4314 - accuracy: 0.8474 - val_loss: 0.3727 - val_accuracy: 0.8638 - lr: 1.2500e-05\n",
      "Epoch 14/50\n",
      "1255/1257 [============================>.] - ETA: 0s - loss: 0.4249 - accuracy: 0.8491\n",
      "Epoch 14: val_loss did not improve from -625411456.00000\n",
      "1257/1257 [==============================] - 33s 26ms/step - loss: 0.4249 - accuracy: 0.8491 - val_loss: 0.3718 - val_accuracy: 0.8635 - lr: 1.2500e-05\n",
      "Epoch 15/50\n",
      "1257/1257 [==============================] - ETA: 0s - loss: 0.4183 - accuracy: 0.8508\n",
      "Epoch 15: val_loss did not improve from -625411456.00000\n",
      "1257/1257 [==============================] - 32s 26ms/step - loss: 0.4183 - accuracy: 0.8508 - val_loss: 0.3667 - val_accuracy: 0.8652 - lr: 1.2500e-05\n",
      "Epoch 16/50\n",
      "1255/1257 [============================>.] - ETA: 0s - loss: 0.4138 - accuracy: 0.8518\n",
      "Epoch 16: val_loss did not improve from -625411456.00000\n",
      "1257/1257 [==============================] - 32s 26ms/step - loss: 0.4138 - accuracy: 0.8518 - val_loss: 0.3633 - val_accuracy: 0.8659 - lr: 1.2500e-05\n",
      "Epoch 17/50\n",
      "1255/1257 [============================>.] - ETA: 0s - loss: 0.4082 - accuracy: 0.8537\n",
      "Epoch 17: val_loss did not improve from -625411456.00000\n",
      "1257/1257 [==============================] - 32s 26ms/step - loss: 0.4082 - accuracy: 0.8537 - val_loss: 0.3612 - val_accuracy: 0.8667 - lr: 1.2500e-05\n",
      "Epoch 18/50\n",
      "1255/1257 [============================>.] - ETA: 0s - loss: 0.4047 - accuracy: 0.8547\n",
      "Epoch 18: val_loss did not improve from -625411456.00000\n",
      "1257/1257 [==============================] - 33s 26ms/step - loss: 0.4047 - accuracy: 0.8547 - val_loss: 0.3604 - val_accuracy: 0.8671 - lr: 1.2500e-05\n",
      "Epoch 19/50\n",
      "1256/1257 [============================>.] - ETA: 0s - loss: 0.4007 - accuracy: 0.8555\n",
      "Epoch 19: val_loss did not improve from -625411456.00000\n",
      "1257/1257 [==============================] - 32s 26ms/step - loss: 0.4007 - accuracy: 0.8555 - val_loss: 0.3585 - val_accuracy: 0.8682 - lr: 1.2500e-05\n",
      "Epoch 20/50\n",
      "1255/1257 [============================>.] - ETA: 0s - loss: 0.3974 - accuracy: 0.8566\n",
      "Epoch 20: val_loss did not improve from -625411456.00000\n",
      "1257/1257 [==============================] - 32s 26ms/step - loss: 0.3974 - accuracy: 0.8566 - val_loss: 0.3570 - val_accuracy: 0.8678 - lr: 1.2500e-05\n",
      "Epoch 21/50\n",
      "1255/1257 [============================>.] - ETA: 0s - loss: 0.3939 - accuracy: 0.8577\n",
      "Epoch 21: val_loss did not improve from -625411456.00000\n",
      "1257/1257 [==============================] - 32s 26ms/step - loss: 0.3939 - accuracy: 0.8577 - val_loss: 0.3547 - val_accuracy: 0.8687 - lr: 1.2500e-05\n",
      "Epoch 22/50\n",
      "1256/1257 [============================>.] - ETA: 0s - loss: 0.3904 - accuracy: 0.8587\n",
      "Epoch 22: val_loss did not improve from -625411456.00000\n",
      "1257/1257 [==============================] - 33s 26ms/step - loss: 0.3904 - accuracy: 0.8587 - val_loss: 0.3536 - val_accuracy: 0.8689 - lr: 1.2500e-05\n",
      "Epoch 23/50\n",
      "1257/1257 [==============================] - ETA: 0s - loss: 0.3879 - accuracy: 0.8592\n",
      "Epoch 23: val_loss did not improve from -625411456.00000\n",
      "1257/1257 [==============================] - 33s 26ms/step - loss: 0.3879 - accuracy: 0.8592 - val_loss: 0.3530 - val_accuracy: 0.8691 - lr: 1.2500e-05\n",
      "Epoch 24/50\n",
      "1256/1257 [============================>.] - ETA: 0s - loss: 0.3845 - accuracy: 0.8598\n",
      "Epoch 24: val_loss did not improve from -625411456.00000\n",
      "1257/1257 [==============================] - 33s 26ms/step - loss: 0.3845 - accuracy: 0.8598 - val_loss: 0.3509 - val_accuracy: 0.8695 - lr: 1.2500e-05\n",
      "Epoch 25/50\n",
      "1256/1257 [============================>.] - ETA: 0s - loss: 0.3829 - accuracy: 0.8603\n",
      "Epoch 25: val_loss did not improve from -625411456.00000\n",
      "1257/1257 [==============================] - 33s 26ms/step - loss: 0.3829 - accuracy: 0.8603 - val_loss: 0.3509 - val_accuracy: 0.8697 - lr: 1.2500e-05\n",
      "Epoch 26/50\n",
      "1255/1257 [============================>.] - ETA: 0s - loss: 0.3796 - accuracy: 0.8612\n",
      "Epoch 26: val_loss did not improve from -625411456.00000\n",
      "1257/1257 [==============================] - 33s 26ms/step - loss: 0.3796 - accuracy: 0.8612 - val_loss: 0.3474 - val_accuracy: 0.8708 - lr: 1.2500e-05\n",
      "Epoch 27/50\n",
      "1256/1257 [============================>.] - ETA: 0s - loss: 0.3783 - accuracy: 0.8615\n",
      "Epoch 27: val_loss did not improve from -625411456.00000\n",
      "1257/1257 [==============================] - 32s 25ms/step - loss: 0.3783 - accuracy: 0.8615 - val_loss: 0.3464 - val_accuracy: 0.8707 - lr: 1.2500e-05\n",
      "Epoch 28/50\n",
      "1256/1257 [============================>.] - ETA: 0s - loss: 0.3761 - accuracy: 0.8621\n",
      "Epoch 28: val_loss did not improve from -625411456.00000\n",
      "1257/1257 [==============================] - 31s 25ms/step - loss: 0.3761 - accuracy: 0.8621 - val_loss: 0.3457 - val_accuracy: 0.8709 - lr: 1.2500e-05\n",
      "Epoch 29/50\n",
      "1255/1257 [============================>.] - ETA: 0s - loss: 0.3739 - accuracy: 0.8628\n",
      "Epoch 29: val_loss did not improve from -625411456.00000\n",
      "1257/1257 [==============================] - 33s 26ms/step - loss: 0.3739 - accuracy: 0.8628 - val_loss: 0.3440 - val_accuracy: 0.8713 - lr: 1.2500e-05\n",
      "Epoch 30/50\n",
      "1256/1257 [============================>.] - ETA: 0s - loss: 0.3722 - accuracy: 0.8636\n",
      "Epoch 30: val_loss did not improve from -625411456.00000\n",
      "1257/1257 [==============================] - 33s 26ms/step - loss: 0.3722 - accuracy: 0.8636 - val_loss: 0.3447 - val_accuracy: 0.8714 - lr: 1.2500e-05\n",
      "Epoch 31/50\n",
      "1255/1257 [============================>.] - ETA: 0s - loss: 0.3702 - accuracy: 0.8641\n",
      "Epoch 31: val_loss did not improve from -625411456.00000\n",
      "1257/1257 [==============================] - 33s 26ms/step - loss: 0.3702 - accuracy: 0.8641 - val_loss: 0.3430 - val_accuracy: 0.8719 - lr: 1.2500e-05\n",
      "Epoch 32/50\n",
      "1256/1257 [============================>.] - ETA: 0s - loss: 0.3684 - accuracy: 0.8644\n",
      "Epoch 32: val_loss did not improve from -625411456.00000\n",
      "1257/1257 [==============================] - 33s 26ms/step - loss: 0.3684 - accuracy: 0.8644 - val_loss: 0.3430 - val_accuracy: 0.8716 - lr: 1.2500e-05\n",
      "Epoch 33/50\n",
      "1255/1257 [============================>.] - ETA: 0s - loss: 0.3667 - accuracy: 0.8649\n",
      "Epoch 33: val_loss did not improve from -625411456.00000\n",
      "1257/1257 [==============================] - 32s 26ms/step - loss: 0.3667 - accuracy: 0.8649 - val_loss: 0.3410 - val_accuracy: 0.8729 - lr: 1.2500e-05\n",
      "Epoch 34/50\n",
      "1255/1257 [============================>.] - ETA: 0s - loss: 0.3653 - accuracy: 0.8655\n",
      "Epoch 34: val_loss did not improve from -625411456.00000\n",
      "1257/1257 [==============================] - 33s 26ms/step - loss: 0.3652 - accuracy: 0.8655 - val_loss: 0.3396 - val_accuracy: 0.8729 - lr: 1.2500e-05\n",
      "Epoch 35/50\n",
      "1255/1257 [============================>.] - ETA: 0s - loss: 0.3639 - accuracy: 0.8652\n",
      "Epoch 35: val_loss did not improve from -625411456.00000\n",
      "1257/1257 [==============================] - 33s 26ms/step - loss: 0.3639 - accuracy: 0.8652 - val_loss: 0.3403 - val_accuracy: 0.8729 - lr: 1.2500e-05\n",
      "Epoch 36/50\n",
      "1256/1257 [============================>.] - ETA: 0s - loss: 0.3621 - accuracy: 0.8662\n",
      "Epoch 36: val_loss did not improve from -625411456.00000\n",
      "1257/1257 [==============================] - 33s 26ms/step - loss: 0.3621 - accuracy: 0.8662 - val_loss: 0.3388 - val_accuracy: 0.8733 - lr: 1.2500e-05\n",
      "Epoch 37/50\n",
      "1256/1257 [============================>.] - ETA: 0s - loss: 0.3604 - accuracy: 0.8665\n",
      "Epoch 37: val_loss did not improve from -625411456.00000\n",
      "1257/1257 [==============================] - 33s 27ms/step - loss: 0.3604 - accuracy: 0.8665 - val_loss: 0.3381 - val_accuracy: 0.8735 - lr: 1.2500e-05\n",
      "Epoch 38/50\n",
      "1257/1257 [==============================] - ETA: 0s - loss: 0.3594 - accuracy: 0.8668\n",
      "Epoch 38: val_loss did not improve from -625411456.00000\n",
      "1257/1257 [==============================] - 32s 25ms/step - loss: 0.3594 - accuracy: 0.8668 - val_loss: 0.3381 - val_accuracy: 0.8736 - lr: 1.2500e-05\n",
      "Epoch 39/50\n",
      "1256/1257 [============================>.] - ETA: 0s - loss: 0.3579 - accuracy: 0.8674\n",
      "Epoch 39: val_loss did not improve from -625411456.00000\n",
      "1257/1257 [==============================] - 33s 26ms/step - loss: 0.3579 - accuracy: 0.8674 - val_loss: 0.3363 - val_accuracy: 0.8742 - lr: 1.2500e-05\n",
      "Epoch 40/50\n",
      "1255/1257 [============================>.] - ETA: 0s - loss: 0.3573 - accuracy: 0.8675\n",
      "Epoch 40: val_loss did not improve from -625411456.00000\n",
      "1257/1257 [==============================] - 33s 26ms/step - loss: 0.3572 - accuracy: 0.8675 - val_loss: 0.3375 - val_accuracy: 0.8737 - lr: 1.2500e-05\n",
      "Epoch 41/50\n",
      "1256/1257 [============================>.] - ETA: 0s - loss: 0.3563 - accuracy: 0.8680\n",
      "Epoch 41: val_loss did not improve from -625411456.00000\n",
      "1257/1257 [==============================] - 33s 27ms/step - loss: 0.3564 - accuracy: 0.8680 - val_loss: 0.3350 - val_accuracy: 0.8741 - lr: 1.2500e-05\n",
      "Epoch 42/50\n",
      "1256/1257 [============================>.] - ETA: 0s - loss: 0.3549 - accuracy: 0.8684\n",
      "Epoch 42: val_loss did not improve from -625411456.00000\n",
      "1257/1257 [==============================] - 33s 26ms/step - loss: 0.3549 - accuracy: 0.8684 - val_loss: 0.3352 - val_accuracy: 0.8738 - lr: 1.2500e-05\n",
      "Epoch 43/50\n",
      "1255/1257 [============================>.] - ETA: 0s - loss: 0.3533 - accuracy: 0.8690\n",
      "Epoch 43: val_loss did not improve from -625411456.00000\n",
      "1257/1257 [==============================] - 33s 26ms/step - loss: 0.3533 - accuracy: 0.8690 - val_loss: 0.3353 - val_accuracy: 0.8742 - lr: 1.2500e-05\n",
      "Epoch 44/50\n",
      "1255/1257 [============================>.] - ETA: 0s - loss: 0.3532 - accuracy: 0.8686\n",
      "Epoch 44: val_loss did not improve from -625411456.00000\n",
      "1257/1257 [==============================] - 33s 26ms/step - loss: 0.3532 - accuracy: 0.8686 - val_loss: 0.3346 - val_accuracy: 0.8733 - lr: 1.2500e-05\n",
      "Epoch 45/50\n",
      "1256/1257 [============================>.] - ETA: 0s - loss: 0.3514 - accuracy: 0.8691\n",
      "Epoch 45: val_loss did not improve from -625411456.00000\n",
      "1257/1257 [==============================] - 33s 26ms/step - loss: 0.3514 - accuracy: 0.8691 - val_loss: 0.3324 - val_accuracy: 0.8745 - lr: 1.2500e-05\n",
      "Epoch 46/50\n",
      "1256/1257 [============================>.] - ETA: 0s - loss: 0.3504 - accuracy: 0.8697\n",
      "Epoch 46: val_loss did not improve from -625411456.00000\n",
      "1257/1257 [==============================] - 33s 26ms/step - loss: 0.3504 - accuracy: 0.8697 - val_loss: 0.3335 - val_accuracy: 0.8745 - lr: 1.2500e-05\n",
      "Epoch 47/50\n",
      "1255/1257 [============================>.] - ETA: 0s - loss: 0.3494 - accuracy: 0.8697\n",
      "Epoch 47: val_loss did not improve from -625411456.00000\n",
      "1257/1257 [==============================] - 32s 26ms/step - loss: 0.3494 - accuracy: 0.8697 - val_loss: 0.3322 - val_accuracy: 0.8748 - lr: 1.2500e-05\n",
      "Epoch 48/50\n",
      "1256/1257 [============================>.] - ETA: 0s - loss: 0.3488 - accuracy: 0.8700\n",
      "Epoch 48: val_loss did not improve from -625411456.00000\n",
      "1257/1257 [==============================] - 32s 26ms/step - loss: 0.3488 - accuracy: 0.8700 - val_loss: 0.3313 - val_accuracy: 0.8755 - lr: 1.2500e-05\n",
      "Epoch 49/50\n",
      "1257/1257 [==============================] - ETA: 0s - loss: 0.3478 - accuracy: 0.8699\n",
      "Epoch 49: val_loss did not improve from -625411456.00000\n",
      "1257/1257 [==============================] - 32s 25ms/step - loss: 0.3478 - accuracy: 0.8699 - val_loss: 0.3328 - val_accuracy: 0.8748 - lr: 1.2500e-05\n",
      "Epoch 50/50\n",
      "1257/1257 [==============================] - ETA: 0s - loss: 0.3468 - accuracy: 0.8704\n",
      "Epoch 50: val_loss did not improve from -625411456.00000\n",
      "1257/1257 [==============================] - 32s 25ms/step - loss: 0.3468 - accuracy: 0.8704 - val_loss: 0.3318 - val_accuracy: 0.8742 - lr: 1.2500e-05\n",
      "3636/3636 [==============================] - 9s 2ms/step - loss: 0.3263 - accuracy: 0.8761\n",
      "Epoch 1/50\n"
     ]
    },
    {
     "name": "stderr",
     "output_type": "stream",
     "text": [
      "2024-06-01 22:03:04.384824: E tensorflow/core/grappler/optimizers/meta_optimizer.cc:961] layout failed: INVALID_ARGUMENT: Size of values 0 does not match size of permutation 4 @ fanin shape inmodel_3/dropout_15/dropout/SelectV2-2-TransposeNHWCToNCHW-LayoutOptimizer\n"
     ]
    },
    {
     "name": "stdout",
     "output_type": "stream",
     "text": [
      "1255/1257 [============================>.] - ETA: 0s - loss: 60.8555 - accuracy: 0.0164\n",
      "Epoch 1: val_loss did not improve from -625411456.00000\n",
      "1257/1257 [==============================] - 35s 25ms/step - loss: 60.8542 - accuracy: 0.0164 - val_loss: 58.9657 - val_accuracy: 0.0122 - lr: 1.2500e-05\n",
      "Epoch 2/50\n",
      "1256/1257 [============================>.] - ETA: 0s - loss: 59.6523 - accuracy: 0.0165\n",
      "Epoch 2: val_loss did not improve from -625411456.00000\n",
      "1257/1257 [==============================] - 32s 25ms/step - loss: 59.6524 - accuracy: 0.0165 - val_loss: 58.8974 - val_accuracy: 0.0188 - lr: 1.2500e-05\n",
      "Epoch 3/50\n",
      "1256/1257 [============================>.] - ETA: 0s - loss: 58.9662 - accuracy: 0.0163\n",
      "Epoch 3: val_loss did not improve from -625411456.00000\n",
      "1257/1257 [==============================] - 32s 26ms/step - loss: 58.9661 - accuracy: 0.0163 - val_loss: 58.8858 - val_accuracy: 0.0199 - lr: 1.2500e-05\n",
      "Epoch 4/50\n",
      "1255/1257 [============================>.] - ETA: 0s - loss: 58.9054 - accuracy: 0.0163\n",
      "Epoch 4: val_loss did not improve from -625411456.00000\n",
      "1257/1257 [==============================] - 33s 26ms/step - loss: 58.9051 - accuracy: 0.0163 - val_loss: 58.8848 - val_accuracy: 0.0191 - lr: 1.2500e-05\n",
      "Epoch 5/50\n",
      "1257/1257 [==============================] - ETA: 0s - loss: 58.8813 - accuracy: 0.0167\n",
      "Epoch 5: val_loss did not improve from -625411456.00000\n",
      "1257/1257 [==============================] - 32s 26ms/step - loss: 58.8813 - accuracy: 0.0167 - val_loss: 58.8844 - val_accuracy: 0.0184 - lr: 1.2500e-05\n",
      "Epoch 6/50\n",
      "1256/1257 [============================>.] - ETA: 0s - loss: 58.8702 - accuracy: 0.0164\n",
      "Epoch 6: val_loss did not improve from -625411456.00000\n",
      "1257/1257 [==============================] - 32s 26ms/step - loss: 58.8700 - accuracy: 0.0164 - val_loss: 58.8842 - val_accuracy: 0.0193 - lr: 1.2500e-05\n",
      "Epoch 7/50\n",
      "1255/1257 [============================>.] - ETA: 0s - loss: 58.8648 - accuracy: 0.0165\n",
      "Epoch 7: val_loss did not improve from -625411456.00000\n",
      "1257/1257 [==============================] - 33s 26ms/step - loss: 58.8642 - accuracy: 0.0165 - val_loss: 58.8841 - val_accuracy: 0.0196 - lr: 1.2500e-05\n",
      "Epoch 8/50\n",
      "1255/1257 [============================>.] - ETA: 0s - loss: 58.8616 - accuracy: 0.0161\n",
      "Epoch 8: val_loss did not improve from -625411456.00000\n",
      "1257/1257 [==============================] - 33s 26ms/step - loss: 58.8617 - accuracy: 0.0161 - val_loss: 58.8841 - val_accuracy: 0.0177 - lr: 1.2500e-05\n",
      "Epoch 9/50\n",
      "1257/1257 [==============================] - ETA: 0s - loss: 58.8575 - accuracy: 0.0164\n",
      "Epoch 9: val_loss did not improve from -625411456.00000\n",
      "1257/1257 [==============================] - 33s 26ms/step - loss: 58.8575 - accuracy: 0.0164 - val_loss: 58.8840 - val_accuracy: 0.0187 - lr: 1.2500e-05\n",
      "Epoch 10/50\n",
      "1257/1257 [==============================] - ETA: 0s - loss: 58.8568 - accuracy: 0.0161\n",
      "Epoch 10: val_loss did not improve from -625411456.00000\n",
      "1257/1257 [==============================] - 32s 26ms/step - loss: 58.8568 - accuracy: 0.0161 - val_loss: 58.8840 - val_accuracy: 0.0141 - lr: 1.2500e-05\n",
      "Epoch 11/50\n",
      "1256/1257 [============================>.] - ETA: 0s - loss: 58.8557 - accuracy: 0.0162\n",
      "Epoch 11: val_loss did not improve from -625411456.00000\n",
      "1257/1257 [==============================] - 32s 26ms/step - loss: 58.8556 - accuracy: 0.0162 - val_loss: 58.8840 - val_accuracy: 0.0168 - lr: 1.2500e-05\n",
      "Epoch 12/50\n",
      "1255/1257 [============================>.] - ETA: 0s - loss: 58.8554 - accuracy: 0.0160\n",
      "Epoch 12: val_loss did not improve from -625411456.00000\n",
      "1257/1257 [==============================] - 33s 26ms/step - loss: 58.8553 - accuracy: 0.0160 - val_loss: 58.8840 - val_accuracy: 0.0175 - lr: 6.2500e-06\n",
      "Epoch 13/50\n",
      "1256/1257 [============================>.] - ETA: 0s - loss: 58.8548 - accuracy: 0.0162\n",
      "Epoch 13: val_loss did not improve from -625411456.00000\n",
      "1257/1257 [==============================] - 33s 26ms/step - loss: 58.8549 - accuracy: 0.0162 - val_loss: 58.8840 - val_accuracy: 0.0198 - lr: 6.2500e-06\n",
      "3636/3636 [==============================] - 12s 3ms/step - loss: 58.8471 - accuracy: 0.0177\n"
     ]
    }
   ],
   "source": [
    "_train_losses(model_default, x_train, y_train_int, (x_valid, y_valid_int))\n",
    "_train_losses(model_focal, x_train, y_train_int, (x_valid, y_valid_int))"
   ]
  },
  {
   "cell_type": "code",
   "execution_count": 27,
   "metadata": {},
   "outputs": [
    {
     "ename": "ValueError",
     "evalue": "All arrays must be of the same length",
     "output_type": "error",
     "traceback": [
      "\u001b[0;31m---------------------------------------------------------------------------\u001b[0m",
      "\u001b[0;31mValueError\u001b[0m                                Traceback (most recent call last)",
      "Cell \u001b[0;32mIn[27], line 1\u001b[0m\n\u001b[0;32m----> 1\u001b[0m results_df \u001b[38;5;241m=\u001b[39m \u001b[43mpd\u001b[49m\u001b[38;5;241;43m.\u001b[39;49m\u001b[43mDataFrame\u001b[49m\u001b[43m(\u001b[49m\u001b[43mresults\u001b[49m\u001b[43m)\u001b[49m\n\u001b[1;32m      2\u001b[0m results_df\u001b[38;5;241m.\u001b[39mto_csv(\u001b[38;5;124mf\u001b[39m\u001b[38;5;124m'\u001b[39m\u001b[38;5;132;01m{\u001b[39;00mresult_path\u001b[38;5;132;01m}\u001b[39;00m\u001b[38;5;124m/result_losses_\u001b[39m\u001b[38;5;132;01m{\u001b[39;00m_time\u001b[38;5;132;01m}\u001b[39;00m\u001b[38;5;124m.csv\u001b[39m\u001b[38;5;124m'\u001b[39m, index\u001b[38;5;241m=\u001b[39m\u001b[38;5;28;01mFalse\u001b[39;00m)\n",
      "File \u001b[0;32m~/anaconda3/envs/ann/lib/python3.10/site-packages/pandas/core/frame.py:778\u001b[0m, in \u001b[0;36mDataFrame.__init__\u001b[0;34m(self, data, index, columns, dtype, copy)\u001b[0m\n\u001b[1;32m    772\u001b[0m     mgr \u001b[38;5;241m=\u001b[39m \u001b[38;5;28mself\u001b[39m\u001b[38;5;241m.\u001b[39m_init_mgr(\n\u001b[1;32m    773\u001b[0m         data, axes\u001b[38;5;241m=\u001b[39m{\u001b[38;5;124m\"\u001b[39m\u001b[38;5;124mindex\u001b[39m\u001b[38;5;124m\"\u001b[39m: index, \u001b[38;5;124m\"\u001b[39m\u001b[38;5;124mcolumns\u001b[39m\u001b[38;5;124m\"\u001b[39m: columns}, dtype\u001b[38;5;241m=\u001b[39mdtype, copy\u001b[38;5;241m=\u001b[39mcopy\n\u001b[1;32m    774\u001b[0m     )\n\u001b[1;32m    776\u001b[0m \u001b[38;5;28;01melif\u001b[39;00m \u001b[38;5;28misinstance\u001b[39m(data, \u001b[38;5;28mdict\u001b[39m):\n\u001b[1;32m    777\u001b[0m     \u001b[38;5;66;03m# GH#38939 de facto copy defaults to False only in non-dict cases\u001b[39;00m\n\u001b[0;32m--> 778\u001b[0m     mgr \u001b[38;5;241m=\u001b[39m \u001b[43mdict_to_mgr\u001b[49m\u001b[43m(\u001b[49m\u001b[43mdata\u001b[49m\u001b[43m,\u001b[49m\u001b[43m \u001b[49m\u001b[43mindex\u001b[49m\u001b[43m,\u001b[49m\u001b[43m \u001b[49m\u001b[43mcolumns\u001b[49m\u001b[43m,\u001b[49m\u001b[43m \u001b[49m\u001b[43mdtype\u001b[49m\u001b[38;5;241;43m=\u001b[39;49m\u001b[43mdtype\u001b[49m\u001b[43m,\u001b[49m\u001b[43m \u001b[49m\u001b[43mcopy\u001b[49m\u001b[38;5;241;43m=\u001b[39;49m\u001b[43mcopy\u001b[49m\u001b[43m,\u001b[49m\u001b[43m \u001b[49m\u001b[43mtyp\u001b[49m\u001b[38;5;241;43m=\u001b[39;49m\u001b[43mmanager\u001b[49m\u001b[43m)\u001b[49m\n\u001b[1;32m    779\u001b[0m \u001b[38;5;28;01melif\u001b[39;00m \u001b[38;5;28misinstance\u001b[39m(data, ma\u001b[38;5;241m.\u001b[39mMaskedArray):\n\u001b[1;32m    780\u001b[0m     \u001b[38;5;28;01mfrom\u001b[39;00m \u001b[38;5;21;01mnumpy\u001b[39;00m\u001b[38;5;21;01m.\u001b[39;00m\u001b[38;5;21;01mma\u001b[39;00m \u001b[38;5;28;01mimport\u001b[39;00m mrecords\n",
      "File \u001b[0;32m~/anaconda3/envs/ann/lib/python3.10/site-packages/pandas/core/internals/construction.py:503\u001b[0m, in \u001b[0;36mdict_to_mgr\u001b[0;34m(data, index, columns, dtype, typ, copy)\u001b[0m\n\u001b[1;32m    499\u001b[0m     \u001b[38;5;28;01melse\u001b[39;00m:\n\u001b[1;32m    500\u001b[0m         \u001b[38;5;66;03m# dtype check to exclude e.g. range objects, scalars\u001b[39;00m\n\u001b[1;32m    501\u001b[0m         arrays \u001b[38;5;241m=\u001b[39m [x\u001b[38;5;241m.\u001b[39mcopy() \u001b[38;5;28;01mif\u001b[39;00m \u001b[38;5;28mhasattr\u001b[39m(x, \u001b[38;5;124m\"\u001b[39m\u001b[38;5;124mdtype\u001b[39m\u001b[38;5;124m\"\u001b[39m) \u001b[38;5;28;01melse\u001b[39;00m x \u001b[38;5;28;01mfor\u001b[39;00m x \u001b[38;5;129;01min\u001b[39;00m arrays]\n\u001b[0;32m--> 503\u001b[0m \u001b[38;5;28;01mreturn\u001b[39;00m \u001b[43marrays_to_mgr\u001b[49m\u001b[43m(\u001b[49m\u001b[43marrays\u001b[49m\u001b[43m,\u001b[49m\u001b[43m \u001b[49m\u001b[43mcolumns\u001b[49m\u001b[43m,\u001b[49m\u001b[43m \u001b[49m\u001b[43mindex\u001b[49m\u001b[43m,\u001b[49m\u001b[43m \u001b[49m\u001b[43mdtype\u001b[49m\u001b[38;5;241;43m=\u001b[39;49m\u001b[43mdtype\u001b[49m\u001b[43m,\u001b[49m\u001b[43m \u001b[49m\u001b[43mtyp\u001b[49m\u001b[38;5;241;43m=\u001b[39;49m\u001b[43mtyp\u001b[49m\u001b[43m,\u001b[49m\u001b[43m \u001b[49m\u001b[43mconsolidate\u001b[49m\u001b[38;5;241;43m=\u001b[39;49m\u001b[43mcopy\u001b[49m\u001b[43m)\u001b[49m\n",
      "File \u001b[0;32m~/anaconda3/envs/ann/lib/python3.10/site-packages/pandas/core/internals/construction.py:114\u001b[0m, in \u001b[0;36marrays_to_mgr\u001b[0;34m(arrays, columns, index, dtype, verify_integrity, typ, consolidate)\u001b[0m\n\u001b[1;32m    111\u001b[0m \u001b[38;5;28;01mif\u001b[39;00m verify_integrity:\n\u001b[1;32m    112\u001b[0m     \u001b[38;5;66;03m# figure out the index, if necessary\u001b[39;00m\n\u001b[1;32m    113\u001b[0m     \u001b[38;5;28;01mif\u001b[39;00m index \u001b[38;5;129;01mis\u001b[39;00m \u001b[38;5;28;01mNone\u001b[39;00m:\n\u001b[0;32m--> 114\u001b[0m         index \u001b[38;5;241m=\u001b[39m \u001b[43m_extract_index\u001b[49m\u001b[43m(\u001b[49m\u001b[43marrays\u001b[49m\u001b[43m)\u001b[49m\n\u001b[1;32m    115\u001b[0m     \u001b[38;5;28;01melse\u001b[39;00m:\n\u001b[1;32m    116\u001b[0m         index \u001b[38;5;241m=\u001b[39m ensure_index(index)\n",
      "File \u001b[0;32m~/anaconda3/envs/ann/lib/python3.10/site-packages/pandas/core/internals/construction.py:677\u001b[0m, in \u001b[0;36m_extract_index\u001b[0;34m(data)\u001b[0m\n\u001b[1;32m    675\u001b[0m lengths \u001b[38;5;241m=\u001b[39m \u001b[38;5;28mlist\u001b[39m(\u001b[38;5;28mset\u001b[39m(raw_lengths))\n\u001b[1;32m    676\u001b[0m \u001b[38;5;28;01mif\u001b[39;00m \u001b[38;5;28mlen\u001b[39m(lengths) \u001b[38;5;241m>\u001b[39m \u001b[38;5;241m1\u001b[39m:\n\u001b[0;32m--> 677\u001b[0m     \u001b[38;5;28;01mraise\u001b[39;00m \u001b[38;5;167;01mValueError\u001b[39;00m(\u001b[38;5;124m\"\u001b[39m\u001b[38;5;124mAll arrays must be of the same length\u001b[39m\u001b[38;5;124m\"\u001b[39m)\n\u001b[1;32m    679\u001b[0m \u001b[38;5;28;01mif\u001b[39;00m have_dicts:\n\u001b[1;32m    680\u001b[0m     \u001b[38;5;28;01mraise\u001b[39;00m \u001b[38;5;167;01mValueError\u001b[39;00m(\n\u001b[1;32m    681\u001b[0m         \u001b[38;5;124m\"\u001b[39m\u001b[38;5;124mMixing dicts with non-Series may lead to ambiguous ordering.\u001b[39m\u001b[38;5;124m\"\u001b[39m\n\u001b[1;32m    682\u001b[0m     )\n",
      "\u001b[0;31mValueError\u001b[0m: All arrays must be of the same length"
     ]
    }
   ],
   "source": [
    "results_df = pd.DataFrame(results)\n",
    "results_df.to_csv(f'{result_path}/result_losses_{_time}.csv', index=False)"
   ]
  },
  {
   "cell_type": "code",
   "execution_count": null,
   "metadata": {},
   "outputs": [],
   "source": [
    "for i, h in enumerate(history):\n",
    "    history_dict = {key: list(map(float, value)) for key, value in h.history.items()}\n",
    "    save_history(history_dict, f'history_losses_{i}_{_time}.json')"
   ]
  },
  {
   "cell_type": "code",
   "execution_count": null,
   "metadata": {},
   "outputs": [
    {
     "data": {
      "image/png": "[encoded data removed]",
      "text/plain": [
       "<Figure size 1200x600 with 2 Axes>"
      ]
     },
     "metadata": {},
     "output_type": "display_data"
    }
   ],
   "source": [
    "colors = [\"red\", \"blue\", \"green\", \"purple\", \"gold\", \"orange\", \"cyan\", \"magenta\", \"brown\", \"pink\"]\n",
    "\n",
    "\n",
    "plt.figure(figsize=(12, 6))\n",
    "\n",
    "plt.subplot(121)\n",
    "for idx, hist in enumerate(history):\n",
    "    plt.plot(hist.history['loss'], label=f'{results[\"Loss Function\"][idx]}', color=colors[idx])\n",
    "    plt.title(f'Train Loss')\n",
    "    plt.xlabel('Epochs')\n",
    "    plt.ylabel('Loss')\n",
    "    plt.xlim([0, EPOCHS])\n",
    "    plt.grid(True)\n",
    "    plt.legend()\n",
    "plt.subplot(122)\n",
    "for idx, hist in enumerate(history):\n",
    "    plt.plot(hist.history['accuracy'], label=f'{results[\"Loss Function\"][idx]}', color=colors[idx])\n",
    "    plt.title(f'Train Accuracy')\n",
    "    plt.xlabel('Epochs')\n",
    "    plt.ylabel('Accuracy')\n",
    "    plt.xlim([0, EPOCHS])\n",
    "    plt.ylim([0.8, 1])\n",
    "    plt.grid(True)\n",
    "    plt.legend()\n",
    "\n",
    "plt.tight_layout()\n",
    "plt.savefig(f\"{result_path}/result_losses_{_time}.png\")\n",
    "plt.show()"
   ]
  }
 ],
 "metadata": {
  "kernelspec": {
   "display_name": "ann",
   "language": "python",
   "name": "python3"
  },
  "language_info": {
   "codemirror_mode": {
    "name": "ipython",
    "version": 3
   },
   "file_extension": ".py",
   "mimetype": "text/x-python",
   "name": "python",
   "nbconvert_exporter": "python",
   "pygments_lexer": "ipython3",
   "version": "3.10.14"
  }
 },
 "nbformat": 4,
 "nbformat_minor": 2
}
